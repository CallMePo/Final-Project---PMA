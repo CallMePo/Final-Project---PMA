{
 "cells": [
  {
   "cell_type": "code",
   "execution_count": 55,
   "id": "initial_id",
   "metadata": {
    "ExecuteTime": {
     "end_time": "2023-12-14T05:57:07.143162200Z",
     "start_time": "2023-12-14T05:57:07.122620600Z"
    },
    "collapsed": true
   },
   "outputs": [],
   "source": [
    "import pandas as pd\n",
    "import numpy as np\n",
    "import matplotlib.pyplot as plt\n",
    "import tensorflow\n",
    "from sklearn.preprocessing import StandardScaler\n",
    "from sklearn.model_selection import train_test_split\n",
    "import seaborn as sns\n",
    "from sklearn.metrics import r2_score, mean_squared_error,mean_squared_log_error, mean_absolute_percentage_error\n",
    "from tensorflow.keras.models import Sequential\n",
    "from keras.models import Sequential\n",
    "from keras.layers import SimpleRNN, Dense\n",
    "from tabulate import tabulate\n",
    "from keras.models import Sequential\n",
    "\n",
    "import sklearn.preprocessing\n",
    "from sklearn.metrics import r2_score\n",
    "from sklearn.preprocessing import MinMaxScaler\n",
    "from sklearn.model_selection import train_test_split\n",
    "from sklearn.metrics import mean_absolute_error, mean_squared_error\n",
    "from tensorflow.keras.callbacks import EarlyStopping\n",
    "from keras.layers import Dense,Dropout,SimpleRNN,LSTM,GRU\n",
    "from keras.models import Sequential\n",
    "from tensorflow import keras"
   ]
  },
  {
   "cell_type": "code",
   "execution_count": 56,
   "id": "be5dc4a177533396",
   "metadata": {
    "ExecuteTime": {
     "end_time": "2023-12-14T05:57:12.930512400Z",
     "start_time": "2023-12-14T05:57:12.835809400Z"
    },
    "collapsed": false
   },
   "outputs": [
    {
     "data": {
      "text/html": [
       "<div>\n",
       "<style scoped>\n",
       "    .dataframe tbody tr th:only-of-type {\n",
       "        vertical-align: middle;\n",
       "    }\n",
       "\n",
       "    .dataframe tbody tr th {\n",
       "        vertical-align: top;\n",
       "    }\n",
       "\n",
       "    .dataframe thead th {\n",
       "        text-align: right;\n",
       "    }\n",
       "</style>\n",
       "<table border=\"1\" class=\"dataframe\">\n",
       "  <thead>\n",
       "    <tr style=\"text-align: right;\">\n",
       "      <th></th>\n",
       "      <th>datetime</th>\n",
       "      <th>total_visitor</th>\n",
       "      <th>total_accomodation</th>\n",
       "    </tr>\n",
       "  </thead>\n",
       "  <tbody>\n",
       "    <tr>\n",
       "      <th>0</th>\n",
       "      <td>1/1/2014</td>\n",
       "      <td>164430</td>\n",
       "      <td>10055</td>\n",
       "    </tr>\n",
       "    <tr>\n",
       "      <th>1</th>\n",
       "      <td>2/1/2014</td>\n",
       "      <td>137055</td>\n",
       "      <td>10079</td>\n",
       "    </tr>\n",
       "    <tr>\n",
       "      <th>2</th>\n",
       "      <td>3/1/2014</td>\n",
       "      <td>167030</td>\n",
       "      <td>10132</td>\n",
       "    </tr>\n",
       "    <tr>\n",
       "      <th>3</th>\n",
       "      <td>4/1/2014</td>\n",
       "      <td>151982</td>\n",
       "      <td>10190</td>\n",
       "    </tr>\n",
       "    <tr>\n",
       "      <th>4</th>\n",
       "      <td>5/1/2014</td>\n",
       "      <td>154299</td>\n",
       "      <td>10274</td>\n",
       "    </tr>\n",
       "    <tr>\n",
       "      <th>...</th>\n",
       "      <td>...</td>\n",
       "      <td>...</td>\n",
       "      <td>...</td>\n",
       "    </tr>\n",
       "    <tr>\n",
       "      <th>103</th>\n",
       "      <td>8/1/2022</td>\n",
       "      <td>79470</td>\n",
       "      <td>15449</td>\n",
       "    </tr>\n",
       "    <tr>\n",
       "      <th>104</th>\n",
       "      <td>9/1/2022</td>\n",
       "      <td>104652</td>\n",
       "      <td>15502</td>\n",
       "    </tr>\n",
       "    <tr>\n",
       "      <th>105</th>\n",
       "      <td>10/1/2022</td>\n",
       "      <td>106160</td>\n",
       "      <td>15525</td>\n",
       "    </tr>\n",
       "    <tr>\n",
       "      <th>106</th>\n",
       "      <td>11/1/2022</td>\n",
       "      <td>103940</td>\n",
       "      <td>15612</td>\n",
       "    </tr>\n",
       "    <tr>\n",
       "      <th>107</th>\n",
       "      <td>12/1/2022</td>\n",
       "      <td>188544</td>\n",
       "      <td>16229</td>\n",
       "    </tr>\n",
       "  </tbody>\n",
       "</table>\n",
       "<p>108 rows × 3 columns</p>\n",
       "</div>"
      ],
      "text/plain": [
       "      datetime  total_visitor  total_accomodation\n",
       "0     1/1/2014         164430               10055\n",
       "1     2/1/2014         137055               10079\n",
       "2     3/1/2014         167030               10132\n",
       "3     4/1/2014         151982               10190\n",
       "4     5/1/2014         154299               10274\n",
       "..         ...            ...                 ...\n",
       "103   8/1/2022          79470               15449\n",
       "104   9/1/2022         104652               15502\n",
       "105  10/1/2022         106160               15525\n",
       "106  11/1/2022         103940               15612\n",
       "107  12/1/2022         188544               16229\n",
       "\n",
       "[108 rows x 3 columns]"
      ]
     },
     "execution_count": 56,
     "metadata": {},
     "output_type": "execute_result"
    }
   ],
   "source": [
    "df=pd.read_csv('KepRiau 2015 - 2022.csv')\n",
    "df"
   ]
  },
  {
   "cell_type": "code",
   "execution_count": 57,
   "id": "68acaa5f76919fc0",
   "metadata": {
    "ExecuteTime": {
     "end_time": "2023-12-14T05:57:13.975328100Z",
     "start_time": "2023-12-14T05:57:13.927697800Z"
    },
    "collapsed": false
   },
   "outputs": [
    {
     "data": {
      "text/plain": [
       "0     2014-01-01\n",
       "1     2014-02-01\n",
       "2     2014-03-01\n",
       "3     2014-04-01\n",
       "4     2014-05-01\n",
       "         ...    \n",
       "103   2022-08-01\n",
       "104   2022-09-01\n",
       "105   2022-10-01\n",
       "106   2022-11-01\n",
       "107   2022-12-01\n",
       "Name: datetime, Length: 108, dtype: datetime64[ns]"
      ]
     },
     "execution_count": 57,
     "metadata": {},
     "output_type": "execute_result"
    }
   ],
   "source": [
    "train_datetime=pd.to_datetime(df['datetime'])\n",
    "train_datetime"
   ]
  },
  {
   "cell_type": "code",
   "execution_count": 58,
   "id": "8b248dcbb9937638",
   "metadata": {
    "ExecuteTime": {
     "end_time": "2023-12-14T05:57:14.851207100Z",
     "start_time": "2023-12-14T05:57:14.817543700Z"
    },
    "collapsed": false
   },
   "outputs": [],
   "source": [
    "selected_columns = ['total_visitor','total_accomodation']\n",
    "data_train = df.loc[:, selected_columns].astype(float)"
   ]
  },
  {
   "cell_type": "code",
   "execution_count": 59,
   "id": "4912fca4cc2997b1",
   "metadata": {
    "ExecuteTime": {
     "end_time": "2023-12-14T05:57:15.633432900Z",
     "start_time": "2023-12-14T05:57:15.561171Z"
    },
    "collapsed": false
   },
   "outputs": [],
   "source": [
    "scaler = MinMaxScaler()\n",
    "data_scaled = scaler.fit_transform(data_train)\n"
   ]
  },
  {
   "cell_type": "code",
   "execution_count": 60,
   "id": "602281cf20978b53",
   "metadata": {
    "ExecuteTime": {
     "end_time": "2023-12-14T05:57:16.193054Z",
     "start_time": "2023-12-14T05:57:16.135175300Z"
    },
    "collapsed": false
   },
   "outputs": [],
   "source": [
    "n_future=1\n",
    "n_step=12\n",
    "\n",
    "X_train=[]\n",
    "y_train=[]\n",
    "for i in range (n_step, len(scaled_data_train)-n_future+1):\n",
    "    past_data = scaled_data_train[i-n_step:i, 0:scaled_data_train.shape[1]]\n",
    "    future_data=scaled_data_train[i+n_future - 1:i +n_future,0]\n",
    "    \n",
    "    X_train.append(past_data)\n",
    "    y_train.append(future_data)\n",
    "\n",
    "X_train=np.array(X_train)\n",
    "y_train=np.array(y_train)"
   ]
  },
  {
   "cell_type": "code",
   "execution_count": 61,
   "id": "c40f84d2d3135629",
   "metadata": {
    "ExecuteTime": {
     "end_time": "2023-12-14T05:57:17.238790600Z",
     "start_time": "2023-12-14T05:57:17.143076400Z"
    },
    "collapsed": false
   },
   "outputs": [],
   "source": [
    "X_train, X_test, y_train, y_test=train_test_split(X_train,y_train, test_size=0.2, random_state=42)"
   ]
  },
  {
   "cell_type": "code",
   "execution_count": 62,
   "id": "7fcfdf7879f08e6",
   "metadata": {
    "ExecuteTime": {
     "end_time": "2023-12-14T05:57:17.762333900Z",
     "start_time": "2023-12-14T05:57:17.732672700Z"
    },
    "collapsed": false
   },
   "outputs": [
    {
     "name": "stdout",
     "output_type": "stream",
     "text": [
      "(76, 12, 2)\n",
      "(76, 1)\n",
      "(20, 12, 2)\n",
      "(20, 1)\n"
     ]
    }
   ],
   "source": [
    "print(X_train.shape)\n",
    "print(y_train.shape)\n",
    "print(X_test.shape)\n",
    "print(y_test.shape)"
   ]
  },
  {
   "cell_type": "code",
   "execution_count": 63,
   "id": "78200b99aac78764",
   "metadata": {
    "ExecuteTime": {
     "end_time": "2023-12-14T05:56:46.804711800Z",
     "start_time": "2023-12-14T05:56:46.793880100Z"
    },
    "collapsed": false
   },
   "outputs": [],
   "source": [
    "model=Sequential()\n",
    "model.add(SimpleRNN(64, activation='tanh', input_shape=(X_train.shape[1], X_train.shape[2])))\n",
    "model.add(Dense(y_train.shape[1]))"
   ]
  },
  {
   "cell_type": "code",
   "execution_count": 64,
   "id": "5e3b35cd3e23d3e0",
   "metadata": {
    "ExecuteTime": {
     "end_time": "2023-12-14T05:48:20.248064700Z",
     "start_time": "2023-12-14T05:48:20.189537100Z"
    },
    "collapsed": false
   },
   "outputs": [
    {
     "name": "stdout",
     "output_type": "stream",
     "text": [
      "Model: \"sequential_2\"\n",
      "_________________________________________________________________\n",
      " Layer (type)                Output Shape              Param #   \n",
      "=================================================================\n",
      " simple_rnn_2 (SimpleRNN)    (None, 64)                4288      \n",
      "                                                                 \n",
      " dense_2 (Dense)             (None, 1)                 65        \n",
      "                                                                 \n",
      "=================================================================\n",
      "Total params: 4353 (17.00 KB)\n",
      "Trainable params: 4353 (17.00 KB)\n",
      "Non-trainable params: 0 (0.00 Byte)\n",
      "_________________________________________________________________\n"
     ]
    }
   ],
   "source": [
    "model.summary()"
   ]
  },
  {
   "cell_type": "code",
   "execution_count": 65,
   "id": "bba889a82030b6a1",
   "metadata": {
    "ExecuteTime": {
     "start_time": "2023-12-14T05:48:20.195088800Z"
    },
    "collapsed": false
   },
   "outputs": [],
   "source": [
    "model.compile(optimizer='adam', loss='mean_squared_error')"
   ]
  },
  {
   "cell_type": "code",
   "execution_count": 66,
   "id": "59ad9b2a1b0f2d9",
   "metadata": {
    "ExecuteTime": {
     "start_time": "2023-12-14T05:48:20.196865100Z"
    },
    "collapsed": false
   },
   "outputs": [
    {
     "name": "stdout",
     "output_type": "stream",
     "text": [
      "Epoch 1/100\n"
     ]
    },
    {
     "name": "stdout",
     "output_type": "stream",
     "text": [
      "3/3 [==============================] - 1s 4ms/step - loss: 1.8230\n",
      "Epoch 2/100\n",
      "3/3 [==============================] - 0s 5ms/step - loss: 0.7698\n",
      "Epoch 3/100\n",
      "3/3 [==============================] - 0s 1ms/step - loss: 0.8026\n",
      "Epoch 4/100\n",
      "3/3 [==============================] - 0s 0s/step - loss: 0.5778\n",
      "Epoch 5/100\n",
      "3/3 [==============================] - 0s 0s/step - loss: 0.3474\n",
      "Epoch 6/100\n",
      "3/3 [==============================] - 0s 0s/step - loss: 0.3703\n",
      "Epoch 7/100\n",
      "3/3 [==============================] - 0s 0s/step - loss: 0.3816\n",
      "Epoch 8/100\n",
      "3/3 [==============================] - 0s 4ms/step - loss: 0.2948\n",
      "Epoch 9/100\n",
      "3/3 [==============================] - 0s 9ms/step - loss: 0.2550\n",
      "Epoch 10/100\n",
      "3/3 [==============================] - 0s 8ms/step - loss: 0.2645\n",
      "Epoch 11/100\n",
      "3/3 [==============================] - 0s 19ms/step - loss: 0.2568\n",
      "Epoch 12/100\n",
      "3/3 [==============================] - 0s 508us/step - loss: 0.2296\n",
      "Epoch 13/100\n",
      "3/3 [==============================] - 0s 8ms/step - loss: 0.2210\n",
      "Epoch 14/100\n",
      "3/3 [==============================] - 0s 8ms/step - loss: 0.2213\n",
      "Epoch 15/100\n",
      "3/3 [==============================] - 0s 8ms/step - loss: 0.2083\n",
      "Epoch 16/100\n",
      "3/3 [==============================] - 0s 8ms/step - loss: 0.1956\n",
      "Epoch 17/100\n",
      "3/3 [==============================] - 0s 5ms/step - loss: 0.1924\n",
      "Epoch 18/100\n",
      "3/3 [==============================] - 0s 4ms/step - loss: 0.1902\n",
      "Epoch 19/100\n",
      "3/3 [==============================] - 0s 8ms/step - loss: 0.1817\n",
      "Epoch 20/100\n",
      "3/3 [==============================] - 0s 8ms/step - loss: 0.1743\n",
      "Epoch 21/100\n",
      "3/3 [==============================] - 0s 0s/step - loss: 0.1687\n",
      "Epoch 22/100\n",
      "3/3 [==============================] - 0s 0s/step - loss: 0.1645\n",
      "Epoch 23/100\n",
      "3/3 [==============================] - 0s 2ms/step - loss: 0.1601\n",
      "Epoch 24/100\n",
      "3/3 [==============================] - 0s 0s/step - loss: 0.1577\n",
      "Epoch 25/100\n",
      "3/3 [==============================] - 0s 0s/step - loss: 0.1560\n",
      "Epoch 26/100\n",
      "3/3 [==============================] - 0s 7ms/step - loss: 0.1496\n",
      "Epoch 27/100\n",
      "3/3 [==============================] - 0s 8ms/step - loss: 0.1419\n",
      "Epoch 28/100\n",
      "3/3 [==============================] - 0s 12ms/step - loss: 0.1457\n",
      "Epoch 29/100\n",
      "3/3 [==============================] - 0s 10ms/step - loss: 0.1406\n",
      "Epoch 30/100\n",
      "3/3 [==============================] - 0s 8ms/step - loss: 0.1351\n",
      "Epoch 31/100\n",
      "3/3 [==============================] - 0s 8ms/step - loss: 0.1326\n",
      "Epoch 32/100\n",
      "3/3 [==============================] - 0s 6ms/step - loss: 0.1304\n",
      "Epoch 33/100\n",
      "3/3 [==============================] - 0s 5ms/step - loss: 0.1267\n",
      "Epoch 34/100\n",
      "3/3 [==============================] - 0s 4ms/step - loss: 0.1253\n",
      "Epoch 35/100\n",
      "3/3 [==============================] - 0s 9ms/step - loss: 0.1201\n",
      "Epoch 36/100\n",
      "3/3 [==============================] - 0s 8ms/step - loss: 0.1190\n",
      "Epoch 37/100\n",
      "3/3 [==============================] - 0s 13ms/step - loss: 0.1178\n",
      "Epoch 38/100\n",
      "3/3 [==============================] - 0s 8ms/step - loss: 0.1134\n",
      "Epoch 39/100\n",
      "3/3 [==============================] - 0s 5ms/step - loss: 0.1100\n",
      "Epoch 40/100\n",
      "3/3 [==============================] - 0s 5ms/step - loss: 0.1116\n",
      "Epoch 41/100\n",
      "3/3 [==============================] - 0s 4ms/step - loss: 0.1100\n",
      "Epoch 42/100\n",
      "3/3 [==============================] - 0s 7ms/step - loss: 0.1102\n",
      "Epoch 43/100\n",
      "3/3 [==============================] - 0s 8ms/step - loss: 0.1078\n",
      "Epoch 44/100\n",
      "3/3 [==============================] - 0s 0s/step - loss: 0.1024\n",
      "Epoch 45/100\n",
      "3/3 [==============================] - 0s 3ms/step - loss: 0.1008\n",
      "Epoch 46/100\n",
      "3/3 [==============================] - 0s 754us/step - loss: 0.1014\n",
      "Epoch 47/100\n",
      "3/3 [==============================] - 0s 19ms/step - loss: 0.0983\n",
      "Epoch 48/100\n",
      "3/3 [==============================] - 0s 0s/step - loss: 0.0970\n",
      "Epoch 49/100\n",
      "3/3 [==============================] - 0s 0s/step - loss: 0.0929\n",
      "Epoch 50/100\n",
      "3/3 [==============================] - 0s 0s/step - loss: 0.0935\n",
      "Epoch 51/100\n",
      "3/3 [==============================] - 0s 0s/step - loss: 0.0919\n",
      "Epoch 52/100\n",
      "3/3 [==============================] - 0s 0s/step - loss: 0.0911\n",
      "Epoch 53/100\n",
      "3/3 [==============================] - 0s 8ms/step - loss: 0.0894\n",
      "Epoch 54/100\n",
      "3/3 [==============================] - 0s 8ms/step - loss: 0.0893\n",
      "Epoch 55/100\n",
      "3/3 [==============================] - 0s 4ms/step - loss: 0.0862\n",
      "Epoch 56/100\n",
      "3/3 [==============================] - 0s 0s/step - loss: 0.0927\n",
      "Epoch 57/100\n",
      "3/3 [==============================] - 0s 9ms/step - loss: 0.0852\n",
      "Epoch 58/100\n",
      "3/3 [==============================] - 0s 7ms/step - loss: 0.0815\n",
      "Epoch 59/100\n",
      "3/3 [==============================] - 0s 3ms/step - loss: 0.0848\n",
      "Epoch 60/100\n",
      "3/3 [==============================] - 0s 2ms/step - loss: 0.0854\n",
      "Epoch 61/100\n",
      "3/3 [==============================] - 0s 0s/step - loss: 0.0811\n",
      "Epoch 62/100\n",
      "3/3 [==============================] - 0s 2ms/step - loss: 0.0774\n",
      "Epoch 63/100\n",
      "3/3 [==============================] - 0s 0s/step - loss: 0.0812\n",
      "Epoch 64/100\n",
      "3/3 [==============================] - 0s 5ms/step - loss: 0.0763\n",
      "Epoch 65/100\n",
      "3/3 [==============================] - 0s 8ms/step - loss: 0.0803\n",
      "Epoch 66/100\n",
      "3/3 [==============================] - 0s 8ms/step - loss: 0.0773\n",
      "Epoch 67/100\n",
      "3/3 [==============================] - 0s 8ms/step - loss: 0.0731\n",
      "Epoch 68/100\n",
      "3/3 [==============================] - 0s 2ms/step - loss: 0.0736\n",
      "Epoch 69/100\n",
      "3/3 [==============================] - 0s 0s/step - loss: 0.0729\n",
      "Epoch 70/100\n",
      "3/3 [==============================] - 0s 5ms/step - loss: 0.0750\n",
      "Epoch 71/100\n",
      "3/3 [==============================] - 0s 6ms/step - loss: 0.0706\n",
      "Epoch 72/100\n",
      "3/3 [==============================] - 0s 7ms/step - loss: 0.0697\n",
      "Epoch 73/100\n",
      "3/3 [==============================] - 0s 6ms/step - loss: 0.0673\n",
      "Epoch 74/100\n",
      "3/3 [==============================] - 0s 8ms/step - loss: 0.0661\n",
      "Epoch 75/100\n",
      "3/3 [==============================] - 0s 0s/step - loss: 0.0657\n",
      "Epoch 76/100\n",
      "3/3 [==============================] - 0s 0s/step - loss: 0.0654\n",
      "Epoch 77/100\n",
      "3/3 [==============================] - 0s 0s/step - loss: 0.0658\n",
      "Epoch 78/100\n",
      "3/3 [==============================] - 0s 0s/step - loss: 0.0677\n",
      "Epoch 79/100\n",
      "3/3 [==============================] - 0s 0s/step - loss: 0.0669\n",
      "Epoch 80/100\n",
      "3/3 [==============================] - 0s 4ms/step - loss: 0.0635\n",
      "Epoch 81/100\n",
      "3/3 [==============================] - 0s 0s/step - loss: 0.0667\n",
      "Epoch 82/100\n",
      "3/3 [==============================] - 0s 0s/step - loss: 0.0664\n",
      "Epoch 83/100\n",
      "3/3 [==============================] - 0s 7ms/step - loss: 0.0623\n",
      "Epoch 84/100\n",
      "3/3 [==============================] - 0s 7ms/step - loss: 0.0602\n",
      "Epoch 85/100\n",
      "3/3 [==============================] - 0s 8ms/step - loss: 0.0607\n",
      "Epoch 86/100\n",
      "3/3 [==============================] - 0s 8ms/step - loss: 0.0575\n",
      "Epoch 87/100\n",
      "3/3 [==============================] - 0s 0s/step - loss: 0.0562\n",
      "Epoch 88/100\n",
      "3/3 [==============================] - 0s 8ms/step - loss: 0.0557\n",
      "Epoch 89/100\n",
      "3/3 [==============================] - 0s 4ms/step - loss: 0.0551\n",
      "Epoch 90/100\n",
      "3/3 [==============================] - 0s 8ms/step - loss: 0.0583\n",
      "Epoch 91/100\n",
      "3/3 [==============================] - 0s 10ms/step - loss: 0.0551\n",
      "Epoch 92/100\n",
      "3/3 [==============================] - 0s 8ms/step - loss: 0.0557\n",
      "Epoch 93/100\n",
      "3/3 [==============================] - 0s 8ms/step - loss: 0.0526\n",
      "Epoch 94/100\n",
      "3/3 [==============================] - 0s 8ms/step - loss: 0.0547\n",
      "Epoch 95/100\n",
      "3/3 [==============================] - 0s 7ms/step - loss: 0.0528\n",
      "Epoch 96/100\n",
      "3/3 [==============================] - 0s 8ms/step - loss: 0.0530\n",
      "Epoch 97/100\n",
      "3/3 [==============================] - 0s 8ms/step - loss: 0.0530\n",
      "Epoch 98/100\n",
      "3/3 [==============================] - 0s 18ms/step - loss: 0.0581\n",
      "Epoch 99/100\n",
      "3/3 [==============================] - 0s 9ms/step - loss: 0.0502\n",
      "Epoch 100/100\n",
      "3/3 [==============================] - 0s 4ms/step - loss: 0.0522\n"
     ]
    }
   ],
   "source": [
    "history=model.fit(X_train,y_train, epochs=100, batch_size=32, verbose=1)"
   ]
  },
  {
   "cell_type": "code",
   "execution_count": 67,
   "id": "c6d54f9f701911b9",
   "metadata": {
    "ExecuteTime": {
     "start_time": "2023-12-14T05:48:20.202255300Z"
    },
    "collapsed": false
   },
   "outputs": [
    {
     "data": {
      "text/plain": [
       "[<matplotlib.lines.Line2D at 0x2a0395a4130>]"
      ]
     },
     "execution_count": 67,
     "metadata": {},
     "output_type": "execute_result"
    },
    {
     "data": {
      "image/png": "[encoded data removed]",
      "text/plain": [
       "<Figure size 640x480 with 1 Axes>"
      ]
     },
     "metadata": {},
     "output_type": "display_data"
    }
   ],
   "source": [
    "plt.plot(history.history['loss'])"
   ]
  },
  {
   "cell_type": "code",
   "execution_count": 68,
   "id": "339f0edf1cb4460a",
   "metadata": {
    "ExecuteTime": {
     "start_time": "2023-12-14T05:48:20.202255300Z"
    },
    "collapsed": false
   },
   "outputs": [
    {
     "name": "stdout",
     "output_type": "stream",
     "text": [
      "[Timestamp('2022-12-31 00:00:00'), Timestamp('2023-01-31 00:00:00'), Timestamp('2023-02-28 00:00:00'), Timestamp('2023-03-31 00:00:00'), Timestamp('2023-04-30 00:00:00'), Timestamp('2023-05-31 00:00:00'), Timestamp('2023-06-30 00:00:00'), Timestamp('2023-07-31 00:00:00'), Timestamp('2023-08-31 00:00:00'), Timestamp('2023-09-30 00:00:00'), Timestamp('2023-10-31 00:00:00'), Timestamp('2023-11-30 00:00:00')]\n"
     ]
    }
   ],
   "source": [
    "n_past=1\n",
    "n_pred=12\n",
    "last_date=list(train_datetime)[-n_past]\n",
    "\n",
    "predict_12=pd.date_range(last_date, periods=n_pred, freq='M').tolist()\n",
    "print(predict_12)"
   ]
  },
  {
   "cell_type": "code",
   "execution_count": 69,
   "id": "664ddba44d8771b3",
   "metadata": {
    "ExecuteTime": {
     "start_time": "2023-12-14T05:48:20.206223500Z"
    },
    "collapsed": false
   },
   "outputs": [
    {
     "name": "stdout",
     "output_type": "stream",
     "text": [
      "1/1 [==============================] - 0s 321ms/step\n",
      "mse: 0.06774015749481445\n",
      "rmse 0.26026939408008476\n",
      "MAPE: 2.54%\n",
      "mae 0.22856177609063197\n"
     ]
    }
   ],
   "source": [
    "from sklearn.metrics import mean_absolute_error\n",
    "\n",
    "prediction=model.predict(X_test[-n_pred:])\n",
    "\n",
    "mse=mean_squared_error(y_test[-n_pred:],prediction)\n",
    "rmse=np.sqrt(mse)\n",
    "mape=mean_absolute_percentage_error(y_test[-n_pred:],prediction)\n",
    "mae=mean_absolute_error(y_test[-n_pred:], prediction)\n",
    "\n",
    "print(\"mse:\",mse)\n",
    "print(\"rmse\",rmse)\n",
    "print(\"MAPE:\", f\"{mape:.2f}%\")\n",
    "print(\"mae\",mae)"
   ]
  },
  {
   "cell_type": "code",
   "execution_count": 70,
   "id": "e773d0dc94782bee",
   "metadata": {
    "ExecuteTime": {
     "start_time": "2023-12-14T05:48:20.207313400Z"
    },
    "collapsed": false
   },
   "outputs": [],
   "source": [
    "prediction_copy = np.repeat(prediction, data_train.shape[1], axis=-1)\n",
    "y_pred_future = scaler.inverse_transform(prediction_copy)[:, 0]"
   ]
  },
  {
   "cell_type": "code",
   "execution_count": 71,
   "id": "74f1223068ae19a2",
   "metadata": {
    "ExecuteTime": {
     "start_time": "2023-12-14T05:48:20.207313400Z"
    },
    "collapsed": false
   },
   "outputs": [
    {
     "name": "stderr",
     "output_type": "stream",
     "text": [
      "C:\\Users\\atrke\\AppData\\Local\\Temp\\ipykernel_16960\\1499544800.py:9: SettingWithCopyWarning: \n",
      "A value is trying to be set on a copy of a slice from a DataFrame.\n",
      "Try using .loc[row_indexer,col_indexer] = value instead\n",
      "\n",
      "See the caveats in the documentation: https://pandas.pydata.org/pandas-docs/stable/user_guide/indexing.html#returning-a-view-versus-a-copy\n",
      "  actual['datetime']=pd.to_datetime(actual['datetime'])\n",
      "c:\\Users\\atrke\\AppData\\Local\\Programs\\Python\\Python39\\lib\\site-packages\\seaborn\\_oldcore.py:1498: FutureWarning: is_categorical_dtype is deprecated and will be removed in a future version. Use isinstance(dtype, CategoricalDtype) instead\n",
      "  if pd.api.types.is_categorical_dtype(vector):\n",
      "c:\\Users\\atrke\\AppData\\Local\\Programs\\Python\\Python39\\lib\\site-packages\\seaborn\\_oldcore.py:1498: FutureWarning: is_categorical_dtype is deprecated and will be removed in a future version. Use isinstance(dtype, CategoricalDtype) instead\n",
      "  if pd.api.types.is_categorical_dtype(vector):\n",
      "c:\\Users\\atrke\\AppData\\Local\\Programs\\Python\\Python39\\lib\\site-packages\\seaborn\\_oldcore.py:1119: FutureWarning: use_inf_as_na option is deprecated and will be removed in a future version. Convert inf values to NaN before operating instead.\n",
      "  with pd.option_context('mode.use_inf_as_na', True):\n",
      "c:\\Users\\atrke\\AppData\\Local\\Programs\\Python\\Python39\\lib\\site-packages\\seaborn\\_oldcore.py:1119: FutureWarning: use_inf_as_na option is deprecated and will be removed in a future version. Convert inf values to NaN before operating instead.\n",
      "  with pd.option_context('mode.use_inf_as_na', True):\n",
      "c:\\Users\\atrke\\AppData\\Local\\Programs\\Python\\Python39\\lib\\site-packages\\seaborn\\_oldcore.py:1498: FutureWarning: is_categorical_dtype is deprecated and will be removed in a future version. Use isinstance(dtype, CategoricalDtype) instead\n",
      "  if pd.api.types.is_categorical_dtype(vector):\n",
      "c:\\Users\\atrke\\AppData\\Local\\Programs\\Python\\Python39\\lib\\site-packages\\seaborn\\_oldcore.py:1498: FutureWarning: is_categorical_dtype is deprecated and will be removed in a future version. Use isinstance(dtype, CategoricalDtype) instead\n",
      "  if pd.api.types.is_categorical_dtype(vector):\n",
      "c:\\Users\\atrke\\AppData\\Local\\Programs\\Python\\Python39\\lib\\site-packages\\seaborn\\_oldcore.py:1119: FutureWarning: use_inf_as_na option is deprecated and will be removed in a future version. Convert inf values to NaN before operating instead.\n",
      "  with pd.option_context('mode.use_inf_as_na', True):\n",
      "c:\\Users\\atrke\\AppData\\Local\\Programs\\Python\\Python39\\lib\\site-packages\\seaborn\\_oldcore.py:1119: FutureWarning: use_inf_as_na option is deprecated and will be removed in a future version. Convert inf values to NaN before operating instead.\n",
      "  with pd.option_context('mode.use_inf_as_na', True):\n"
     ]
    },
    {
     "data": {
      "image/png": "[encoded data removed]",
      "text/plain": [
       "<Figure size 640x480 with 1 Axes>"
      ]
     },
     "metadata": {},
     "output_type": "display_data"
    }
   ],
   "source": [
    "forecast_dates=[]\n",
    "for i in predict_12:\n",
    "    forecast_dates.append(i.date())\n",
    "    \n",
    "df_forecast=pd.DataFrame({'Date': forecast_dates,'total_visitor':y_pred_future})\n",
    "df_forecast['Date']=pd.to_datetime(df_forecast['Date'])\n",
    "\n",
    "actual=df[['datetime','total_visitor']]\n",
    "actual['datetime']=pd.to_datetime(actual['datetime'])\n",
    "actual=actual.loc[actual['datetime']>='2013-01-01']\n",
    "\n",
    "sns.lineplot(actual, x='datetime', y='total_visitor',label='actual')\n",
    "sns.lineplot(df_forecast,x='Date',y='total_visitor',label='forecast')\n",
    "\n",
    "plt.xlabel('Year')\n",
    "plt.ylabel('Total Visitor')\n",
    "plt.legend()\n",
    "plt.show()\n"
   ]
  },
  {
   "cell_type": "code",
   "execution_count": 72,
   "id": "39331386043f28c",
   "metadata": {
    "ExecuteTime": {
     "start_time": "2023-12-14T05:48:20.207313400Z"
    },
    "collapsed": false
   },
   "outputs": [
    {
     "name": "stdout",
     "output_type": "stream",
     "text": [
      "╒═════════════════════╤══════════════╕\n",
      "│ Date                │   Prediction │\n",
      "╞═════════════════════╪══════════════╡\n",
      "│ 2023-01-01 00:00:00 │     168868   │\n",
      "├─────────────────────┼──────────────┤\n",
      "│ 2023-02-01 00:00:00 │     125804   │\n",
      "├─────────────────────┼──────────────┤\n",
      "│ 2023-03-01 00:00:00 │    -538805   │\n",
      "├─────────────────────┼──────────────┤\n",
      "│ 2023-04-01 00:00:00 │     144328   │\n",
      "├─────────────────────┼──────────────┤\n",
      "│ 2023-05-01 00:00:00 │     126064   │\n",
      "├─────────────────────┼──────────────┤\n",
      "│ 2023-06-01 00:00:00 │      96065.8 │\n",
      "├─────────────────────┼──────────────┤\n",
      "│ 2023-07-01 00:00:00 │     122869   │\n",
      "├─────────────────────┼──────────────┤\n",
      "│ 2023-08-01 00:00:00 │     154476   │\n",
      "├─────────────────────┼──────────────┤\n",
      "│ 2023-09-01 00:00:00 │     134603   │\n",
      "├─────────────────────┼──────────────┤\n",
      "│ 2023-10-01 00:00:00 │     128381   │\n",
      "├─────────────────────┼──────────────┤\n",
      "│ 2023-11-01 00:00:00 │     379910   │\n",
      "├─────────────────────┼──────────────┤\n",
      "│ 2023-12-01 00:00:00 │    -440211   │\n",
      "╘═════════════════════╧══════════════╛\n"
     ]
    }
   ],
   "source": [
    "forecast_dates_1=pd.date_range(start='2023-01-01', end='2023-12-01', freq='MS')\n",
    "\n",
    "data=list(zip(forecast_dates_1,y_pred_future))\n",
    "\n",
    "headers=['Date','Prediction']\n",
    "table=tabulate(data, headers=headers, tablefmt='fancy_grid')\n",
    "print(table)"
   ]
  }
 ],
 "metadata": {
  "kernelspec": {
   "display_name": "Python 3",
   "language": "python",
   "name": "python3"
  },
  "language_info": {
   "codemirror_mode": {
    "name": "ipython",
    "version": 3
   },
   "file_extension": ".py",
   "mimetype": "text/x-python",
   "name": "python",
   "nbconvert_exporter": "python",
   "pygments_lexer": "ipython3",
   "version": "3.11.7"
  }
 },
 "nbformat": 4,
 "nbformat_minor": 5
}
