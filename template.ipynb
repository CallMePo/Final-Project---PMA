{
 "cells": [
  {
   "cell_type": "code",
   "execution_count": 38,
   "id": "initial_id",
   "metadata": {
    "ExecuteTime": {
     "end_time": "2023-12-14T05:57:07.143162200Z",
     "start_time": "2023-12-14T05:57:07.122620600Z"
    },
    "collapsed": true
   },
   "outputs": [],
   "source": [
    "import pandas as pd\n",
    "import numpy as np\n",
    "import matplotlib.pyplot as plt\n",
    "import tensorflow\n",
    "from sklearn.preprocessing import StandardScaler\n",
    "from sklearn.model_selection import train_test_split\n",
    "import seaborn as sns\n",
    "from sklearn.metrics import r2_score, mean_squared_error,mean_squared_log_error, mean_absolute_percentage_error\n",
    "from tensorflow.keras.models import Sequential\n",
    "from keras.models import Sequential\n",
    "from keras.layers import SimpleRNN, Dense\n",
    "from tabulate import tabulate\n",
    "from keras.models import Sequential\n",
    "\n",
    "import sklearn.preprocessing\n",
    "from sklearn.metrics import r2_score\n",
    "from sklearn.preprocessing import MinMaxScaler\n",
    "from sklearn.model_selection import train_test_split\n",
    "from sklearn.metrics import mean_absolute_error, mean_squared_error\n",
    "from tensorflow.keras.callbacks import EarlyStopping\n",
    "from keras.layers import Dense,Dropout,SimpleRNN,LSTM,GRU\n",
    "from keras.models import Sequential\n",
    "from tensorflow import keras"
   ]
  },
  {
   "cell_type": "code",
   "execution_count": 39,
   "id": "be5dc4a177533396",
   "metadata": {
    "ExecuteTime": {
     "end_time": "2023-12-14T05:57:12.930512400Z",
     "start_time": "2023-12-14T05:57:12.835809400Z"
    },
    "collapsed": false
   },
   "outputs": [
    {
     "data": {
      "text/html": [
       "<div>\n",
       "<style scoped>\n",
       "    .dataframe tbody tr th:only-of-type {\n",
       "        vertical-align: middle;\n",
       "    }\n",
       "\n",
       "    .dataframe tbody tr th {\n",
       "        vertical-align: top;\n",
       "    }\n",
       "\n",
       "    .dataframe thead th {\n",
       "        text-align: right;\n",
       "    }\n",
       "</style>\n",
       "<table border=\"1\" class=\"dataframe\">\n",
       "  <thead>\n",
       "    <tr style=\"text-align: right;\">\n",
       "      <th></th>\n",
       "      <th>datetime</th>\n",
       "      <th>total_visitor</th>\n",
       "      <th>total_accomodation</th>\n",
       "    </tr>\n",
       "  </thead>\n",
       "  <tbody>\n",
       "    <tr>\n",
       "      <th>0</th>\n",
       "      <td>1/1/2014</td>\n",
       "      <td>164430</td>\n",
       "      <td>10055</td>\n",
       "    </tr>\n",
       "    <tr>\n",
       "      <th>1</th>\n",
       "      <td>2/1/2014</td>\n",
       "      <td>137055</td>\n",
       "      <td>10079</td>\n",
       "    </tr>\n",
       "    <tr>\n",
       "      <th>2</th>\n",
       "      <td>3/1/2014</td>\n",
       "      <td>167030</td>\n",
       "      <td>10132</td>\n",
       "    </tr>\n",
       "    <tr>\n",
       "      <th>3</th>\n",
       "      <td>4/1/2014</td>\n",
       "      <td>151982</td>\n",
       "      <td>10190</td>\n",
       "    </tr>\n",
       "    <tr>\n",
       "      <th>4</th>\n",
       "      <td>5/1/2014</td>\n",
       "      <td>154299</td>\n",
       "      <td>10274</td>\n",
       "    </tr>\n",
       "    <tr>\n",
       "      <th>...</th>\n",
       "      <td>...</td>\n",
       "      <td>...</td>\n",
       "      <td>...</td>\n",
       "    </tr>\n",
       "    <tr>\n",
       "      <th>103</th>\n",
       "      <td>8/1/2022</td>\n",
       "      <td>79470</td>\n",
       "      <td>15449</td>\n",
       "    </tr>\n",
       "    <tr>\n",
       "      <th>104</th>\n",
       "      <td>9/1/2022</td>\n",
       "      <td>104652</td>\n",
       "      <td>15502</td>\n",
       "    </tr>\n",
       "    <tr>\n",
       "      <th>105</th>\n",
       "      <td>10/1/2022</td>\n",
       "      <td>106160</td>\n",
       "      <td>15525</td>\n",
       "    </tr>\n",
       "    <tr>\n",
       "      <th>106</th>\n",
       "      <td>11/1/2022</td>\n",
       "      <td>103940</td>\n",
       "      <td>15612</td>\n",
       "    </tr>\n",
       "    <tr>\n",
       "      <th>107</th>\n",
       "      <td>12/1/2022</td>\n",
       "      <td>188544</td>\n",
       "      <td>16229</td>\n",
       "    </tr>\n",
       "  </tbody>\n",
       "</table>\n",
       "<p>108 rows × 3 columns</p>\n",
       "</div>"
      ],
      "text/plain": [
       "      datetime  total_visitor  total_accomodation\n",
       "0     1/1/2014         164430               10055\n",
       "1     2/1/2014         137055               10079\n",
       "2     3/1/2014         167030               10132\n",
       "3     4/1/2014         151982               10190\n",
       "4     5/1/2014         154299               10274\n",
       "..         ...            ...                 ...\n",
       "103   8/1/2022          79470               15449\n",
       "104   9/1/2022         104652               15502\n",
       "105  10/1/2022         106160               15525\n",
       "106  11/1/2022         103940               15612\n",
       "107  12/1/2022         188544               16229\n",
       "\n",
       "[108 rows x 3 columns]"
      ]
     },
     "execution_count": 39,
     "metadata": {},
     "output_type": "execute_result"
    }
   ],
   "source": [
    "df=pd.read_csv('KepRiau 2015 - 2022.csv')\n",
    "df"
   ]
  },
  {
   "cell_type": "code",
   "execution_count": 40,
   "id": "68acaa5f76919fc0",
   "metadata": {
    "ExecuteTime": {
     "end_time": "2023-12-14T05:57:13.975328100Z",
     "start_time": "2023-12-14T05:57:13.927697800Z"
    },
    "collapsed": false
   },
   "outputs": [
    {
     "data": {
      "text/plain": [
       "0     2014-01-01\n",
       "1     2014-02-01\n",
       "2     2014-03-01\n",
       "3     2014-04-01\n",
       "4     2014-05-01\n",
       "         ...    \n",
       "103   2022-08-01\n",
       "104   2022-09-01\n",
       "105   2022-10-01\n",
       "106   2022-11-01\n",
       "107   2022-12-01\n",
       "Name: datetime, Length: 108, dtype: datetime64[ns]"
      ]
     },
     "execution_count": 40,
     "metadata": {},
     "output_type": "execute_result"
    }
   ],
   "source": [
    "train_datetime=pd.to_datetime(df['datetime'])\n",
    "train_datetime"
   ]
  },
  {
   "cell_type": "code",
   "execution_count": 41,
   "id": "8b248dcbb9937638",
   "metadata": {
    "ExecuteTime": {
     "end_time": "2023-12-14T05:57:14.851207100Z",
     "start_time": "2023-12-14T05:57:14.817543700Z"
    },
    "collapsed": false
   },
   "outputs": [],
   "source": [
    "selected_columns = ['total_visitor','total_accomodation']\n",
    "data_train = df.loc[:, selected_columns].astype(float)"
   ]
  },
  {
   "cell_type": "code",
   "execution_count": 42,
   "id": "4912fca4cc2997b1",
   "metadata": {
    "ExecuteTime": {
     "end_time": "2023-12-14T05:57:15.633432900Z",
     "start_time": "2023-12-14T05:57:15.561171Z"
    },
    "collapsed": false
   },
   "outputs": [],
   "source": [
    "scaled_data_train=StandardScaler().fit_transform(data_train)"
   ]
  },
  {
   "cell_type": "code",
   "execution_count": 43,
   "id": "602281cf20978b53",
   "metadata": {
    "ExecuteTime": {
     "end_time": "2023-12-14T05:57:16.193054Z",
     "start_time": "2023-12-14T05:57:16.135175300Z"
    },
    "collapsed": false
   },
   "outputs": [],
   "source": [
    "n_future=1\n",
    "n_step=12\n",
    "\n",
    "X_train=[]\n",
    "y_train=[]\n",
    "for i in range (n_step, len(scaled_data_train)-n_future+1):\n",
    "    past_data = scaled_data_train[i-n_step:i, 0:scaled_data_train.shape[1]]\n",
    "    future_data=scaled_data_train[i+n_future - 1:i +n_future,0]\n",
    "    \n",
    "    X_train.append(past_data)\n",
    "    y_train.append(future_data)\n",
    "\n",
    "X_train=np.array(X_train)\n",
    "y_train=np.array(y_train)"
   ]
  },
  {
   "cell_type": "code",
   "execution_count": 44,
   "id": "c40f84d2d3135629",
   "metadata": {
    "ExecuteTime": {
     "end_time": "2023-12-14T05:57:17.238790600Z",
     "start_time": "2023-12-14T05:57:17.143076400Z"
    },
    "collapsed": false
   },
   "outputs": [],
   "source": [
    "X_train, X_test, y_train, y_test=train_test_split(X_train,y_train, test_size=0.2, random_state=42)"
   ]
  },
  {
   "cell_type": "code",
   "execution_count": 45,
   "id": "7fcfdf7879f08e6",
   "metadata": {
    "ExecuteTime": {
     "end_time": "2023-12-14T05:57:17.762333900Z",
     "start_time": "2023-12-14T05:57:17.732672700Z"
    },
    "collapsed": false
   },
   "outputs": [
    {
     "name": "stdout",
     "output_type": "stream",
     "text": [
      "(76, 12, 2)\n",
      "(76, 1)\n",
      "(20, 12, 2)\n",
      "(20, 1)\n"
     ]
    }
   ],
   "source": [
    "print(X_train.shape)\n",
    "print(y_train.shape)\n",
    "print(X_test.shape)\n",
    "print(y_test.shape)"
   ]
  },
  {
   "cell_type": "code",
   "execution_count": 46,
   "id": "78200b99aac78764",
   "metadata": {
    "ExecuteTime": {
     "end_time": "2023-12-14T05:56:46.804711800Z",
     "start_time": "2023-12-14T05:56:46.793880100Z"
    },
    "collapsed": false
   },
   "outputs": [],
   "source": [
    "model=Sequential()\n",
    "model.add(SimpleRNN(64, activation='tanh', input_shape=(X_train.shape[1], X_train.shape[2])))\n",
    "model.add(Dense(y_train.shape[1]))"
   ]
  },
  {
   "cell_type": "code",
   "execution_count": 47,
   "id": "5e3b35cd3e23d3e0",
   "metadata": {
    "ExecuteTime": {
     "end_time": "2023-12-14T05:48:20.248064700Z",
     "start_time": "2023-12-14T05:48:20.189537100Z"
    },
    "collapsed": false
   },
   "outputs": [
    {
     "name": "stdout",
     "output_type": "stream",
     "text": [
      "Model: \"sequential_1\"\n",
      "_________________________________________________________________\n",
      " Layer (type)                Output Shape              Param #   \n",
      "=================================================================\n",
      " simple_rnn_1 (SimpleRNN)    (None, 64)                4288      \n",
      "                                                                 \n",
      " dense_1 (Dense)             (None, 1)                 65        \n",
      "                                                                 \n",
      "=================================================================\n",
      "Total params: 4353 (17.00 KB)\n",
      "Trainable params: 4353 (17.00 KB)\n",
      "Non-trainable params: 0 (0.00 Byte)\n",
      "_________________________________________________________________\n"
     ]
    }
   ],
   "source": [
    "model.summary()"
   ]
  },
  {
   "cell_type": "code",
   "execution_count": 48,
   "id": "bba889a82030b6a1",
   "metadata": {
    "ExecuteTime": {
     "start_time": "2023-12-14T05:48:20.195088800Z"
    },
    "collapsed": false
   },
   "outputs": [],
   "source": [
    "model.compile(optimizer='adam', loss='mean_squared_error')"
   ]
  },
  {
   "cell_type": "code",
   "execution_count": 49,
   "id": "59ad9b2a1b0f2d9",
   "metadata": {
    "ExecuteTime": {
     "start_time": "2023-12-14T05:48:20.196865100Z"
    },
    "collapsed": false
   },
   "outputs": [
    {
     "name": "stdout",
     "output_type": "stream",
     "text": [
      "Epoch 1/100\n",
      "3/3 [==============================] - 2s 10ms/step - loss: 0.3162\n",
      "Epoch 2/100\n",
      "3/3 [==============================] - 0s 10ms/step - loss: 0.2099\n",
      "Epoch 3/100\n",
      "3/3 [==============================] - 0s 7ms/step - loss: 0.1735\n",
      "Epoch 4/100\n",
      "3/3 [==============================] - 0s 6ms/step - loss: 0.1611\n",
      "Epoch 5/100\n",
      "3/3 [==============================] - 0s 6ms/step - loss: 0.1489\n",
      "Epoch 6/100\n",
      "3/3 [==============================] - 0s 8ms/step - loss: 0.1350\n",
      "Epoch 7/100\n",
      "3/3 [==============================] - 0s 7ms/step - loss: 0.1358\n",
      "Epoch 8/100\n",
      "3/3 [==============================] - 0s 4ms/step - loss: 0.1291\n",
      "Epoch 9/100\n",
      "3/3 [==============================] - 0s 6ms/step - loss: 0.1243\n",
      "Epoch 10/100\n",
      "3/3 [==============================] - 0s 8ms/step - loss: 0.1184\n",
      "Epoch 11/100\n",
      "3/3 [==============================] - 0s 4ms/step - loss: 0.1131\n",
      "Epoch 12/100\n",
      "3/3 [==============================] - 0s 3ms/step - loss: 0.1132\n",
      "Epoch 13/100\n",
      "3/3 [==============================] - 0s 4ms/step - loss: 0.1115\n",
      "Epoch 14/100\n",
      "3/3 [==============================] - 0s 9ms/step - loss: 0.1071\n",
      "Epoch 15/100\n",
      "3/3 [==============================] - 0s 9ms/step - loss: 0.1060\n",
      "Epoch 16/100\n",
      "3/3 [==============================] - 0s 8ms/step - loss: 0.1124\n",
      "Epoch 17/100\n",
      "3/3 [==============================] - 0s 9ms/step - loss: 0.1029\n",
      "Epoch 18/100\n",
      "3/3 [==============================] - 0s 6ms/step - loss: 0.1009\n",
      "Epoch 19/100\n",
      "3/3 [==============================] - 0s 3ms/step - loss: 0.1013\n",
      "Epoch 20/100\n",
      "3/3 [==============================] - 0s 6ms/step - loss: 0.0992\n",
      "Epoch 21/100\n",
      "3/3 [==============================] - 0s 7ms/step - loss: 0.0937\n",
      "Epoch 22/100\n",
      "3/3 [==============================] - 0s 9ms/step - loss: 0.0935\n",
      "Epoch 23/100\n",
      "3/3 [==============================] - 0s 9ms/step - loss: 0.0944\n",
      "Epoch 24/100\n",
      "3/3 [==============================] - 0s 2ms/step - loss: 0.0911\n",
      "Epoch 25/100\n",
      "3/3 [==============================] - 0s 3ms/step - loss: 0.0886\n",
      "Epoch 26/100\n",
      "3/3 [==============================] - 0s 8ms/step - loss: 0.0897\n",
      "Epoch 27/100\n",
      "3/3 [==============================] - 0s 9ms/step - loss: 0.0876\n",
      "Epoch 28/100\n",
      "3/3 [==============================] - 0s 2ms/step - loss: 0.0850\n",
      "Epoch 29/100\n",
      "3/3 [==============================] - 0s 5ms/step - loss: 0.0849\n",
      "Epoch 30/100\n",
      "3/3 [==============================] - 0s 7ms/step - loss: 0.0835\n",
      "Epoch 31/100\n",
      "3/3 [==============================] - 0s 2ms/step - loss: 0.0809\n",
      "Epoch 32/100\n",
      "3/3 [==============================] - 0s 4ms/step - loss: 0.0802\n",
      "Epoch 33/100\n",
      "3/3 [==============================] - 0s 2ms/step - loss: 0.0817\n",
      "Epoch 34/100\n",
      "3/3 [==============================] - 0s 3ms/step - loss: 0.0752\n",
      "Epoch 35/100\n",
      "3/3 [==============================] - 0s 0s/step - loss: 0.0776\n",
      "Epoch 36/100\n",
      "3/3 [==============================] - 0s 4ms/step - loss: 0.0777\n",
      "Epoch 37/100\n",
      "3/3 [==============================] - 0s 5ms/step - loss: 0.0727\n",
      "Epoch 38/100\n",
      "3/3 [==============================] - 0s 6ms/step - loss: 0.0744\n",
      "Epoch 39/100\n",
      "3/3 [==============================] - 0s 6ms/step - loss: 0.0708\n",
      "Epoch 40/100\n",
      "3/3 [==============================] - 0s 6ms/step - loss: 0.0688\n",
      "Epoch 41/100\n",
      "3/3 [==============================] - 0s 6ms/step - loss: 0.0695\n",
      "Epoch 42/100\n",
      "3/3 [==============================] - 0s 6ms/step - loss: 0.0666\n",
      "Epoch 43/100\n",
      "3/3 [==============================] - 0s 5ms/step - loss: 0.0683\n",
      "Epoch 44/100\n",
      "3/3 [==============================] - 0s 5ms/step - loss: 0.0657\n",
      "Epoch 45/100\n",
      "3/3 [==============================] - 0s 3ms/step - loss: 0.0650\n",
      "Epoch 46/100\n",
      "3/3 [==============================] - 0s 4ms/step - loss: 0.0725\n",
      "Epoch 47/100\n",
      "3/3 [==============================] - 0s 4ms/step - loss: 0.0639\n",
      "Epoch 48/100\n",
      "3/3 [==============================] - 0s 0s/step - loss: 0.0732\n",
      "Epoch 49/100\n",
      "3/3 [==============================] - 0s 4ms/step - loss: 0.0632\n",
      "Epoch 50/100\n",
      "3/3 [==============================] - 0s 4ms/step - loss: 0.0597\n",
      "Epoch 51/100\n",
      "3/3 [==============================] - 0s 4ms/step - loss: 0.0540\n",
      "Epoch 52/100\n",
      "3/3 [==============================] - 0s 5ms/step - loss: 0.0653\n",
      "Epoch 53/100\n",
      "3/3 [==============================] - 0s 7ms/step - loss: 0.0640\n",
      "Epoch 54/100\n",
      "3/3 [==============================] - 0s 3ms/step - loss: 0.0544\n",
      "Epoch 55/100\n",
      "3/3 [==============================] - 0s 0s/step - loss: 0.0533\n",
      "Epoch 56/100\n",
      "3/3 [==============================] - 0s 5ms/step - loss: 0.0508\n",
      "Epoch 57/100\n",
      "3/3 [==============================] - 0s 25ms/step - loss: 0.0504\n",
      "Epoch 58/100\n",
      "3/3 [==============================] - 0s 8ms/step - loss: 0.0490\n",
      "Epoch 59/100\n",
      "3/3 [==============================] - 0s 8ms/step - loss: 0.0477\n",
      "Epoch 60/100\n",
      "3/3 [==============================] - 0s 6ms/step - loss: 0.0471\n",
      "Epoch 61/100\n",
      "3/3 [==============================] - 0s 4ms/step - loss: 0.0443\n",
      "Epoch 62/100\n",
      "3/3 [==============================] - 0s 7ms/step - loss: 0.0464\n",
      "Epoch 63/100\n",
      "3/3 [==============================] - 0s 8ms/step - loss: 0.0475\n",
      "Epoch 64/100\n",
      "3/3 [==============================] - 0s 9ms/step - loss: 0.0482\n",
      "Epoch 65/100\n",
      "3/3 [==============================] - 0s 9ms/step - loss: 0.0405\n",
      "Epoch 66/100\n",
      "3/3 [==============================] - 0s 5ms/step - loss: 0.0416\n",
      "Epoch 67/100\n",
      "3/3 [==============================] - 0s 5ms/step - loss: 0.0378\n",
      "Epoch 68/100\n",
      "3/3 [==============================] - 0s 7ms/step - loss: 0.0426\n",
      "Epoch 69/100\n",
      "3/3 [==============================] - 0s 10ms/step - loss: 0.0406\n",
      "Epoch 70/100\n",
      "3/3 [==============================] - 0s 5ms/step - loss: 0.0400\n",
      "Epoch 71/100\n",
      "3/3 [==============================] - 0s 6ms/step - loss: 0.0361\n",
      "Epoch 72/100\n",
      "3/3 [==============================] - 0s 2ms/step - loss: 0.0395\n",
      "Epoch 73/100\n",
      "3/3 [==============================] - 0s 3ms/step - loss: 0.0325\n",
      "Epoch 74/100\n",
      "3/3 [==============================] - 0s 3ms/step - loss: 0.0444\n",
      "Epoch 75/100\n",
      "3/3 [==============================] - 0s 3ms/step - loss: 0.0355\n",
      "Epoch 76/100\n",
      "3/3 [==============================] - 0s 3ms/step - loss: 0.0370\n",
      "Epoch 77/100\n",
      "3/3 [==============================] - 0s 4ms/step - loss: 0.0384\n",
      "Epoch 78/100\n",
      "3/3 [==============================] - 0s 3ms/step - loss: 0.0333\n",
      "Epoch 79/100\n",
      "3/3 [==============================] - 0s 2ms/step - loss: 0.0403\n",
      "Epoch 80/100\n",
      "3/3 [==============================] - 0s 6ms/step - loss: 0.0393\n",
      "Epoch 81/100\n",
      "3/3 [==============================] - 0s 5ms/step - loss: 0.0330\n",
      "Epoch 82/100\n",
      "3/3 [==============================] - 0s 5ms/step - loss: 0.0306\n",
      "Epoch 83/100\n",
      "3/3 [==============================] - 0s 4ms/step - loss: 0.0306\n",
      "Epoch 84/100\n",
      "3/3 [==============================] - 0s 16ms/step - loss: 0.0277\n",
      "Epoch 85/100\n",
      "3/3 [==============================] - 0s 5ms/step - loss: 0.0302\n",
      "Epoch 86/100\n",
      "3/3 [==============================] - 0s 10ms/step - loss: 0.0280\n",
      "Epoch 87/100\n",
      "3/3 [==============================] - 0s 8ms/step - loss: 0.0291\n",
      "Epoch 88/100\n",
      "3/3 [==============================] - 0s 5ms/step - loss: 0.0238\n",
      "Epoch 89/100\n",
      "3/3 [==============================] - 0s 5ms/step - loss: 0.0325\n",
      "Epoch 90/100\n",
      "3/3 [==============================] - 0s 4ms/step - loss: 0.0249\n",
      "Epoch 91/100\n",
      "3/3 [==============================] - 0s 4ms/step - loss: 0.0350\n",
      "Epoch 92/100\n",
      "3/3 [==============================] - 0s 0s/step - loss: 0.0237\n",
      "Epoch 93/100\n",
      "3/3 [==============================] - 0s 2ms/step - loss: 0.0288\n",
      "Epoch 94/100\n",
      "3/3 [==============================] - 0s 2ms/step - loss: 0.0256\n",
      "Epoch 95/100\n",
      "3/3 [==============================] - 0s 2ms/step - loss: 0.0343\n",
      "Epoch 96/100\n",
      "3/3 [==============================] - 0s 3ms/step - loss: 0.0233\n",
      "Epoch 97/100\n",
      "3/3 [==============================] - 0s 4ms/step - loss: 0.0226\n",
      "Epoch 98/100\n",
      "3/3 [==============================] - 0s 0s/step - loss: 0.0227\n",
      "Epoch 99/100\n",
      "3/3 [==============================] - 0s 4ms/step - loss: 0.0190\n",
      "Epoch 100/100\n",
      "3/3 [==============================] - 0s 7ms/step - loss: 0.0228\n"
     ]
    }
   ],
   "source": [
    "history=model.fit(X_train,y_train, epochs=100, batch_size=32, verbose=1)"
   ]
  },
  {
   "cell_type": "code",
   "execution_count": 50,
   "id": "c6d54f9f701911b9",
   "metadata": {
    "ExecuteTime": {
     "start_time": "2023-12-14T05:48:20.202255300Z"
    },
    "collapsed": false
   },
   "outputs": [
    {
     "data": {
      "text/plain": [
       "[<matplotlib.lines.Line2D at 0x2a0382d77c0>]"
      ]
     },
     "execution_count": 50,
     "metadata": {},
     "output_type": "execute_result"
    },
    {
     "data": {
      "image/png": "[encoded data removed]",
      "text/plain": [
       "<Figure size 640x480 with 1 Axes>"
      ]
     },
     "metadata": {},
     "output_type": "display_data"
    }
   ],
   "source": [
    "plt.plot(history.history['loss'])"
   ]
  },
  {
   "cell_type": "code",
   "execution_count": 51,
   "id": "339f0edf1cb4460a",
   "metadata": {
    "ExecuteTime": {
     "start_time": "2023-12-14T05:48:20.202255300Z"
    },
    "collapsed": false
   },
   "outputs": [
    {
     "name": "stdout",
     "output_type": "stream",
     "text": [
      "[Timestamp('2022-12-31 00:00:00'), Timestamp('2023-01-31 00:00:00'), Timestamp('2023-02-28 00:00:00'), Timestamp('2023-03-31 00:00:00'), Timestamp('2023-04-30 00:00:00'), Timestamp('2023-05-31 00:00:00'), Timestamp('2023-06-30 00:00:00'), Timestamp('2023-07-31 00:00:00'), Timestamp('2023-08-31 00:00:00'), Timestamp('2023-09-30 00:00:00'), Timestamp('2023-10-31 00:00:00'), Timestamp('2023-11-30 00:00:00')]\n"
     ]
    }
   ],
   "source": [
    "n_past=1\n",
    "n_pred=12\n",
    "last_date=list(train_datetime)[-n_past]\n",
    "\n",
    "predict_12=pd.date_range(last_date, periods=n_pred, freq='M').tolist()\n",
    "print(predict_12)"
   ]
  },
  {
   "cell_type": "code",
   "execution_count": 52,
   "id": "664ddba44d8771b3",
   "metadata": {
    "ExecuteTime": {
     "start_time": "2023-12-14T05:48:20.206223500Z"
    },
    "collapsed": false
   },
   "outputs": [
    {
     "name": "stdout",
     "output_type": "stream",
     "text": [
      "1/1 [==============================] - 0s 302ms/step\n",
      "mse: 0.08654951926478825\n",
      "rmse 0.294192996627704\n",
      "mape 2.6444934231568133\n",
      "mae 0.27586660256879536\n"
     ]
    }
   ],
   "source": [
    "from sklearn.metrics import mean_absolute_error\n",
    "\n",
    "prediction=model.predict(X_test[-n_pred:])\n",
    "\n",
    "mse=mean_squared_error(y_test[-n_pred:],prediction)\n",
    "rmse=np.sqrt(mse)\n",
    "mape=mean_absolute_percentage_error(y_test[-n_pred:],prediction)\n",
    "mae=mean_absolute_error(y_test[-n_pred:], prediction)\n",
    "\n",
    "print(\"mse:\",mse)\n",
    "print(\"rmse\",rmse)\n",
    "print(\"mape\",mape)\n",
    "print(\"mae\",mae)"
   ]
  },
  {
   "cell_type": "code",
   "execution_count": 53,
   "id": "e773d0dc94782bee",
   "metadata": {
    "ExecuteTime": {
     "start_time": "2023-12-14T05:48:20.207313400Z"
    },
    "collapsed": false
   },
   "outputs": [
    {
     "ename": "TypeError",
     "evalue": "inverse_transform() missing 1 required positional argument: 'X'",
     "output_type": "error",
     "traceback": [
      "\u001b[1;31m---------------------------------------------------------------------------\u001b[0m",
      "\u001b[1;31mTypeError\u001b[0m                                 Traceback (most recent call last)",
      "Cell \u001b[1;32mIn [53], line 2\u001b[0m\n\u001b[0;32m      1\u001b[0m prediction_copy\u001b[38;5;241m=\u001b[39mnp\u001b[38;5;241m.\u001b[39mrepeat(prediction, data_train\u001b[38;5;241m.\u001b[39mshape[\u001b[38;5;241m1\u001b[39m],axis\u001b[38;5;241m=\u001b[39m\u001b[38;5;241m-\u001b[39m\u001b[38;5;241m1\u001b[39m)\n\u001b[1;32m----> 2\u001b[0m y_pred_future\u001b[38;5;241m=\u001b[39m\u001b[43mStandardScaler\u001b[49m\u001b[38;5;241;43m.\u001b[39;49m\u001b[43minverse_transform\u001b[49m\u001b[43m(\u001b[49m\u001b[43mprediction_copy\u001b[49m\u001b[43m)\u001b[49m[:,\u001b[38;5;241m0\u001b[39m]\n",
      "\u001b[1;31mTypeError\u001b[0m: inverse_transform() missing 1 required positional argument: 'X'"
     ]
    }
   ],
   "source": [
    "prediction_copy=np.repeat(prediction, data_train.shape[1],axis=-1)\n",
    "y_pred_future=StandardScaler.inverse_transform(prediction_copy)[:,0]"
   ]
  },
  {
   "cell_type": "code",
   "execution_count": null,
   "id": "74f1223068ae19a2",
   "metadata": {
    "ExecuteTime": {
     "start_time": "2023-12-14T05:48:20.207313400Z"
    },
    "collapsed": false
   },
   "outputs": [],
   "source": [
    "forecast_dates=[]\n",
    "for i in predict_12:\n",
    "    forecast_dates.append(i.date())\n",
    "    \n",
    "df_forecast=pd.DataFrame({'Date': forecast_dates,'total_visitor':y_pred_future})\n",
    "df_forecast['Date']=pd.to_datetime(df_forecast['Date'])\n",
    "\n",
    "actual=df[['datetime','total_visitor']]\n",
    "actual['datetime']=pd.to_datetime(actual['datetime'])\n",
    "actual=actual.loc[actual['datetime']>='2013-01-01']\n",
    "\n",
    "sns.lineplot(actual, x='datetime', y='total_visitor',label='actual')\n",
    "sns.lineplot(df_forecast,x='Date',y='total_visitor',label='forecast')\n",
    "\n",
    "plt.xlabel('Year')\n",
    "plt.ylabel('Total Visitor')\n",
    "plt.legend()\n",
    "plt.show()\n"
   ]
  },
  {
   "cell_type": "code",
   "execution_count": null,
   "id": "39331386043f28c",
   "metadata": {
    "ExecuteTime": {
     "start_time": "2023-12-14T05:48:20.207313400Z"
    },
    "collapsed": false
   },
   "outputs": [],
   "source": [
    "forecast_dates_1=pd.date_range(start='2023-01-01', end='2023-12-01', freq='MS')\n",
    "\n",
    "data=list(zip(forecast_dates_1,y_pred_future))\n",
    "\n",
    "headers=['Date','Prediction']\n",
    "table=tabulate(data, headers=headers, tablefmt='fancy_grid')\n",
    "print(table)"
   ]
  }
 ],
 "metadata": {
  "kernelspec": {
   "display_name": "Python 3",
   "language": "python",
   "name": "python3"
  },
  "language_info": {
   "codemirror_mode": {
    "name": "ipython",
    "version": 3
   },
   "file_extension": ".py",
   "mimetype": "text/x-python",
   "name": "python",
   "nbconvert_exporter": "python",
   "pygments_lexer": "ipython3",
   "version": "3.9.12"
  }
 },
 "nbformat": 4,
 "nbformat_minor": 5
}
