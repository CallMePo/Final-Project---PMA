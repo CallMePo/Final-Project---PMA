{
 "cells": [
  {
   "cell_type": "code",
   "execution_count": 1,
   "metadata": {
    "ExecuteTime": {
     "end_time": "2023-12-14T03:50:22.154326Z",
     "start_time": "2023-12-14T03:49:59.195621300Z"
    }
   },
   "outputs": [
    {
     "name": "stdout",
     "output_type": "stream",
     "text": [
      "WARNING:tensorflow:From C:\\Users\\atrke\\AppData\\Local\\Programs\\Python\\Python39\\lib\\site-packages\\keras\\src\\losses.py:2976: The name tf.losses.sparse_softmax_cross_entropy is deprecated. Please use tf.compat.v1.losses.sparse_softmax_cross_entropy instead.\n"
     ]
    },
    {
     "data": {
      "text/plain": "      datetime  total_visitor  total_accomodation\n0     1/1/2014         164430               10055\n1     2/1/2014         137055               10079\n2     3/1/2014         167030               10132\n3     4/1/2014         151982               10190\n4     5/1/2014         154299               10274\n..         ...            ...                 ...\n103   8/1/2022          79470               15449\n104   9/1/2022         104652               15502\n105  10/1/2022         106160               15525\n106  11/1/2022         103940               15612\n107  12/1/2022         188544               16229\n\n[108 rows x 3 columns]",
      "text/html": "<div>\n<style scoped>\n    .dataframe tbody tr th:only-of-type {\n        vertical-align: middle;\n    }\n\n    .dataframe tbody tr th {\n        vertical-align: top;\n    }\n\n    .dataframe thead th {\n        text-align: right;\n    }\n</style>\n<table border=\"1\" class=\"dataframe\">\n  <thead>\n    <tr style=\"text-align: right;\">\n      <th></th>\n      <th>datetime</th>\n      <th>total_visitor</th>\n      <th>total_accomodation</th>\n    </tr>\n  </thead>\n  <tbody>\n    <tr>\n      <th>0</th>\n      <td>1/1/2014</td>\n      <td>164430</td>\n      <td>10055</td>\n    </tr>\n    <tr>\n      <th>1</th>\n      <td>2/1/2014</td>\n      <td>137055</td>\n      <td>10079</td>\n    </tr>\n    <tr>\n      <th>2</th>\n      <td>3/1/2014</td>\n      <td>167030</td>\n      <td>10132</td>\n    </tr>\n    <tr>\n      <th>3</th>\n      <td>4/1/2014</td>\n      <td>151982</td>\n      <td>10190</td>\n    </tr>\n    <tr>\n      <th>4</th>\n      <td>5/1/2014</td>\n      <td>154299</td>\n      <td>10274</td>\n    </tr>\n    <tr>\n      <th>...</th>\n      <td>...</td>\n      <td>...</td>\n      <td>...</td>\n    </tr>\n    <tr>\n      <th>103</th>\n      <td>8/1/2022</td>\n      <td>79470</td>\n      <td>15449</td>\n    </tr>\n    <tr>\n      <th>104</th>\n      <td>9/1/2022</td>\n      <td>104652</td>\n      <td>15502</td>\n    </tr>\n    <tr>\n      <th>105</th>\n      <td>10/1/2022</td>\n      <td>106160</td>\n      <td>15525</td>\n    </tr>\n    <tr>\n      <th>106</th>\n      <td>11/1/2022</td>\n      <td>103940</td>\n      <td>15612</td>\n    </tr>\n    <tr>\n      <th>107</th>\n      <td>12/1/2022</td>\n      <td>188544</td>\n      <td>16229</td>\n    </tr>\n  </tbody>\n</table>\n<p>108 rows × 3 columns</p>\n</div>"
     },
     "execution_count": 1,
     "metadata": {},
     "output_type": "execute_result"
    }
   ],
   "source": [
    "import numpy as np\n",
    "import pandas as pd\n",
    "from sklearn.preprocessing import MinMaxScaler\n",
    "from tensorflow.keras.models import Sequential\n",
    "from tensorflow.keras.layers import LSTM, Dense\n",
    "import matplotlib.pyplot as plt\n",
    "\n",
    "# Assuming your data is loaded into a DataFrame\n",
    "df = pd.read_csv('KepRiau 2015 - 2022.csv')\n",
    "df"
   ]
  },
  {
   "cell_type": "code",
   "execution_count": 15,
   "metadata": {
    "ExecuteTime": {
     "end_time": "2023-12-14T04:04:59.881027300Z",
     "start_time": "2023-12-14T04:04:59.489595300Z"
    }
   },
   "outputs": [
    {
     "name": "stderr",
     "output_type": "stream",
     "text": [
      "C:\\Users\\atrke\\AppData\\Local\\Programs\\Python\\Python39\\lib\\site-packages\\seaborn\\_oldcore.py:1498: FutureWarning: is_categorical_dtype is deprecated and will be removed in a future version. Use isinstance(dtype, CategoricalDtype) instead\n",
      "  if pd.api.types.is_categorical_dtype(vector):\n",
      "C:\\Users\\atrke\\AppData\\Local\\Programs\\Python\\Python39\\lib\\site-packages\\seaborn\\_oldcore.py:1498: FutureWarning: is_categorical_dtype is deprecated and will be removed in a future version. Use isinstance(dtype, CategoricalDtype) instead\n",
      "  if pd.api.types.is_categorical_dtype(vector):\n",
      "C:\\Users\\atrke\\AppData\\Local\\Programs\\Python\\Python39\\lib\\site-packages\\seaborn\\_oldcore.py:1498: FutureWarning: is_categorical_dtype is deprecated and will be removed in a future version. Use isinstance(dtype, CategoricalDtype) instead\n",
      "  if pd.api.types.is_categorical_dtype(vector):\n",
      "C:\\Users\\atrke\\AppData\\Local\\Programs\\Python\\Python39\\lib\\site-packages\\seaborn\\_oldcore.py:1498: FutureWarning: is_categorical_dtype is deprecated and will be removed in a future version. Use isinstance(dtype, CategoricalDtype) instead\n",
      "  if pd.api.types.is_categorical_dtype(vector):\n",
      "C:\\Users\\atrke\\AppData\\Local\\Programs\\Python\\Python39\\lib\\site-packages\\seaborn\\_oldcore.py:1498: FutureWarning: is_categorical_dtype is deprecated and will be removed in a future version. Use isinstance(dtype, CategoricalDtype) instead\n",
      "  if pd.api.types.is_categorical_dtype(vector):\n",
      "C:\\Users\\atrke\\AppData\\Local\\Programs\\Python\\Python39\\lib\\site-packages\\seaborn\\_oldcore.py:1498: FutureWarning: is_categorical_dtype is deprecated and will be removed in a future version. Use isinstance(dtype, CategoricalDtype) instead\n",
      "  if pd.api.types.is_categorical_dtype(vector):\n",
      "C:\\Users\\atrke\\AppData\\Local\\Programs\\Python\\Python39\\lib\\site-packages\\seaborn\\_oldcore.py:1498: FutureWarning: is_categorical_dtype is deprecated and will be removed in a future version. Use isinstance(dtype, CategoricalDtype) instead\n",
      "  if pd.api.types.is_categorical_dtype(vector):\n",
      "C:\\Users\\atrke\\AppData\\Local\\Programs\\Python\\Python39\\lib\\site-packages\\seaborn\\_oldcore.py:1498: FutureWarning: is_categorical_dtype is deprecated and will be removed in a future version. Use isinstance(dtype, CategoricalDtype) instead\n",
      "  if pd.api.types.is_categorical_dtype(vector):\n",
      "C:\\Users\\atrke\\AppData\\Local\\Programs\\Python\\Python39\\lib\\site-packages\\seaborn\\_oldcore.py:1498: FutureWarning: is_categorical_dtype is deprecated and will be removed in a future version. Use isinstance(dtype, CategoricalDtype) instead\n",
      "  if pd.api.types.is_categorical_dtype(vector):\n",
      "C:\\Users\\atrke\\AppData\\Local\\Programs\\Python\\Python39\\lib\\site-packages\\seaborn\\_oldcore.py:1498: FutureWarning: is_categorical_dtype is deprecated and will be removed in a future version. Use isinstance(dtype, CategoricalDtype) instead\n",
      "  if pd.api.types.is_categorical_dtype(vector):\n",
      "C:\\Users\\atrke\\AppData\\Local\\Programs\\Python\\Python39\\lib\\site-packages\\seaborn\\_oldcore.py:1498: FutureWarning: is_categorical_dtype is deprecated and will be removed in a future version. Use isinstance(dtype, CategoricalDtype) instead\n",
      "  if pd.api.types.is_categorical_dtype(vector):\n",
      "C:\\Users\\atrke\\AppData\\Local\\Programs\\Python\\Python39\\lib\\site-packages\\seaborn\\_oldcore.py:1498: FutureWarning: is_categorical_dtype is deprecated and will be removed in a future version. Use isinstance(dtype, CategoricalDtype) instead\n",
      "  if pd.api.types.is_categorical_dtype(vector):\n",
      "C:\\Users\\atrke\\AppData\\Local\\Programs\\Python\\Python39\\lib\\site-packages\\seaborn\\_oldcore.py:1498: FutureWarning: is_categorical_dtype is deprecated and will be removed in a future version. Use isinstance(dtype, CategoricalDtype) instead\n",
      "  if pd.api.types.is_categorical_dtype(vector):\n",
      "C:\\Users\\atrke\\AppData\\Local\\Programs\\Python\\Python39\\lib\\site-packages\\seaborn\\_oldcore.py:1119: FutureWarning: use_inf_as_na option is deprecated and will be removed in a future version. Convert inf values to NaN before operating instead.\n",
      "  with pd.option_context('mode.use_inf_as_na', True):\n",
      "C:\\Users\\atrke\\AppData\\Local\\Programs\\Python\\Python39\\lib\\site-packages\\seaborn\\_oldcore.py:1119: FutureWarning: use_inf_as_na option is deprecated and will be removed in a future version. Convert inf values to NaN before operating instead.\n",
      "  with pd.option_context('mode.use_inf_as_na', True):\n"
     ]
    },
    {
     "data": {
      "text/plain": "<Axes: >"
     },
     "execution_count": 15,
     "metadata": {},
     "output_type": "execute_result"
    },
    {
     "data": {
      "text/plain": "<Figure size 640x480 with 1 Axes>",
      "image/png": "[encoded data removed]"
     },
     "metadata": {},
     "output_type": "display_data"
    }
   ],
   "source": [
    "import seaborn as sns\n",
    "sns.lineplot(df, legend=True)"
   ]
  },
  {
   "cell_type": "code",
   "execution_count": 3,
   "metadata": {
    "ExecuteTime": {
     "end_time": "2023-12-14T03:50:22.647776700Z",
     "start_time": "2023-12-14T03:50:22.632106Z"
    }
   },
   "outputs": [],
   "source": [
    "# Select relevant columns and convert them to numpy arrays\n",
    "data = df[['total_visitor','total_accomodation']].values"
   ]
  },
  {
   "cell_type": "code",
   "execution_count": 4,
   "metadata": {
    "ExecuteTime": {
     "end_time": "2023-12-14T03:50:22.695112500Z",
     "start_time": "2023-12-14T03:50:22.647776700Z"
    }
   },
   "outputs": [],
   "source": [
    "# Normalize the data using MinMaxScaler\n",
    "scaler = MinMaxScaler()\n",
    "data_scaled = scaler.fit_transform(data)"
   ]
  },
  {
   "cell_type": "code",
   "execution_count": 5,
   "metadata": {
    "ExecuteTime": {
     "end_time": "2023-12-14T03:50:22.839489200Z",
     "start_time": "2023-12-14T03:50:22.663820200Z"
    }
   },
   "outputs": [],
   "source": [
    "# Choose the number of time steps (input sequence length)\n",
    "n_steps = 12\n",
    "\n",
    "# Create sequences for time series forecasting\n",
    "def create_sequences(data, n_steps):\n",
    "    X, y = [], []\n",
    "    for i in range(len(data) - n_steps):\n",
    "        X.append(data[i:i+n_steps, 0])  # total_accommodation\n",
    "        y.append(data[i+n_steps, 1])    # total_visitor\n",
    "    return np.array(X), np.array(y)"
   ]
  },
  {
   "cell_type": "code",
   "execution_count": 6,
   "metadata": {
    "ExecuteTime": {
     "end_time": "2023-12-14T03:50:22.870865300Z",
     "start_time": "2023-12-14T03:50:22.679459800Z"
    }
   },
   "outputs": [],
   "source": [
    "# Create sequences\n",
    "X, y = create_sequences(data_scaled, n_steps)"
   ]
  },
  {
   "cell_type": "code",
   "execution_count": 7,
   "metadata": {
    "ExecuteTime": {
     "end_time": "2023-12-14T03:50:22.902494900Z",
     "start_time": "2023-12-14T03:50:22.695112500Z"
    }
   },
   "outputs": [],
   "source": [
    "# Reshape the input data for LSTM\n",
    "X = X.reshape((X.shape[0], X.shape[1], 1))"
   ]
  },
  {
   "cell_type": "code",
   "execution_count": 8,
   "metadata": {
    "ExecuteTime": {
     "end_time": "2023-12-14T03:50:23.689597200Z",
     "start_time": "2023-12-14T03:50:22.711389100Z"
    }
   },
   "outputs": [
    {
     "name": "stdout",
     "output_type": "stream",
     "text": [
      "WARNING:tensorflow:From C:\\Users\\atrke\\AppData\\Local\\Programs\\Python\\Python39\\lib\\site-packages\\keras\\src\\backend.py:873: The name tf.get_default_graph is deprecated. Please use tf.compat.v1.get_default_graph instead.\n",
      "WARNING:tensorflow:From C:\\Users\\atrke\\AppData\\Local\\Programs\\Python\\Python39\\lib\\site-packages\\keras\\src\\optimizers\\__init__.py:309: The name tf.train.Optimizer is deprecated. Please use tf.compat.v1.train.Optimizer instead.\n"
     ]
    }
   ],
   "source": [
    "# Build the LSTM model\n",
    "model = Sequential()\n",
    "model.add(LSTM(50, activation='relu', input_shape=(n_steps, 1)))\n",
    "model.add(Dense(1))\n",
    "model.compile(optimizer='adam', loss='mse')"
   ]
  },
  {
   "cell_type": "code",
   "execution_count": 9,
   "metadata": {
    "ExecuteTime": {
     "end_time": "2023-12-14T03:50:27.275220200Z",
     "start_time": "2023-12-14T03:50:23.689597200Z"
    }
   },
   "outputs": [
    {
     "name": "stdout",
     "output_type": "stream",
     "text": [
      "Epoch 1/50\n",
      "WARNING:tensorflow:From C:\\Users\\atrke\\AppData\\Local\\Programs\\Python\\Python39\\lib\\site-packages\\keras\\src\\utils\\tf_utils.py:492: The name tf.ragged.RaggedTensorValue is deprecated. Please use tf.compat.v1.ragged.RaggedTensorValue instead.\n",
      "3/3 [==============================] - 2s 16ms/step - loss: 0.3189\n",
      "Epoch 2/50\n",
      "3/3 [==============================] - 0s 6ms/step - loss: 0.2752\n",
      "Epoch 3/50\n",
      "3/3 [==============================] - 0s 8ms/step - loss: 0.2341\n",
      "Epoch 4/50\n",
      "3/3 [==============================] - 0s 8ms/step - loss: 0.1958\n",
      "Epoch 5/50\n",
      "3/3 [==============================] - 0s 12ms/step - loss: 0.1669\n",
      "Epoch 6/50\n",
      "3/3 [==============================] - 0s 8ms/step - loss: 0.1434\n",
      "Epoch 7/50\n",
      "3/3 [==============================] - 0s 8ms/step - loss: 0.1365\n",
      "Epoch 8/50\n",
      "3/3 [==============================] - 0s 8ms/step - loss: 0.1388\n",
      "Epoch 9/50\n",
      "3/3 [==============================] - 0s 0s/step - loss: 0.1326\n",
      "Epoch 10/50\n",
      "3/3 [==============================] - 0s 8ms/step - loss: 0.1216\n",
      "Epoch 11/50\n",
      "3/3 [==============================] - 0s 8ms/step - loss: 0.1117\n",
      "Epoch 12/50\n",
      "3/3 [==============================] - 0s 10ms/step - loss: 0.1044\n",
      "Epoch 13/50\n",
      "3/3 [==============================] - 0s 8ms/step - loss: 0.0971\n",
      "Epoch 14/50\n",
      "3/3 [==============================] - 0s 4ms/step - loss: 0.0884\n",
      "Epoch 15/50\n",
      "3/3 [==============================] - 0s 10ms/step - loss: 0.0786\n",
      "Epoch 16/50\n",
      "3/3 [==============================] - 0s 5ms/step - loss: 0.0696\n",
      "Epoch 17/50\n",
      "3/3 [==============================] - 0s 8ms/step - loss: 0.0600\n",
      "Epoch 18/50\n",
      "3/3 [==============================] - 0s 5ms/step - loss: 0.0517\n",
      "Epoch 19/50\n",
      "3/3 [==============================] - 0s 6ms/step - loss: 0.0423\n",
      "Epoch 20/50\n",
      "3/3 [==============================] - 0s 3ms/step - loss: 0.0332\n",
      "Epoch 21/50\n",
      "3/3 [==============================] - 0s 0s/step - loss: 0.0268\n",
      "Epoch 22/50\n",
      "3/3 [==============================] - 0s 6ms/step - loss: 0.0227\n",
      "Epoch 23/50\n",
      "3/3 [==============================] - 0s 8ms/step - loss: 0.0215\n",
      "Epoch 24/50\n",
      "3/3 [==============================] - 0s 8ms/step - loss: 0.0215\n",
      "Epoch 25/50\n",
      "3/3 [==============================] - 0s 5ms/step - loss: 0.0220\n",
      "Epoch 26/50\n",
      "3/3 [==============================] - 0s 10ms/step - loss: 0.0216\n",
      "Epoch 27/50\n",
      "3/3 [==============================] - 0s 3ms/step - loss: 0.0209\n",
      "Epoch 28/50\n",
      "3/3 [==============================] - 0s 8ms/step - loss: 0.0202\n",
      "Epoch 29/50\n",
      "3/3 [==============================] - 0s 8ms/step - loss: 0.0192\n",
      "Epoch 30/50\n",
      "3/3 [==============================] - 0s 10ms/step - loss: 0.0189\n",
      "Epoch 31/50\n",
      "3/3 [==============================] - 0s 6ms/step - loss: 0.0188\n",
      "Epoch 32/50\n",
      "3/3 [==============================] - 0s 8ms/step - loss: 0.0187\n",
      "Epoch 33/50\n",
      "3/3 [==============================] - 0s 0s/step - loss: 0.0183\n",
      "Epoch 34/50\n",
      "3/3 [==============================] - 0s 0s/step - loss: 0.0180\n",
      "Epoch 35/50\n",
      "3/3 [==============================] - 0s 0s/step - loss: 0.0177\n",
      "Epoch 36/50\n",
      "3/3 [==============================] - 0s 8ms/step - loss: 0.0174\n",
      "Epoch 37/50\n",
      "3/3 [==============================] - 0s 8ms/step - loss: 0.0172\n",
      "Epoch 38/50\n",
      "3/3 [==============================] - 0s 8ms/step - loss: 0.0170\n",
      "Epoch 39/50\n",
      "3/3 [==============================] - 0s 8ms/step - loss: 0.0169\n",
      "Epoch 40/50\n",
      "3/3 [==============================] - 0s 10ms/step - loss: 0.0168\n",
      "Epoch 41/50\n",
      "3/3 [==============================] - 0s 7ms/step - loss: 0.0166\n",
      "Epoch 42/50\n",
      "3/3 [==============================] - 0s 7ms/step - loss: 0.0165\n",
      "Epoch 43/50\n",
      "3/3 [==============================] - 0s 8ms/step - loss: 0.0162\n",
      "Epoch 44/50\n",
      "3/3 [==============================] - 0s 8ms/step - loss: 0.0161\n",
      "Epoch 45/50\n",
      "3/3 [==============================] - 0s 7ms/step - loss: 0.0159\n",
      "Epoch 46/50\n",
      "3/3 [==============================] - 0s 0s/step - loss: 0.0157\n",
      "Epoch 47/50\n",
      "3/3 [==============================] - 0s 6ms/step - loss: 0.0156\n",
      "Epoch 48/50\n",
      "3/3 [==============================] - 0s 8ms/step - loss: 0.0154\n",
      "Epoch 49/50\n",
      "3/3 [==============================] - 0s 3ms/step - loss: 0.0152\n",
      "Epoch 50/50\n",
      "3/3 [==============================] - 0s 8ms/step - loss: 0.0150\n"
     ]
    },
    {
     "data": {
      "text/plain": "<keras.src.callbacks.History at 0x1792f6c0c10>"
     },
     "execution_count": 9,
     "metadata": {},
     "output_type": "execute_result"
    }
   ],
   "source": [
    "# Train the model\n",
    "model.fit(X, y, epochs=50, batch_size=32, verbose=1)"
   ]
  },
  {
   "cell_type": "code",
   "execution_count": 10,
   "metadata": {
    "ExecuteTime": {
     "end_time": "2023-12-14T03:50:27.563914200Z",
     "start_time": "2023-12-14T03:50:27.227479100Z"
    }
   },
   "outputs": [
    {
     "data": {
      "text/plain": "[<matplotlib.lines.Line2D at 0x17931a4faf0>]"
     },
     "execution_count": 10,
     "metadata": {},
     "output_type": "execute_result"
    },
    {
     "data": {
      "text/plain": "<Figure size 640x480 with 1 Axes>",
      "image/png": "[encoded data removed]"
     },
     "metadata": {},
     "output_type": "display_data"
    }
   ],
   "source": [
    "loss_per_epoch=model.history.history['loss']\n",
    "plt.plot(range(len(loss_per_epoch)),loss_per_epoch)"
   ]
  },
  {
   "cell_type": "code",
   "execution_count": 11,
   "metadata": {
    "ExecuteTime": {
     "end_time": "2023-12-14T03:50:29.325470200Z",
     "start_time": "2023-12-14T03:50:27.534146900Z"
    }
   },
   "outputs": [
    {
     "name": "stdout",
     "output_type": "stream",
     "text": [
      "1/1 [==============================] - 0s 281ms/step\n",
      "1/1 [==============================] - 0s 47ms/step\n",
      "1/1 [==============================] - 0s 43ms/step\n",
      "1/1 [==============================] - 0s 16ms/step\n",
      "1/1 [==============================] - 0s 31ms/step\n",
      "1/1 [==============================] - 0s 47ms/step\n",
      "1/1 [==============================] - 0s 56ms/step\n",
      "1/1 [==============================] - 0s 31ms/step\n",
      "1/1 [==============================] - 0s 51ms/step\n",
      "1/1 [==============================] - 0s 43ms/step\n",
      "1/1 [==============================] - 0s 31ms/step\n",
      "1/1 [==============================] - 0s 31ms/step\n"
     ]
    }
   ],
   "source": [
    "# Make predictions for the next 12 periods\n",
    "forecast_data = data_scaled[-n_steps:, 0].reshape((1, n_steps, 1))\n",
    "for _ in range(12):\n",
    "    prediction = model.predict(forecast_data)\n",
    "    forecast_data = np.append(forecast_data[:, 1:, :], prediction.reshape((1, 1, 1)), axis=1)"
   ]
  },
  {
   "cell_type": "code",
   "execution_count": 12,
   "metadata": {
    "ExecuteTime": {
     "end_time": "2023-12-14T03:50:29.439148100Z",
     "start_time": "2023-12-14T03:50:29.311849900Z"
    }
   },
   "outputs": [
    {
     "data": {
      "text/plain": "array([[[0.78433764],\n        [0.71574843],\n        [0.63005781],\n        [0.53990561],\n        [0.47284764],\n        [0.42931017],\n        [0.41149634],\n        [0.40553421],\n        [0.40384385],\n        [0.4084278 ],\n        [0.41446501],\n        [0.42017311]]])"
     },
     "execution_count": 12,
     "metadata": {},
     "output_type": "execute_result"
    }
   ],
   "source": [
    "forecast_data"
   ]
  },
  {
   "cell_type": "code",
   "execution_count": 13,
   "metadata": {
    "ExecuteTime": {
     "end_time": "2023-12-14T03:50:29.929646700Z",
     "start_time": "2023-12-14T03:50:29.337496400Z"
    }
   },
   "outputs": [
    {
     "ename": "NameError",
     "evalue": "name 'test_' is not defined",
     "output_type": "error",
     "traceback": [
      "\u001B[1;31m---------------------------------------------------------------------------\u001B[0m",
      "\u001B[1;31mNameError\u001B[0m                                 Traceback (most recent call last)",
      "Cell \u001B[1;32mIn [13], line 1\u001B[0m\n\u001B[1;32m----> 1\u001B[0m true_forecast\u001B[38;5;241m=\u001B[39mscaler\u001B[38;5;241m.\u001B[39minverse_transform(\u001B[43mtest_\u001B[49m)\n",
      "\u001B[1;31mNameError\u001B[0m: name 'test_' is not defined"
     ]
    }
   ],
   "source": [
    "true_forecast=scaler.inverse_transform(test_)"
   ]
  },
  {
   "cell_type": "code",
   "execution_count": null,
   "metadata": {
    "ExecuteTime": {
     "start_time": "2023-12-14T03:50:29.804147700Z"
    }
   },
   "outputs": [],
   "source": [
    "# Extract the scaled features without the last column (total_visitor)\n",
    "scaled_features = data_scaled[:, :-1]\n",
    "\n",
    "# Extract the forecasted values\n",
    "forecast_values = forecast_data[0, :, 0]\n",
    "\n",
    "# Reshape forecast_values to have the same number of dimensions as scaled_features\n",
    "forecast_values = forecast_values.reshape(-1, 1)\n",
    "\n",
    "# Concatenate along the last dimension\n",
    "combined_data = np.concatenate((scaled_features, forecast_values), axis=-1)\n",
    "\n",
    "# Inverse transform the combined data to get the original scale\n",
    "forecasted_values = scaler.inverse_transform(combined_data)[:, -1]"
   ]
  }
 ],
 "metadata": {
  "kernelspec": {
   "display_name": "Python 3",
   "language": "python",
   "name": "python3"
  },
  "language_info": {
   "codemirror_mode": {
    "name": "ipython",
    "version": 3
   },
   "file_extension": ".py",
   "mimetype": "text/x-python",
   "name": "python",
   "nbconvert_exporter": "python",
   "pygments_lexer": "ipython3",
   "version": "3.9.12"
  }
 },
 "nbformat": 4,
 "nbformat_minor": 2
}
