{
 "cells": [
  {
   "cell_type": "code",
   "execution_count": 1,
   "metadata": {
    "ExecuteTime": {
     "end_time": "2023-12-14T11:20:22.142681800Z",
     "start_time": "2023-12-14T11:20:21.166590Z"
    }
   },
   "outputs": [],
   "source": [
    "import numpy as np\n",
    "import pandas as pd\n",
    "import matplotlib.pyplot as plt\n",
    "from sklearn.preprocessing import MinMaxScaler\n",
    "from sklearn.svm import SVR\n",
    "from sklearn.model_selection import GridSearchCV\n",
    "from sklearn.metrics import mean_squared_error, mean_absolute_error\n",
    "from sklearn.model_selection import train_test_split"
   ]
  },
  {
   "cell_type": "code",
   "execution_count": 2,
   "metadata": {
    "ExecuteTime": {
     "end_time": "2023-12-14T11:20:22.221621Z",
     "start_time": "2023-12-14T11:20:22.142681800Z"
    }
   },
   "outputs": [],
   "source": [
    "data = pd.read_csv('KepRiau 2015 - 2022.csv')\n",
    "\n",
    "# Convert 'datetime' column to datetime type\n",
    "data['datetime'] = pd.to_datetime(data['datetime'])\n",
    "\n",
    "# Set 'datetime' column as index\n",
    "data.set_index('datetime', inplace=True)\n",
    "\n",
    "# Normalize the data\n",
    "scaler = MinMaxScaler()\n",
    "data_scaled = scaler.fit_transform(data)\n",
    "\n",
    "# Define your input and output variables\n",
    "X = data_scaled[:, 1].reshape(-1, 1)  # 'total_accomodation' as input\n",
    "y = data_scaled[:, 0]  # 'total_visitor' as output\n",
    "\n"
   ]
  },
  {
   "cell_type": "markdown",
   "metadata": {},
   "source": [
    "TEST SIZE 80 : 20"
   ]
  },
  {
   "cell_type": "code",
   "execution_count": 3,
   "metadata": {
    "ExecuteTime": {
     "end_time": "2023-12-14T11:20:22.238016Z",
     "start_time": "2023-12-14T11:20:22.221621Z"
    }
   },
   "outputs": [],
   "source": [
    "# Split the data into training and testing sets (80:20 split)\n",
    "X_train, X_test, y_train, y_test = train_test_split(X, y, test_size=0.2, shuffle=False)"
   ]
  },
  {
   "cell_type": "code",
   "execution_count": 4,
   "metadata": {
    "ExecuteTime": {
     "end_time": "2023-12-14T11:20:22.608789100Z",
     "start_time": "2023-12-14T11:20:22.238016Z"
    }
   },
   "outputs": [
    {
     "name": "stdout",
     "output_type": "stream",
     "text": [
      "Best Hyperparameters: {'C': 10, 'epsilon': 0.1, 'gamma': 10}\n"
     ]
    }
   ],
   "source": [
    "# Define the parameter grid\n",
    "param_grid = {'C': [0.1, 1, 10, 100],\n",
    "              'gamma': [0.01, 0.1, 1, 10],\n",
    "              'epsilon': [0.01, 0.1, 1, 10]}\n",
    "\n",
    "# Create an SVR model\n",
    "svr = SVR(kernel='rbf')\n",
    "\n",
    "# Perform grid search\n",
    "grid_search = GridSearchCV(svr, param_grid, cv=5)\n",
    "grid_search.fit(X_train, y_train)\n",
    "\n",
    "# Get the best hyperparameters\n",
    "best_params = grid_search.best_params_\n",
    "print(f\"Best Hyperparameters: {best_params}\")"
   ]
  },
  {
   "cell_type": "code",
   "execution_count": 5,
   "metadata": {
    "ExecuteTime": {
     "end_time": "2023-12-14T11:20:22.629825200Z",
     "start_time": "2023-12-14T11:20:22.608789100Z"
    }
   },
   "outputs": [
    {
     "name": "stdout",
     "output_type": "stream",
     "text": [
      "Mean Squared Error (MSE): 11387293.245211797\n",
      "Mean Absolute Error (MAE): 3168.97476400798\n",
      "Mean Absolute Percentage Error (MAPE): 28.97%\n"
     ]
    }
   ],
   "source": [
    "# Build and Train the SVR Model\n",
    "svr_model = SVR(kernel='rbf', C=10, gamma=10, epsilon=0.1)\n",
    "svr_model.fit(X_train, y_train)\n",
    "\n",
    "# Make predictions on the test set\n",
    "y_pred = svr_model.predict(X_test)\n",
    "\n",
    "# Inverse transform the scaled predictions and actual values\n",
    "y_pred_inv = scaler.inverse_transform(np.column_stack((np.zeros_like(y_pred), y_pred)))[:, 1]\n",
    "y_test_inv = scaler.inverse_transform(np.column_stack((np.zeros_like(y_test), y_test)))[:, 1]\n",
    "\n",
    "# Calculate evaluation metrics\n",
    "mse = mean_squared_error(y_test_inv, y_pred_inv)\n",
    "mae = mean_absolute_error(y_test_inv, y_pred_inv)\n",
    "mape = np.mean(np.abs((y_test_inv - y_pred_inv) / y_test_inv)) * 100\n",
    "\n",
    "print(f'Mean Squared Error (MSE): {mse}')\n",
    "print(f'Mean Absolute Error (MAE): {mae}')\n",
    "print(f'Mean Absolute Percentage Error (MAPE): {mape:.2f}%')\n"
   ]
  },
  {
   "cell_type": "code",
   "execution_count": 6,
   "metadata": {
    "ExecuteTime": {
     "end_time": "2023-12-14T11:20:22.682641900Z",
     "start_time": "2023-12-14T11:20:22.636114300Z"
    }
   },
   "outputs": [],
   "source": [
    "# Forecasting\n",
    "# Forecast for the next 12 periods\n",
    "future_periods = 12\n",
    "X_future = np.linspace(X[-1], X[-1] + future_periods, future_periods).reshape(-1, 1)\n",
    "y_future_pred = svr_model.predict(X_future)\n",
    "\n",
    "# Inverse transform the scaled predictions\n",
    "y_future_pred_inv = scaler.inverse_transform(np.column_stack((np.zeros_like(y_future_pred), y_future_pred)))[:, 1]\n",
    "\n",
    "# Create a date range for the future periods\n",
    "future_dates = pd.date_range(start=data.index[-1], periods=future_periods + 1, freq='M')[1:]\n",
    "\n"
   ]
  },
  {
   "cell_type": "code",
   "execution_count": 19,
   "outputs": [
    {
     "name": "stdout",
     "output_type": "stream",
     "text": [
      "╒═════════════════════╤══════════════╕\n",
      "│ Date                │   Prediction │\n",
      "╞═════════════════════╪══════════════╡\n",
      "│ 2023-01-01 00:00:00 │      8913.04 │\n",
      "├─────────────────────┼──────────────┤\n",
      "│ 2023-02-01 00:00:00 │     11838.3  │\n",
      "├─────────────────────┼──────────────┤\n",
      "│ 2023-03-01 00:00:00 │     11838.3  │\n",
      "├─────────────────────┼──────────────┤\n",
      "│ 2023-04-01 00:00:00 │     11838.3  │\n",
      "├─────────────────────┼──────────────┤\n",
      "│ 2023-05-01 00:00:00 │     11838.3  │\n",
      "├─────────────────────┼──────────────┤\n",
      "│ 2023-06-01 00:00:00 │     11838.3  │\n",
      "├─────────────────────┼──────────────┤\n",
      "│ 2023-07-01 00:00:00 │     11838.3  │\n",
      "├─────────────────────┼──────────────┤\n",
      "│ 2023-08-01 00:00:00 │     11838.3  │\n",
      "├─────────────────────┼──────────────┤\n",
      "│ 2023-09-01 00:00:00 │     11838.3  │\n",
      "├─────────────────────┼──────────────┤\n",
      "│ 2023-10-01 00:00:00 │     11838.3  │\n",
      "├─────────────────────┼──────────────┤\n",
      "│ 2023-11-01 00:00:00 │     11838.3  │\n",
      "├─────────────────────┼──────────────┤\n",
      "│ 2023-12-01 00:00:00 │     11838.3  │\n",
      "╘═════════════════════╧══════════════╛\n"
     ]
    }
   ],
   "source": [
    "from tabulate import tabulate\n",
    "\n",
    "forecast_dates_1=pd.date_range(start='2023-01-01', end='2023-12-01', freq='MS')\n",
    "\n",
    "data=list(zip(forecast_dates_1,y_future_pred_inv))\n",
    "\n",
    "headers=['Date','Prediction']\n",
    "table=tabulate(data, headers=headers, tablefmt='fancy_grid')\n",
    "print(table)"
   ],
   "metadata": {
    "collapsed": false,
    "ExecuteTime": {
     "end_time": "2023-12-14T11:41:48.299471900Z",
     "start_time": "2023-12-14T11:41:48.220747800Z"
    }
   }
  },
  {
   "cell_type": "markdown",
   "metadata": {},
   "source": [
    "TEST SIZE 70:30"
   ]
  },
  {
   "cell_type": "code",
   "execution_count": 7,
   "metadata": {
    "ExecuteTime": {
     "end_time": "2023-12-14T11:20:22.698276100Z",
     "start_time": "2023-12-14T11:20:22.651794Z"
    }
   },
   "outputs": [],
   "source": [
    "# Split the data into training and testing sets (70:30 split)\n",
    "X_train, X_test, y_train, y_test = train_test_split(X, y, test_size=0.3, shuffle=False)"
   ]
  },
  {
   "cell_type": "code",
   "execution_count": 8,
   "metadata": {
    "ExecuteTime": {
     "end_time": "2023-12-14T11:20:22.999288800Z",
     "start_time": "2023-12-14T11:20:22.675133600Z"
    }
   },
   "outputs": [
    {
     "name": "stdout",
     "output_type": "stream",
     "text": [
      "Best Hyperparameters: {'C': 100, 'epsilon': 0.01, 'gamma': 10}\n"
     ]
    }
   ],
   "source": [
    "# Define the parameter grid\n",
    "param_grid = {'C': [0.1, 1, 10, 100],\n",
    "              'gamma': [0.01, 0.1, 1, 10],\n",
    "              'epsilon': [0.01, 0.1, 1, 10]}\n",
    "\n",
    "# Create an SVR model\n",
    "svr = SVR(kernel='rbf')\n",
    "\n",
    "# Perform grid search\n",
    "grid_search = GridSearchCV(svr, param_grid, cv=5)\n",
    "grid_search.fit(X_train, y_train)\n",
    "\n",
    "# Get the best hyperparameters\n",
    "best_params = grid_search.best_params_\n",
    "print(f\"Best Hyperparameters: {best_params}\")"
   ]
  },
  {
   "cell_type": "code",
   "execution_count": 9,
   "metadata": {
    "ExecuteTime": {
     "end_time": "2023-12-14T11:20:23.014804700Z",
     "start_time": "2023-12-14T11:20:22.999288800Z"
    }
   },
   "outputs": [
    {
     "name": "stdout",
     "output_type": "stream",
     "text": [
      "Mean Squared Error (MSE): 5240226.382515353\n",
      "Mean Absolute Error (MAE): 1874.213000667926\n",
      "Mean Absolute Percentage Error (MAPE): 17.21%\n"
     ]
    }
   ],
   "source": [
    "# Build and Train the SVR Model\n",
    "svr_model = SVR(kernel='rbf', C=10, gamma=10, epsilon=0.1)\n",
    "svr_model.fit(X_train, y_train)\n",
    "\n",
    "# Make predictions on the test set\n",
    "y_pred = svr_model.predict(X_test)\n",
    "\n",
    "# Inverse transform the scaled predictions and actual values\n",
    "y_pred_inv = scaler.inverse_transform(np.column_stack((np.zeros_like(y_pred), y_pred)))[:, 1]\n",
    "y_test_inv = scaler.inverse_transform(np.column_stack((np.zeros_like(y_test), y_test)))[:, 1]\n",
    "\n",
    "# Calculate evaluation metrics\n",
    "mse = mean_squared_error(y_test_inv, y_pred_inv)\n",
    "mae = mean_absolute_error(y_test_inv, y_pred_inv)\n",
    "mape = np.mean(np.abs((y_test_inv - y_pred_inv) / y_test_inv)) * 100\n",
    "\n",
    "print(f'Mean Squared Error (MSE): {mse}')\n",
    "print(f'Mean Absolute Error (MAE): {mae}')\n",
    "print(f'Mean Absolute Percentage Error (MAPE): {mape:.2f}%')\n"
   ]
  },
  {
   "cell_type": "code",
   "execution_count": 10,
   "metadata": {
    "ExecuteTime": {
     "end_time": "2023-12-14T11:20:23.077449700Z",
     "start_time": "2023-12-14T11:20:23.014804700Z"
    }
   },
   "outputs": [],
   "source": [
    "# Forecasting\n",
    "# Forecast for the next 12 periods\n",
    "future_periods = 12\n",
    "X_future = np.linspace(X[-1], X[-1] + future_periods, future_periods).reshape(-1, 1)\n",
    "y_future_pred = svr_model.predict(X_future)\n",
    "\n",
    "# Inverse transform the scaled predictions\n",
    "y_future_pred_inv_30 = scaler.inverse_transform(np.column_stack((np.zeros_like(y_future_pred), y_future_pred)))[:, 1]\n",
    "\n",
    "# Create a date range for the future periods\n",
    "future_dates_30 = pd.date_range(start=data.index[-1], periods=future_periods + 1, freq='M')[1:]"
   ]
  },
  {
   "cell_type": "code",
   "execution_count": 18,
   "outputs": [
    {
     "name": "stdout",
     "output_type": "stream",
     "text": [
      "╒═════════════════════╤══════════════╕\n",
      "│ Date                │   Prediction │\n",
      "╞═════════════════════╪══════════════╡\n",
      "│ 2023-01-01 00:00:00 │      8380.65 │\n",
      "├─────────────────────┼──────────────┤\n",
      "│ 2023-02-01 00:00:00 │     11934.2  │\n",
      "├─────────────────────┼──────────────┤\n",
      "│ 2023-03-01 00:00:00 │     11934.2  │\n",
      "├─────────────────────┼──────────────┤\n",
      "│ 2023-04-01 00:00:00 │     11934.2  │\n",
      "├─────────────────────┼──────────────┤\n",
      "│ 2023-05-01 00:00:00 │     11934.2  │\n",
      "├─────────────────────┼──────────────┤\n",
      "│ 2023-06-01 00:00:00 │     11934.2  │\n",
      "├─────────────────────┼──────────────┤\n",
      "│ 2023-07-01 00:00:00 │     11934.2  │\n",
      "├─────────────────────┼──────────────┤\n",
      "│ 2023-08-01 00:00:00 │     11934.2  │\n",
      "├─────────────────────┼──────────────┤\n",
      "│ 2023-09-01 00:00:00 │     11934.2  │\n",
      "├─────────────────────┼──────────────┤\n",
      "│ 2023-10-01 00:00:00 │     11934.2  │\n",
      "├─────────────────────┼──────────────┤\n",
      "│ 2023-11-01 00:00:00 │     11934.2  │\n",
      "├─────────────────────┼──────────────┤\n",
      "│ 2023-12-01 00:00:00 │     11934.2  │\n",
      "╘═════════════════════╧══════════════╛\n"
     ]
    }
   ],
   "source": [
    "from tabulate import tabulate\n",
    "\n",
    "forecast_dates_1=pd.date_range(start='2023-01-01', end='2023-12-01', freq='MS')\n",
    "\n",
    "data=list(zip(forecast_dates_1,y_future_pred_inv_30))\n",
    "\n",
    "headers=['Date','Prediction']\n",
    "table=tabulate(data, headers=headers, tablefmt='fancy_grid')\n",
    "print(table)"
   ],
   "metadata": {
    "collapsed": false,
    "ExecuteTime": {
     "end_time": "2023-12-14T11:41:28.772114600Z",
     "start_time": "2023-12-14T11:41:28.739570600Z"
    }
   }
  },
  {
   "cell_type": "markdown",
   "metadata": {},
   "source": [
    "TEST SIZE 60:40"
   ]
  },
  {
   "cell_type": "code",
   "execution_count": 11,
   "metadata": {
    "ExecuteTime": {
     "end_time": "2023-12-14T11:20:23.077449700Z",
     "start_time": "2023-12-14T11:20:23.030631900Z"
    }
   },
   "outputs": [],
   "source": [
    "# Split the data into training and testing sets (60:40 split)\n",
    "X_train, X_test, y_train, y_test = train_test_split(X, y, test_size=0.4, shuffle=False)"
   ]
  },
  {
   "cell_type": "code",
   "execution_count": 12,
   "metadata": {
    "ExecuteTime": {
     "end_time": "2023-12-14T11:20:23.361198200Z",
     "start_time": "2023-12-14T11:20:23.046182400Z"
    }
   },
   "outputs": [
    {
     "name": "stdout",
     "output_type": "stream",
     "text": [
      "Best Hyperparameters: {'C': 10, 'epsilon': 0.01, 'gamma': 10}\n"
     ]
    }
   ],
   "source": [
    "# Define the parameter grid\n",
    "param_grid = {'C': [0.1, 1, 10, 100],\n",
    "              'gamma': [0.01, 0.1, 1, 10],\n",
    "              'epsilon': [0.01, 0.1, 1, 10]}\n",
    "\n",
    "# Create an SVR model\n",
    "svr = SVR(kernel='rbf')\n",
    "\n",
    "# Perform grid search\n",
    "grid_search = GridSearchCV(svr, param_grid, cv=5)\n",
    "grid_search.fit(X_train, y_train)\n",
    "\n",
    "# Get the best hyperparameters\n",
    "best_params = grid_search.best_params_\n",
    "print(f\"Best Hyperparameters: {best_params}\")"
   ]
  },
  {
   "cell_type": "code",
   "execution_count": 13,
   "metadata": {
    "ExecuteTime": {
     "end_time": "2023-12-14T11:20:23.376781800Z",
     "start_time": "2023-12-14T11:20:23.361198200Z"
    }
   },
   "outputs": [
    {
     "name": "stdout",
     "output_type": "stream",
     "text": [
      "Mean Squared Error (MSE): 11249696.942468135\n",
      "Mean Absolute Error (MAE): 2939.13404216322\n",
      "Mean Absolute Percentage Error (MAPE): 28.35%\n"
     ]
    }
   ],
   "source": [
    "# Build and Train the SVR Model\n",
    "svr_model = SVR(kernel='rbf', C=10, gamma=10, epsilon=0.1)\n",
    "svr_model.fit(X_train, y_train)\n",
    "\n",
    "# Make predictions on the test set\n",
    "y_pred = svr_model.predict(X_test)\n",
    "\n",
    "# Inverse transform the scaled predictions and actual values\n",
    "y_pred_inv = scaler.inverse_transform(np.column_stack((np.zeros_like(y_pred), y_pred)))[:, 1]\n",
    "y_test_inv = scaler.inverse_transform(np.column_stack((np.zeros_like(y_test), y_test)))[:, 1]\n",
    "\n",
    "# Calculate evaluation metrics\n",
    "mse = mean_squared_error(y_test_inv, y_pred_inv)\n",
    "mae = mean_absolute_error(y_test_inv, y_pred_inv)\n",
    "mape = np.mean(np.abs((y_test_inv - y_pred_inv) / y_test_inv)) * 100\n",
    "\n",
    "print(f'Mean Squared Error (MSE): {mse}')\n",
    "print(f'Mean Absolute Error (MAE): {mae}')\n",
    "print(f'Mean Absolute Percentage Error (MAPE): {mape:.2f}%')\n"
   ]
  },
  {
   "cell_type": "code",
   "execution_count": 14,
   "metadata": {
    "ExecuteTime": {
     "end_time": "2023-12-14T11:20:23.448503500Z",
     "start_time": "2023-12-14T11:20:23.376781800Z"
    }
   },
   "outputs": [],
   "source": [
    "# Forecasting\n",
    "# Forecast for the next 12 periods\n",
    "future_periods = 12\n",
    "X_future = np.linspace(X[-1], X[-1] + future_periods, future_periods).reshape(-1, 1)\n",
    "y_future_pred = svr_model.predict(X_future)\n",
    "\n",
    "# Inverse transform the scaled predictions\n",
    "y_future_pred_inv_40 = scaler.inverse_transform(np.column_stack((np.zeros_like(y_future_pred), y_future_pred)))[:, 1]\n",
    "\n",
    "# Create a date range for the future periods\n",
    "future_dates_40 = pd.date_range(start=data.index[-1], periods=future_periods + 1, freq='M')[1:]"
   ]
  },
  {
   "cell_type": "markdown",
   "metadata": {},
   "source": [
    "VISUALIZATION"
   ]
  },
  {
   "cell_type": "code",
   "execution_count": 15,
   "metadata": {
    "ExecuteTime": {
     "end_time": "2023-12-14T11:20:23.775900100Z",
     "start_time": "2023-12-14T11:20:23.392539800Z"
    }
   },
   "outputs": [
    {
     "data": {
      "text/plain": "<Figure size 640x480 with 1 Axes>",
      "image/png": "[encoded data removed]"
     },
     "metadata": {},
     "output_type": "display_data"
    }
   ],
   "source": [
    "# Plot the results\n",
    "plt.plot(figsize=(17,9))\n",
    "plt.plot(data.index, data['total_visitor'], label='Actual')\n",
    "plt.plot(future_dates, y_future_pred_inv, label='Forecast 80:20')\n",
    "plt.plot(future_dates_30, y_future_pred_inv_30, label='Forecast 70:30', color='red')\n",
    "plt.plot(future_dates_40, y_future_pred_inv_40, label='Forecast 60:40', color='green')\n",
    "plt.legend()\n",
    "plt.show()"
   ]
  },
  {
   "cell_type": "code",
   "execution_count": 17,
   "outputs": [
    {
     "name": "stdout",
     "output_type": "stream",
     "text": [
      "╒═════════════════════╤══════════════╕\n",
      "│ Date                │   Prediction │\n",
      "╞═════════════════════╪══════════════╡\n",
      "│ 2023-01-01 00:00:00 │      13572.8 │\n",
      "├─────────────────────┼──────────────┤\n",
      "│ 2023-02-01 00:00:00 │      13593.4 │\n",
      "├─────────────────────┼──────────────┤\n",
      "│ 2023-03-01 00:00:00 │      13593.4 │\n",
      "├─────────────────────┼──────────────┤\n",
      "│ 2023-04-01 00:00:00 │      13593.4 │\n",
      "├─────────────────────┼──────────────┤\n",
      "│ 2023-05-01 00:00:00 │      13593.4 │\n",
      "├─────────────────────┼──────────────┤\n",
      "│ 2023-06-01 00:00:00 │      13593.4 │\n",
      "├─────────────────────┼──────────────┤\n",
      "│ 2023-07-01 00:00:00 │      13593.4 │\n",
      "├─────────────────────┼──────────────┤\n",
      "│ 2023-08-01 00:00:00 │      13593.4 │\n",
      "├─────────────────────┼──────────────┤\n",
      "│ 2023-09-01 00:00:00 │      13593.4 │\n",
      "├─────────────────────┼──────────────┤\n",
      "│ 2023-10-01 00:00:00 │      13593.4 │\n",
      "├─────────────────────┼──────────────┤\n",
      "│ 2023-11-01 00:00:00 │      13593.4 │\n",
      "├─────────────────────┼──────────────┤\n",
      "│ 2023-12-01 00:00:00 │      13593.4 │\n",
      "╘═════════════════════╧══════════════╛\n"
     ]
    }
   ],
   "source": [
    "from tabulate import tabulate\n",
    "\n",
    "forecast_dates_1=pd.date_range(start='2023-01-01', end='2023-12-01', freq='MS')\n",
    "\n",
    "data=list(zip(forecast_dates_1,y_future_pred_inv_40))\n",
    "\n",
    "headers=['Date','Prediction']\n",
    "table=tabulate(data, headers=headers, tablefmt='fancy_grid')\n",
    "print(table)"
   ],
   "metadata": {
    "collapsed": false,
    "ExecuteTime": {
     "end_time": "2023-12-14T11:39:53.933300900Z",
     "start_time": "2023-12-14T11:39:53.891723200Z"
    }
   }
  },
  {
   "cell_type": "code",
   "execution_count": null,
   "outputs": [],
   "source": [],
   "metadata": {
    "collapsed": false
   }
  }
 ],
 "metadata": {
  "kernelspec": {
   "display_name": "Python 3",
   "language": "python",
   "name": "python3"
  },
  "language_info": {
   "codemirror_mode": {
    "name": "ipython",
    "version": 3
   },
   "file_extension": ".py",
   "mimetype": "text/x-python",
   "name": "python",
   "nbconvert_exporter": "python",
   "pygments_lexer": "ipython3",
   "version": "3.11.7"
  }
 },
 "nbformat": 4,
 "nbformat_minor": 2
}
