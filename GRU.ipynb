{
 "cells": [
  {
   "cell_type": "code",
   "execution_count": 1,
   "id": "initial_id",
   "metadata": {
    "ExecuteTime": {
     "end_time": "2023-12-11T08:07:14.600495500Z",
     "start_time": "2023-12-11T08:07:05.987298Z"
    },
    "collapsed": true
   },
   "outputs": [
    {
     "name": "stdout",
     "output_type": "stream",
     "text": [
      "WARNING:tensorflow:From C:\\Users\\ilham\\AppData\\Local\\Packages\\PythonSoftwareFoundation.Python.3.11_qbz5n2kfra8p0\\LocalCache\\local-packages\\Python311\\site-packages\\keras\\src\\losses.py:2976: The name tf.losses.sparse_softmax_cross_entropy is deprecated. Please use tf.compat.v1.losses.sparse_softmax_cross_entropy instead.\n",
      "\n"
     ]
    }
   ],
   "source": [
    "import tensorflow as tf\n",
    "import seaborn as sns\n",
    "import numpy as np\n",
    "import pandas as pd\n",
    "import matplotlib.pyplot as plt\n",
    "import sklearn.preprocessing\n",
    "from sklearn.metrics import r2_score\n",
    "from sklearn.preprocessing import MinMaxScaler\n",
    "from sklearn.model_selection import train_test_split\n",
    "from sklearn.metrics import mean_absolute_error, mean_squared_error\n",
    "from tensorflow.keras.callbacks import EarlyStopping\n",
    "from keras.layers import Dense,Dropout,SimpleRNN,LSTM,GRU\n",
    "from keras.models import Sequential\n",
    "from tensorflow import keras"
   ]
  },
  {
   "cell_type": "code",
   "execution_count": 170,
   "id": "ebe5587b0867903b",
   "metadata": {
    "ExecuteTime": {
     "end_time": "2023-12-11T08:07:16.641871Z",
     "start_time": "2023-12-11T08:07:16.578749900Z"
    },
    "collapsed": false
   },
   "outputs": [],
   "source": [
    "# Load your dataset\n",
    "# Assuming your dataset has columns 'datetime', 'total_visitor', 'total_accomodation'\n",
    "# Adjust the file path accordingly\n",
    "\n",
    "data = pd.read_csv('KepRiau 2015 - 2022.csv')\n",
    "\n",
    "# Convert 'datetime' column to datetime type\n",
    "data['datetime'] = pd.to_datetime(data['datetime'])\n",
    "\n",
    "# Set 'datetime' column as index\n",
    "data.set_index('datetime', inplace=True)\n",
    "\n",
    "# Normalize the data\n",
    "scaler = MinMaxScaler()\n",
    "data_scaled = scaler.fit_transform(data)\n",
    "\n",
    "# Define your input and output variables\n",
    "X = data_scaled[:, 1]  # 'total_accomodation' as input\n",
    "y = data_scaled[:, 0]  # 'total_visitor' as output\n",
    "\n",
    "# Split the data into training and testing sets\n",
    "X_train, X_test, y_train, y_test = train_test_split(X, y, test_size=0.2, shuffle=False)\n"
   ]
  },
  {
   "cell_type": "code",
   "execution_count": 171,
   "id": "9ebfab23",
   "metadata": {},
   "outputs": [],
   "source": [
    "# Reshape data for GRU input\n",
    "X_train = X_train.reshape((X_train.shape[0], 1, 1))\n",
    "X_test = X_test.reshape((X_test.shape[0], 1, 1))\n"
   ]
  },
  {
   "cell_type": "code",
   "execution_count": 172,
   "id": "7bf76327",
   "metadata": {},
   "outputs": [
    {
     "name": "stdout",
     "output_type": "stream",
     "text": [
      "Epoch 1/50\n",
      "3/3 - 5s - loss: 0.3199 - val_loss: 0.0380 - 5s/epoch - 2s/step\n",
      "Epoch 2/50\n",
      "3/3 - 0s - loss: 0.2887 - val_loss: 0.0307 - 70ms/epoch - 23ms/step\n",
      "Epoch 3/50\n",
      "3/3 - 0s - loss: 0.2614 - val_loss: 0.0266 - 68ms/epoch - 23ms/step\n",
      "Epoch 4/50\n",
      "3/3 - 0s - loss: 0.2351 - val_loss: 0.0259 - 77ms/epoch - 26ms/step\n",
      "Epoch 5/50\n",
      "3/3 - 0s - loss: 0.2109 - val_loss: 0.0283 - 81ms/epoch - 27ms/step\n",
      "Epoch 6/50\n",
      "3/3 - 0s - loss: 0.1886 - val_loss: 0.0338 - 69ms/epoch - 23ms/step\n",
      "Epoch 7/50\n",
      "3/3 - 0s - loss: 0.1681 - val_loss: 0.0423 - 74ms/epoch - 25ms/step\n",
      "Epoch 8/50\n",
      "3/3 - 0s - loss: 0.1495 - val_loss: 0.0535 - 67ms/epoch - 22ms/step\n",
      "Epoch 9/50\n",
      "3/3 - 0s - loss: 0.1343 - val_loss: 0.0676 - 72ms/epoch - 24ms/step\n",
      "Epoch 10/50\n",
      "3/3 - 0s - loss: 0.1200 - val_loss: 0.0840 - 75ms/epoch - 25ms/step\n",
      "Epoch 11/50\n",
      "3/3 - 0s - loss: 0.1074 - val_loss: 0.1024 - 82ms/epoch - 27ms/step\n",
      "Epoch 12/50\n",
      "3/3 - 0s - loss: 0.0961 - val_loss: 0.1221 - 72ms/epoch - 24ms/step\n",
      "Epoch 13/50\n",
      "3/3 - 0s - loss: 0.0877 - val_loss: 0.1431 - 69ms/epoch - 23ms/step\n",
      "Epoch 14/50\n",
      "3/3 - 0s - loss: 0.0801 - val_loss: 0.1645 - 70ms/epoch - 23ms/step\n",
      "Epoch 15/50\n",
      "3/3 - 0s - loss: 0.0746 - val_loss: 0.1861 - 67ms/epoch - 22ms/step\n",
      "Epoch 16/50\n",
      "3/3 - 0s - loss: 0.0698 - val_loss: 0.2064 - 71ms/epoch - 24ms/step\n",
      "Epoch 17/50\n",
      "3/3 - 0s - loss: 0.0671 - val_loss: 0.2260 - 80ms/epoch - 27ms/step\n",
      "Epoch 18/50\n",
      "3/3 - 0s - loss: 0.0655 - val_loss: 0.2443 - 115ms/epoch - 38ms/step\n",
      "Epoch 19/50\n",
      "3/3 - 0s - loss: 0.0636 - val_loss: 0.2583 - 78ms/epoch - 26ms/step\n",
      "Epoch 20/50\n",
      "3/3 - 0s - loss: 0.0633 - val_loss: 0.2709 - 78ms/epoch - 26ms/step\n",
      "Epoch 21/50\n",
      "3/3 - 0s - loss: 0.0628 - val_loss: 0.2796 - 76ms/epoch - 25ms/step\n",
      "Epoch 22/50\n",
      "3/3 - 0s - loss: 0.0626 - val_loss: 0.2856 - 75ms/epoch - 25ms/step\n",
      "Epoch 23/50\n",
      "3/3 - 0s - loss: 0.0624 - val_loss: 0.2889 - 79ms/epoch - 26ms/step\n",
      "Epoch 24/50\n",
      "3/3 - 0s - loss: 0.0622 - val_loss: 0.2894 - 118ms/epoch - 39ms/step\n",
      "Epoch 25/50\n",
      "3/3 - 0s - loss: 0.0620 - val_loss: 0.2862 - 90ms/epoch - 30ms/step\n",
      "Epoch 26/50\n",
      "3/3 - 0s - loss: 0.0616 - val_loss: 0.2829 - 70ms/epoch - 23ms/step\n",
      "Epoch 27/50\n",
      "3/3 - 0s - loss: 0.0614 - val_loss: 0.2777 - 64ms/epoch - 21ms/step\n",
      "Epoch 28/50\n",
      "3/3 - 0s - loss: 0.0609 - val_loss: 0.2742 - 82ms/epoch - 27ms/step\n",
      "Epoch 29/50\n",
      "3/3 - 0s - loss: 0.0605 - val_loss: 0.2679 - 63ms/epoch - 21ms/step\n",
      "Epoch 30/50\n",
      "3/3 - 0s - loss: 0.0602 - val_loss: 0.2601 - 62ms/epoch - 21ms/step\n",
      "Epoch 31/50\n",
      "3/3 - 0s - loss: 0.0599 - val_loss: 0.2531 - 57ms/epoch - 19ms/step\n",
      "Epoch 32/50\n",
      "3/3 - 0s - loss: 0.0594 - val_loss: 0.2482 - 61ms/epoch - 20ms/step\n",
      "Epoch 33/50\n",
      "3/3 - 0s - loss: 0.0591 - val_loss: 0.2431 - 59ms/epoch - 20ms/step\n",
      "Epoch 34/50\n",
      "3/3 - 0s - loss: 0.0589 - val_loss: 0.2382 - 57ms/epoch - 19ms/step\n",
      "Epoch 35/50\n",
      "3/3 - 0s - loss: 0.0585 - val_loss: 0.2354 - 58ms/epoch - 19ms/step\n",
      "Epoch 36/50\n",
      "3/3 - 0s - loss: 0.0582 - val_loss: 0.2309 - 69ms/epoch - 23ms/step\n",
      "Epoch 37/50\n",
      "3/3 - 0s - loss: 0.0580 - val_loss: 0.2275 - 68ms/epoch - 23ms/step\n",
      "Epoch 38/50\n",
      "3/3 - 0s - loss: 0.0577 - val_loss: 0.2236 - 61ms/epoch - 20ms/step\n",
      "Epoch 39/50\n",
      "3/3 - 0s - loss: 0.0575 - val_loss: 0.2197 - 55ms/epoch - 18ms/step\n",
      "Epoch 40/50\n",
      "3/3 - 0s - loss: 0.0572 - val_loss: 0.2167 - 54ms/epoch - 18ms/step\n",
      "Epoch 41/50\n",
      "3/3 - 0s - loss: 0.0569 - val_loss: 0.2152 - 52ms/epoch - 17ms/step\n",
      "Epoch 42/50\n",
      "3/3 - 0s - loss: 0.0567 - val_loss: 0.2127 - 53ms/epoch - 18ms/step\n",
      "Epoch 43/50\n",
      "3/3 - 0s - loss: 0.0564 - val_loss: 0.2119 - 56ms/epoch - 19ms/step\n",
      "Epoch 44/50\n",
      "3/3 - 0s - loss: 0.0561 - val_loss: 0.2110 - 54ms/epoch - 18ms/step\n",
      "Epoch 45/50\n",
      "3/3 - 0s - loss: 0.0559 - val_loss: 0.2095 - 53ms/epoch - 18ms/step\n",
      "Epoch 46/50\n",
      "3/3 - 0s - loss: 0.0557 - val_loss: 0.2052 - 53ms/epoch - 18ms/step\n",
      "Epoch 47/50\n",
      "3/3 - 0s - loss: 0.0553 - val_loss: 0.2036 - 51ms/epoch - 17ms/step\n",
      "Epoch 48/50\n",
      "3/3 - 0s - loss: 0.0551 - val_loss: 0.2013 - 61ms/epoch - 20ms/step\n",
      "Epoch 49/50\n",
      "3/3 - 0s - loss: 0.0548 - val_loss: 0.1999 - 54ms/epoch - 18ms/step\n",
      "Epoch 50/50\n",
      "3/3 - 0s - loss: 0.0546 - val_loss: 0.1976 - 51ms/epoch - 17ms/step\n"
     ]
    },
    {
     "data": {
      "text/plain": [
       "<keras.src.callbacks.History at 0x267bbc75c50>"
      ]
     },
     "execution_count": 172,
     "metadata": {},
     "output_type": "execute_result"
    }
   ],
   "source": [
    "model = Sequential()\n",
    "model.add(GRU(50, input_shape=(X_train.shape[1], X_train.shape[2])))\n",
    "model.add(Dense(1))\n",
    "model.compile(optimizer='adam', loss='mse')\n",
    "\n",
    "# Train the model\n",
    "model.fit(X_train, y_train, epochs=50, batch_size=32, validation_data=(X_test, y_test), verbose=2)\n"
   ]
  },
  {
   "cell_type": "code",
   "execution_count": 173,
   "id": "8b01fdc8",
   "metadata": {},
   "outputs": [
    {
     "name": "stdout",
     "output_type": "stream",
     "text": [
      "1/1 [==============================] - 1s 861ms/step\n",
      "Mean Squared Error (MSE): 7532268.896119531\n",
      "Mean Absolute Error (MAE): 2594.1757535802703\n",
      "Mean Absolute Percentage Error (MAPE): 25.09%\n"
     ]
    }
   ],
   "source": [
    "# Make predictions on the test set\n",
    "y_pred = model.predict(X_test)\n",
    "\n",
    "# Inverse transform the scaled predictions and actual values\n",
    "y_pred_inv = scaler.inverse_transform(np.column_stack((np.zeros_like(y_pred), y_pred)))[:, 1]\n",
    "y_test_inv = scaler.inverse_transform(np.column_stack((np.zeros_like(y_test), y_test)))[:, 1]\n",
    "\n",
    "# Calculate evaluation metrics\n",
    "mse = mean_squared_error(y_test_inv, y_pred_inv)\n",
    "mae = mean_absolute_error(y_test_inv, y_pred_inv)\n",
    "mape = np.mean(np.abs((y_test_inv - y_pred_inv) / y_test_inv)) * 100\n",
    "\n",
    "print(f'Mean Squared Error (MSE): {mse}')\n",
    "print(f'Mean Absolute Error (MAE): {mae}')\n",
    "print(f'Mean Absolute Percentage Error (MAPE): {mape:.2f}%')\n"
   ]
  },
  {
   "cell_type": "code",
   "execution_count": 185,
   "metadata": {},
   "outputs": [
    {
     "name": "stdout",
     "output_type": "stream",
     "text": [
      "1/1 [==============================] - 0s 65ms/step\n"
     ]
    },
    {
     "data": {
      "image/png": "[encoded data removed]",
      "text/plain": [
       "<Figure size 640x480 with 1 Axes>"
      ]
     },
     "metadata": {},
     "output_type": "display_data"
    }
   ],
   "source": [
    "# Forecast for the next 12 periods\n",
    "future_periods = 12\n",
    "X_future = np.linspace(X[-1], X[-1] + future_periods, future_periods + 1).reshape(-1, 1, 1)\n",
    "y_future_pred = model.predict(X_future)\n",
    "\n",
    "# Inverse transform the scaled predictions\n",
    "y_future_pred_inv = scaler.inverse_transform(np.column_stack((np.zeros_like(y_future_pred), y_future_pred)))[:, 1]\n",
    "\n",
    "# Create a date range for the future periods\n",
    "future_dates = pd.date_range(start=data.index[-1], periods=future_periods + 2, freq='M')[1:]\n",
    "\n",
    "# Plot the results\n",
    "plt.plot(data.index, data['total_visitor'], label='Actual')\n",
    "plt.plot(future_dates, y_future_pred_inv, label='Forecast')\n",
    "plt.legend()\n",
    "plt.show()\n"
   ]
  },
  {
   "cell_type": "code",
   "execution_count": null,
   "id": "85d951f9",
   "metadata": {},
   "outputs": [],
   "source": []
  },
  {
   "cell_type": "markdown",
   "id": "777a4454",
   "metadata": {},
   "source": [
    "TEST SIZE 70:30"
   ]
  },
  {
   "cell_type": "code",
   "execution_count": 191,
   "id": "15c6fbb1",
   "metadata": {},
   "outputs": [],
   "source": [
    "# Split the data into training and testing sets\n",
    "X_train, X_test, y_train, y_test = train_test_split(X, y, test_size=0.3, shuffle=False)"
   ]
  },
  {
   "cell_type": "code",
   "execution_count": 192,
   "id": "b2776850",
   "metadata": {},
   "outputs": [],
   "source": [
    "# Reshape data for GRU input\n",
    "X_train = X_train.reshape((X_train.shape[0], 1, 1))\n",
    "X_test = X_test.reshape((X_test.shape[0], 1, 1))\n"
   ]
  },
  {
   "cell_type": "code",
   "execution_count": 193,
   "id": "e16d6e66",
   "metadata": {},
   "outputs": [
    {
     "name": "stdout",
     "output_type": "stream",
     "text": [
      "Epoch 1/50\n",
      "3/3 - 9s - loss: 0.2965 - val_loss: 0.0235 - 9s/epoch - 3s/step\n",
      "Epoch 2/50\n",
      "3/3 - 0s - loss: 0.2667 - val_loss: 0.0305 - 67ms/epoch - 22ms/step\n",
      "Epoch 3/50\n",
      "3/3 - 0s - loss: 0.2388 - val_loss: 0.0405 - 66ms/epoch - 22ms/step\n",
      "Epoch 4/50\n",
      "3/3 - 0s - loss: 0.2127 - val_loss: 0.0537 - 62ms/epoch - 21ms/step\n",
      "Epoch 5/50\n",
      "3/3 - 0s - loss: 0.1870 - val_loss: 0.0700 - 59ms/epoch - 20ms/step\n",
      "Epoch 6/50\n",
      "3/3 - 0s - loss: 0.1635 - val_loss: 0.0896 - 61ms/epoch - 20ms/step\n",
      "Epoch 7/50\n",
      "3/3 - 0s - loss: 0.1412 - val_loss: 0.1124 - 59ms/epoch - 20ms/step\n",
      "Epoch 8/50\n",
      "3/3 - 0s - loss: 0.1204 - val_loss: 0.1384 - 69ms/epoch - 23ms/step\n",
      "Epoch 9/50\n",
      "3/3 - 0s - loss: 0.1017 - val_loss: 0.1678 - 58ms/epoch - 19ms/step\n",
      "Epoch 10/50\n",
      "3/3 - 0s - loss: 0.0845 - val_loss: 0.2003 - 60ms/epoch - 20ms/step\n",
      "Epoch 11/50\n",
      "3/3 - 0s - loss: 0.0689 - val_loss: 0.2355 - 74ms/epoch - 25ms/step\n",
      "Epoch 12/50\n",
      "3/3 - 0s - loss: 0.0559 - val_loss: 0.2737 - 60ms/epoch - 20ms/step\n",
      "Epoch 13/50\n",
      "3/3 - 0s - loss: 0.0442 - val_loss: 0.3141 - 52ms/epoch - 17ms/step\n",
      "Epoch 14/50\n",
      "3/3 - 0s - loss: 0.0350 - val_loss: 0.3560 - 52ms/epoch - 17ms/step\n",
      "Epoch 15/50\n",
      "3/3 - 0s - loss: 0.0277 - val_loss: 0.3980 - 55ms/epoch - 18ms/step\n",
      "Epoch 16/50\n",
      "3/3 - 0s - loss: 0.0222 - val_loss: 0.4389 - 56ms/epoch - 19ms/step\n",
      "Epoch 17/50\n",
      "3/3 - 0s - loss: 0.0183 - val_loss: 0.4782 - 57ms/epoch - 19ms/step\n",
      "Epoch 18/50\n",
      "3/3 - 0s - loss: 0.0160 - val_loss: 0.5141 - 51ms/epoch - 17ms/step\n",
      "Epoch 19/50\n",
      "3/3 - 0s - loss: 0.0144 - val_loss: 0.5443 - 52ms/epoch - 17ms/step\n",
      "Epoch 20/50\n",
      "3/3 - 0s - loss: 0.0139 - val_loss: 0.5698 - 65ms/epoch - 22ms/step\n",
      "Epoch 21/50\n",
      "3/3 - 0s - loss: 0.0139 - val_loss: 0.5888 - 63ms/epoch - 21ms/step\n",
      "Epoch 22/50\n",
      "3/3 - 0s - loss: 0.0140 - val_loss: 0.6009 - 68ms/epoch - 23ms/step\n",
      "Epoch 23/50\n",
      "3/3 - 0s - loss: 0.0142 - val_loss: 0.6078 - 73ms/epoch - 24ms/step\n",
      "Epoch 24/50\n",
      "3/3 - 0s - loss: 0.0143 - val_loss: 0.6093 - 62ms/epoch - 21ms/step\n",
      "Epoch 25/50\n",
      "3/3 - 0s - loss: 0.0144 - val_loss: 0.6072 - 54ms/epoch - 18ms/step\n",
      "Epoch 26/50\n",
      "3/3 - 0s - loss: 0.0143 - val_loss: 0.6039 - 54ms/epoch - 18ms/step\n",
      "Epoch 27/50\n",
      "3/3 - 0s - loss: 0.0142 - val_loss: 0.5996 - 54ms/epoch - 18ms/step\n",
      "Epoch 28/50\n",
      "3/3 - 0s - loss: 0.0141 - val_loss: 0.5952 - 94ms/epoch - 31ms/step\n",
      "Epoch 29/50\n",
      "3/3 - 0s - loss: 0.0141 - val_loss: 0.5887 - 59ms/epoch - 20ms/step\n",
      "Epoch 30/50\n",
      "3/3 - 0s - loss: 0.0140 - val_loss: 0.5825 - 53ms/epoch - 18ms/step\n",
      "Epoch 31/50\n",
      "3/3 - 0s - loss: 0.0139 - val_loss: 0.5780 - 53ms/epoch - 18ms/step\n",
      "Epoch 32/50\n",
      "3/3 - 0s - loss: 0.0138 - val_loss: 0.5735 - 54ms/epoch - 18ms/step\n",
      "Epoch 33/50\n",
      "3/3 - 0s - loss: 0.0138 - val_loss: 0.5691 - 52ms/epoch - 17ms/step\n",
      "Epoch 34/50\n",
      "3/3 - 0s - loss: 0.0137 - val_loss: 0.5640 - 50ms/epoch - 17ms/step\n",
      "Epoch 35/50\n",
      "3/3 - 0s - loss: 0.0137 - val_loss: 0.5581 - 51ms/epoch - 17ms/step\n",
      "Epoch 36/50\n",
      "3/3 - 0s - loss: 0.0137 - val_loss: 0.5530 - 50ms/epoch - 17ms/step\n",
      "Epoch 37/50\n",
      "3/3 - 0s - loss: 0.0137 - val_loss: 0.5503 - 50ms/epoch - 17ms/step\n",
      "Epoch 38/50\n",
      "3/3 - 0s - loss: 0.0136 - val_loss: 0.5482 - 51ms/epoch - 17ms/step\n",
      "Epoch 39/50\n",
      "3/3 - 0s - loss: 0.0136 - val_loss: 0.5442 - 54ms/epoch - 18ms/step\n",
      "Epoch 40/50\n",
      "3/3 - 0s - loss: 0.0137 - val_loss: 0.5390 - 56ms/epoch - 19ms/step\n",
      "Epoch 41/50\n",
      "3/3 - 0s - loss: 0.0136 - val_loss: 0.5367 - 63ms/epoch - 21ms/step\n",
      "Epoch 42/50\n",
      "3/3 - 0s - loss: 0.0137 - val_loss: 0.5351 - 61ms/epoch - 20ms/step\n",
      "Epoch 43/50\n",
      "3/3 - 0s - loss: 0.0136 - val_loss: 0.5362 - 62ms/epoch - 21ms/step\n",
      "Epoch 44/50\n",
      "3/3 - 0s - loss: 0.0136 - val_loss: 0.5358 - 59ms/epoch - 20ms/step\n",
      "Epoch 45/50\n",
      "3/3 - 0s - loss: 0.0136 - val_loss: 0.5372 - 65ms/epoch - 22ms/step\n",
      "Epoch 46/50\n",
      "3/3 - 0s - loss: 0.0135 - val_loss: 0.5388 - 68ms/epoch - 23ms/step\n",
      "Epoch 47/50\n",
      "3/3 - 0s - loss: 0.0135 - val_loss: 0.5402 - 58ms/epoch - 19ms/step\n",
      "Epoch 48/50\n",
      "3/3 - 0s - loss: 0.0135 - val_loss: 0.5397 - 51ms/epoch - 17ms/step\n",
      "Epoch 49/50\n",
      "3/3 - 0s - loss: 0.0135 - val_loss: 0.5374 - 55ms/epoch - 18ms/step\n",
      "Epoch 50/50\n",
      "3/3 - 0s - loss: 0.0135 - val_loss: 0.5331 - 56ms/epoch - 19ms/step\n"
     ]
    },
    {
     "data": {
      "text/plain": [
       "<keras.src.callbacks.History at 0x267bd9cd7d0>"
      ]
     },
     "execution_count": 193,
     "metadata": {},
     "output_type": "execute_result"
    }
   ],
   "source": [
    "model = Sequential()\n",
    "model.add(GRU(50, input_shape=(X_train.shape[1], X_train.shape[2])))\n",
    "model.add(Dense(1))\n",
    "model.compile(optimizer='adam', loss='mse')\n",
    "\n",
    "# Train the model\n",
    "model.fit(X_train, y_train, epochs=50, batch_size=32, validation_data=(X_test, y_test), verbose=2)\n"
   ]
  },
  {
   "cell_type": "code",
   "execution_count": 194,
   "id": "49b9110b",
   "metadata": {},
   "outputs": [
    {
     "name": "stdout",
     "output_type": "stream",
     "text": [
      "2/2 [==============================] - 1s 4ms/step\n",
      "Mean Squared Error (MSE): 20320397.86173858\n",
      "Mean Absolute Error (MAE): 4449.94809220727\n",
      "Mean Absolute Percentage Error (MAPE): 43.09%\n"
     ]
    }
   ],
   "source": [
    "# Make predictions on the test set\n",
    "y_pred = model.predict(X_test)\n",
    "\n",
    "# Inverse transform the scaled predictions and actual values\n",
    "y_pred_inv = scaler.inverse_transform(np.column_stack((np.zeros_like(y_pred), y_pred)))[:, 1]\n",
    "y_test_inv = scaler.inverse_transform(np.column_stack((np.zeros_like(y_test), y_test)))[:, 1]\n",
    "\n",
    "# Calculate evaluation metrics\n",
    "mse = mean_squared_error(y_test_inv, y_pred_inv)\n",
    "mae = mean_absolute_error(y_test_inv, y_pred_inv)\n",
    "mape = np.mean(np.abs((y_test_inv - y_pred_inv) / y_test_inv)) * 100\n",
    "\n",
    "print(f'Mean Squared Error (MSE): {mse}')\n",
    "print(f'Mean Absolute Error (MAE): {mae}')\n",
    "print(f'Mean Absolute Percentage Error (MAPE): {mape:.2f}%')\n"
   ]
  },
  {
   "cell_type": "code",
   "execution_count": 195,
   "id": "05f28193",
   "metadata": {},
   "outputs": [
    {
     "name": "stdout",
     "output_type": "stream",
     "text": [
      "1/1 [==============================] - ETA: 0s"
     ]
    },
    {
     "name": "stdout",
     "output_type": "stream",
     "text": [
      "1/1 [==============================] - 0s 68ms/step\n"
     ]
    },
    {
     "data": {
      "image/png": "[encoded data removed]",
      "text/plain": [
       "<Figure size 640x480 with 1 Axes>"
      ]
     },
     "metadata": {},
     "output_type": "display_data"
    }
   ],
   "source": [
    "# Forecast for the next 12 periods\n",
    "future_periods = 12\n",
    "X_future = np.linspace(X[-1], X[-1] + future_periods, future_periods + 1).reshape(-1, 1, 1)\n",
    "y_future_pred = model.predict(X_future)\n",
    "\n",
    "# Inverse transform the scaled predictions\n",
    "y_future_pred_inv = scaler.inverse_transform(np.column_stack((np.zeros_like(y_future_pred), y_future_pred)))[:, 1]\n",
    "\n",
    "# Create a date range for the future periods\n",
    "future_dates = pd.date_range(start=data.index[-1], periods=future_periods + 2, freq='M')[1:]\n",
    "\n",
    "# Plot the results\n",
    "plt.plot(data.index, data['total_visitor'], label='Actual')\n",
    "plt.plot(future_dates, y_future_pred_inv, label='Forecast')\n",
    "plt.legend()\n",
    "plt.show()\n"
   ]
  },
  {
   "cell_type": "markdown",
   "id": "de336f49",
   "metadata": {},
   "source": [
    "TEST SIZE 60:40"
   ]
  },
  {
   "cell_type": "code",
   "execution_count": 196,
   "id": "e71bccf7",
   "metadata": {},
   "outputs": [],
   "source": [
    "# Split the data into training and testing sets\n",
    "X_train, X_test, y_train, y_test = train_test_split(X, y, test_size=0.4, shuffle=False)"
   ]
  },
  {
   "cell_type": "code",
   "execution_count": 197,
   "id": "28fb4483",
   "metadata": {},
   "outputs": [],
   "source": [
    "# Reshape data for GRU input\n",
    "X_train = X_train.reshape((X_train.shape[0], 1, 1))\n",
    "X_test = X_test.reshape((X_test.shape[0], 1, 1))\n"
   ]
  },
  {
   "cell_type": "code",
   "execution_count": 198,
   "id": "a3fabf74",
   "metadata": {},
   "outputs": [
    {
     "name": "stdout",
     "output_type": "stream",
     "text": [
      "Epoch 1/50\n",
      "2/2 - 5s - loss: 0.4055 - val_loss: 0.2108 - 5s/epoch - 2s/step\n",
      "Epoch 2/50\n",
      "2/2 - 0s - loss: 0.3812 - val_loss: 0.1925 - 80ms/epoch - 40ms/step\n",
      "Epoch 3/50\n",
      "2/2 - 0s - loss: 0.3565 - val_loss: 0.1759 - 83ms/epoch - 41ms/step\n",
      "Epoch 4/50\n",
      "2/2 - 0s - loss: 0.3336 - val_loss: 0.1607 - 87ms/epoch - 44ms/step\n",
      "Epoch 5/50\n",
      "2/2 - 0s - loss: 0.3114 - val_loss: 0.1472 - 78ms/epoch - 39ms/step\n",
      "Epoch 6/50\n",
      "2/2 - 0s - loss: 0.2894 - val_loss: 0.1352 - 63ms/epoch - 31ms/step\n",
      "Epoch 7/50\n",
      "2/2 - 0s - loss: 0.2690 - val_loss: 0.1247 - 87ms/epoch - 44ms/step\n",
      "Epoch 8/50\n",
      "2/2 - 0s - loss: 0.2496 - val_loss: 0.1157 - 75ms/epoch - 37ms/step\n",
      "Epoch 9/50\n",
      "2/2 - 0s - loss: 0.2306 - val_loss: 0.1081 - 59ms/epoch - 30ms/step\n",
      "Epoch 10/50\n",
      "2/2 - 0s - loss: 0.2124 - val_loss: 0.1020 - 98ms/epoch - 49ms/step\n",
      "Epoch 11/50\n",
      "2/2 - 0s - loss: 0.1949 - val_loss: 0.0973 - 104ms/epoch - 52ms/step\n",
      "Epoch 12/50\n",
      "2/2 - 0s - loss: 0.1790 - val_loss: 0.0940 - 78ms/epoch - 39ms/step\n",
      "Epoch 13/50\n",
      "2/2 - 0s - loss: 0.1632 - val_loss: 0.0920 - 77ms/epoch - 39ms/step\n",
      "Epoch 14/50\n",
      "2/2 - 0s - loss: 0.1479 - val_loss: 0.0914 - 87ms/epoch - 43ms/step\n",
      "Epoch 15/50\n",
      "2/2 - 0s - loss: 0.1339 - val_loss: 0.0921 - 66ms/epoch - 33ms/step\n",
      "Epoch 16/50\n",
      "2/2 - 0s - loss: 0.1207 - val_loss: 0.0941 - 62ms/epoch - 31ms/step\n",
      "Epoch 17/50\n",
      "2/2 - 0s - loss: 0.1082 - val_loss: 0.0973 - 62ms/epoch - 31ms/step\n",
      "Epoch 18/50\n",
      "2/2 - 0s - loss: 0.0966 - val_loss: 0.1018 - 71ms/epoch - 35ms/step\n",
      "Epoch 19/50\n",
      "2/2 - 0s - loss: 0.0854 - val_loss: 0.1075 - 72ms/epoch - 36ms/step\n",
      "Epoch 20/50\n",
      "2/2 - 0s - loss: 0.0750 - val_loss: 0.1143 - 59ms/epoch - 30ms/step\n",
      "Epoch 21/50\n",
      "2/2 - 0s - loss: 0.0658 - val_loss: 0.1221 - 66ms/epoch - 33ms/step\n",
      "Epoch 22/50\n",
      "2/2 - 0s - loss: 0.0575 - val_loss: 0.1310 - 62ms/epoch - 31ms/step\n",
      "Epoch 23/50\n",
      "2/2 - 0s - loss: 0.0497 - val_loss: 0.1409 - 63ms/epoch - 31ms/step\n",
      "Epoch 24/50\n",
      "2/2 - 0s - loss: 0.0427 - val_loss: 0.1515 - 74ms/epoch - 37ms/step\n",
      "Epoch 25/50\n",
      "2/2 - 0s - loss: 0.0366 - val_loss: 0.1629 - 73ms/epoch - 37ms/step\n",
      "Epoch 26/50\n",
      "2/2 - 0s - loss: 0.0313 - val_loss: 0.1749 - 55ms/epoch - 28ms/step\n",
      "Epoch 27/50\n",
      "2/2 - 0s - loss: 0.0265 - val_loss: 0.1874 - 49ms/epoch - 24ms/step\n",
      "Epoch 28/50\n",
      "2/2 - 0s - loss: 0.0224 - val_loss: 0.2000 - 59ms/epoch - 29ms/step\n",
      "Epoch 29/50\n",
      "2/2 - 0s - loss: 0.0189 - val_loss: 0.2128 - 66ms/epoch - 33ms/step\n",
      "Epoch 30/50\n",
      "2/2 - 0s - loss: 0.0163 - val_loss: 0.2255 - 102ms/epoch - 51ms/step\n",
      "Epoch 31/50\n",
      "2/2 - 0s - loss: 0.0144 - val_loss: 0.2383 - 56ms/epoch - 28ms/step\n",
      "Epoch 32/50\n",
      "2/2 - 0s - loss: 0.0125 - val_loss: 0.2505 - 65ms/epoch - 33ms/step\n",
      "Epoch 33/50\n",
      "2/2 - 0s - loss: 0.0112 - val_loss: 0.2622 - 61ms/epoch - 30ms/step\n",
      "Epoch 34/50\n",
      "2/2 - 0s - loss: 0.0103 - val_loss: 0.2731 - 84ms/epoch - 42ms/step\n",
      "Epoch 35/50\n",
      "2/2 - 0s - loss: 0.0096 - val_loss: 0.2833 - 68ms/epoch - 34ms/step\n",
      "Epoch 36/50\n",
      "2/2 - 0s - loss: 0.0092 - val_loss: 0.2925 - 55ms/epoch - 28ms/step\n",
      "Epoch 37/50\n",
      "2/2 - 0s - loss: 0.0090 - val_loss: 0.3007 - 54ms/epoch - 27ms/step\n",
      "Epoch 38/50\n",
      "2/2 - 0s - loss: 0.0088 - val_loss: 0.3076 - 56ms/epoch - 28ms/step\n",
      "Epoch 39/50\n",
      "2/2 - 0s - loss: 0.0088 - val_loss: 0.3136 - 59ms/epoch - 30ms/step\n",
      "Epoch 40/50\n",
      "2/2 - 0s - loss: 0.0088 - val_loss: 0.3185 - 52ms/epoch - 26ms/step\n",
      "Epoch 41/50\n",
      "2/2 - 0s - loss: 0.0089 - val_loss: 0.3225 - 50ms/epoch - 25ms/step\n",
      "Epoch 42/50\n",
      "2/2 - 0s - loss: 0.0090 - val_loss: 0.3257 - 61ms/epoch - 31ms/step\n",
      "Epoch 43/50\n",
      "2/2 - 0s - loss: 0.0090 - val_loss: 0.3279 - 62ms/epoch - 31ms/step\n",
      "Epoch 44/50\n",
      "2/2 - 0s - loss: 0.0090 - val_loss: 0.3293 - 52ms/epoch - 26ms/step\n",
      "Epoch 45/50\n",
      "2/2 - 0s - loss: 0.0090 - val_loss: 0.3299 - 46ms/epoch - 23ms/step\n",
      "Epoch 46/50\n",
      "2/2 - 0s - loss: 0.0090 - val_loss: 0.3300 - 47ms/epoch - 23ms/step\n",
      "Epoch 47/50\n",
      "2/2 - 0s - loss: 0.0090 - val_loss: 0.3297 - 51ms/epoch - 25ms/step\n",
      "Epoch 48/50\n",
      "2/2 - 0s - loss: 0.0089 - val_loss: 0.3289 - 50ms/epoch - 25ms/step\n",
      "Epoch 49/50\n",
      "2/2 - 0s - loss: 0.0089 - val_loss: 0.3279 - 47ms/epoch - 24ms/step\n",
      "Epoch 50/50\n",
      "2/2 - 0s - loss: 0.0089 - val_loss: 0.3268 - 50ms/epoch - 25ms/step\n"
     ]
    },
    {
     "data": {
      "text/plain": [
       "<keras.src.callbacks.History at 0x267bd29bf10>"
      ]
     },
     "execution_count": 198,
     "metadata": {},
     "output_type": "execute_result"
    }
   ],
   "source": [
    "model = Sequential()\n",
    "model.add(GRU(50, input_shape=(X_train.shape[1], X_train.shape[2])))\n",
    "model.add(Dense(1))\n",
    "model.compile(optimizer='adam', loss='mse')\n",
    "\n",
    "# Train the model\n",
    "model.fit(X_train, y_train, epochs=50, batch_size=32, validation_data=(X_test, y_test), verbose=2)\n"
   ]
  },
  {
   "cell_type": "code",
   "execution_count": 199,
   "id": "5acc9423",
   "metadata": {},
   "outputs": [
    {
     "name": "stdout",
     "output_type": "stream",
     "text": [
      "2/2 [==============================] - 1s 4ms/step\n",
      "Mean Squared Error (MSE): 12455280.530070193\n",
      "Mean Absolute Error (MAE): 3177.5347345144664\n",
      "Mean Absolute Percentage Error (MAPE): 30.39%\n"
     ]
    }
   ],
   "source": [
    "# Make predictions on the test set\n",
    "y_pred = model.predict(X_test)\n",
    "\n",
    "# Inverse transform the scaled predictions and actual values\n",
    "y_pred_inv = scaler.inverse_transform(np.column_stack((np.zeros_like(y_pred), y_pred)))[:, 1]\n",
    "y_test_inv = scaler.inverse_transform(np.column_stack((np.zeros_like(y_test), y_test)))[:, 1]\n",
    "\n",
    "# Calculate evaluation metrics\n",
    "mse = mean_squared_error(y_test_inv, y_pred_inv)\n",
    "mae = mean_absolute_error(y_test_inv, y_pred_inv)\n",
    "mape = np.mean(np.abs((y_test_inv - y_pred_inv) / y_test_inv)) * 100\n",
    "\n",
    "print(f'Mean Squared Error (MSE): {mse}')\n",
    "print(f'Mean Absolute Error (MAE): {mae}')\n",
    "print(f'Mean Absolute Percentage Error (MAPE): {mape:.2f}%')\n"
   ]
  },
  {
   "cell_type": "code",
   "execution_count": 208,
   "id": "314d67ad",
   "metadata": {},
   "outputs": [
    {
     "name": "stdout",
     "output_type": "stream",
     "text": [
      "1/1 [==============================] - 0s 29ms/step\n"
     ]
    },
    {
     "data": {
      "image/png": "[encoded data removed]",
      "text/plain": [
       "<Figure size 640x480 with 1 Axes>"
      ]
     },
     "metadata": {},
     "output_type": "display_data"
    }
   ],
   "source": [
    "# Forecast for the next 12 periods\n",
    "future_periods = 12\n",
    "X_future = np.linspace(X[-1], X[-1] + future_periods, future_periods + 1).reshape(-1, 1, 1)\n",
    "y_future_pred = model.predict(X_future)\n",
    "\n",
    "# Inverse transform the scaled predictions\n",
    "y_future_pred_inv = scaler.inverse_transform(np.column_stack((np.zeros_like(y_future_pred), y_future_pred)))[:, 1]\n",
    "\n",
    "# Create a date range for the future periods\n",
    "future_dates = pd.date_range(start=data.index[-1], periods=future_periods + 2, freq='M')[1:]\n",
    "\n",
    "# Plot the results\n",
    "plt.plot(data.index, data['total_visitor'], label='Actual')\n",
    "plt.plot(future_dates, y_future_pred_inv, label='Forecast')\n",
    "plt.legend()\n",
    "plt.show()\n"
   ]
  }
 ],
 "metadata": {
  "kernelspec": {
   "display_name": "Python 3",
   "language": "python",
   "name": "python3"
  },
  "language_info": {
   "codemirror_mode": {
    "name": "ipython",
    "version": 3
   },
   "file_extension": ".py",
   "mimetype": "text/x-python",
   "name": "python",
   "nbconvert_exporter": "python",
   "pygments_lexer": "ipython3",
   "version": "3.11.7"
  }
 },
 "nbformat": 4,
 "nbformat_minor": 5
}
