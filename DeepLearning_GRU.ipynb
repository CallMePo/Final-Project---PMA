{
 "cells": [
  {
   "cell_type": "code",
   "execution_count": 1,
   "id": "initial_id",
   "metadata": {
    "ExecuteTime": {
     "end_time": "2023-12-11T08:07:14.600495500Z",
     "start_time": "2023-12-11T08:07:05.987298Z"
    },
    "collapsed": true
   },
   "outputs": [
    {
     "name": "stdout",
     "output_type": "stream",
     "text": [
      "WARNING:tensorflow:From c:\\Users\\atrke\\AppData\\Local\\Programs\\Python\\Python39\\lib\\site-packages\\keras\\src\\losses.py:2976: The name tf.losses.sparse_softmax_cross_entropy is deprecated. Please use tf.compat.v1.losses.sparse_softmax_cross_entropy instead.\n",
      "\n"
     ]
    }
   ],
   "source": [
    "import tensorflow as tf\n",
    "import seaborn as sns\n",
    "import numpy as np\n",
    "import pandas as pd\n",
    "import matplotlib.pyplot as plt\n",
    "import sklearn.preprocessing\n",
    "from sklearn.metrics import r2_score\n",
    "from sklearn.preprocessing import MinMaxScaler\n",
    "from sklearn.model_selection import train_test_split\n",
    "from sklearn.metrics import mean_absolute_error, mean_squared_error\n",
    "from tensorflow.keras.callbacks import EarlyStopping\n",
    "from keras.layers import Dense,Dropout,SimpleRNN,LSTM,GRU\n",
    "from keras.models import Sequential\n",
    "from tensorflow import keras"
   ]
  },
  {
   "cell_type": "code",
   "execution_count": 2,
   "id": "ebe5587b0867903b",
   "metadata": {
    "ExecuteTime": {
     "end_time": "2023-12-11T08:07:16.641871Z",
     "start_time": "2023-12-11T08:07:16.578749900Z"
    },
    "collapsed": false
   },
   "outputs": [],
   "source": [
    "# Load your dataset\n",
    "# Assuming your dataset has columns 'datetime', 'total_visitor', 'total_accomodation'\n",
    "# Adjust the file path accordingly\n",
    "\n",
    "data = pd.read_csv('KepRiau 2015 - 2022.csv')\n",
    "\n",
    "# Convert 'datetime' column to datetime type\n",
    "data['datetime'] = pd.to_datetime(data['datetime'])\n",
    "\n",
    "# Set 'datetime' column as index\n",
    "data.set_index('datetime', inplace=True)\n",
    "\n",
    "# Normalize the data\n",
    "scaler = MinMaxScaler()\n",
    "data_scaled = scaler.fit_transform(data)\n",
    "\n",
    "# Define your input and output variables\n",
    "X = data_scaled[:, 1]  # 'total_accomodation' as input\n",
    "y = data_scaled[:, 0]  # 'total_visitor' as output\n",
    "\n",
    "# Split the data into training and testing sets\n",
    "X_train, X_test, y_train, y_test = train_test_split(X, y, test_size=0.2, shuffle=False)\n"
   ]
  },
  {
   "cell_type": "code",
   "execution_count": 3,
   "id": "9ebfab23",
   "metadata": {},
   "outputs": [],
   "source": [
    "# Reshape data for GRU input\n",
    "X_train = X_train.reshape((X_train.shape[0], 1, 1))\n",
    "X_test = X_test.reshape((X_test.shape[0], 1, 1))\n"
   ]
  },
  {
   "cell_type": "code",
   "execution_count": 4,
   "id": "7bf76327",
   "metadata": {},
   "outputs": [
    {
     "name": "stdout",
     "output_type": "stream",
     "text": [
      "WARNING:tensorflow:From c:\\Users\\atrke\\AppData\\Local\\Programs\\Python\\Python39\\lib\\site-packages\\keras\\src\\backend.py:873: The name tf.get_default_graph is deprecated. Please use tf.compat.v1.get_default_graph instead.\n",
      "\n",
      "WARNING:tensorflow:From c:\\Users\\atrke\\AppData\\Local\\Programs\\Python\\Python39\\lib\\site-packages\\keras\\src\\optimizers\\__init__.py:309: The name tf.train.Optimizer is deprecated. Please use tf.compat.v1.train.Optimizer instead.\n",
      "\n",
      "Epoch 1/50\n",
      "WARNING:tensorflow:From c:\\Users\\atrke\\AppData\\Local\\Programs\\Python\\Python39\\lib\\site-packages\\keras\\src\\utils\\tf_utils.py:492: The name tf.ragged.RaggedTensorValue is deprecated. Please use tf.compat.v1.ragged.RaggedTensorValue instead.\n",
      "\n",
      "3/3 - 3s - loss: 0.3416 - val_loss: 0.0510 - 3s/epoch - 1s/step\n",
      "Epoch 2/50\n",
      "3/3 - 0s - loss: 0.3061 - val_loss: 0.0388 - 74ms/epoch - 25ms/step\n",
      "Epoch 3/50\n",
      "3/3 - 0s - loss: 0.2729 - val_loss: 0.0308 - 59ms/epoch - 20ms/step\n",
      "Epoch 4/50\n",
      "3/3 - 0s - loss: 0.2427 - val_loss: 0.0268 - 66ms/epoch - 22ms/step\n",
      "Epoch 5/50\n",
      "3/3 - 0s - loss: 0.2145 - val_loss: 0.0269 - 66ms/epoch - 22ms/step\n",
      "Epoch 6/50\n",
      "3/3 - 0s - loss: 0.1891 - val_loss: 0.0309 - 58ms/epoch - 19ms/step\n",
      "Epoch 7/50\n",
      "3/3 - 0s - loss: 0.1655 - val_loss: 0.0387 - 56ms/epoch - 19ms/step\n",
      "Epoch 8/50\n",
      "3/3 - 0s - loss: 0.1450 - val_loss: 0.0500 - 47ms/epoch - 16ms/step\n",
      "Epoch 9/50\n",
      "3/3 - 0s - loss: 0.1277 - val_loss: 0.0647 - 41ms/epoch - 14ms/step\n",
      "Epoch 10/50\n",
      "3/3 - 0s - loss: 0.1126 - val_loss: 0.0823 - 45ms/epoch - 15ms/step\n",
      "Epoch 11/50\n",
      "3/3 - 0s - loss: 0.0984 - val_loss: 0.1020 - 52ms/epoch - 17ms/step\n",
      "Epoch 12/50\n",
      "3/3 - 0s - loss: 0.0871 - val_loss: 0.1234 - 60ms/epoch - 20ms/step\n",
      "Epoch 13/50\n",
      "3/3 - 0s - loss: 0.0801 - val_loss: 0.1470 - 45ms/epoch - 15ms/step\n",
      "Epoch 14/50\n",
      "3/3 - 0s - loss: 0.0732 - val_loss: 0.1703 - 39ms/epoch - 13ms/step\n",
      "Epoch 15/50\n",
      "3/3 - 0s - loss: 0.0680 - val_loss: 0.1923 - 38ms/epoch - 13ms/step\n",
      "Epoch 16/50\n",
      "3/3 - 0s - loss: 0.0647 - val_loss: 0.2129 - 37ms/epoch - 12ms/step\n",
      "Epoch 17/50\n",
      "3/3 - 0s - loss: 0.0630 - val_loss: 0.2319 - 36ms/epoch - 12ms/step\n",
      "Epoch 18/50\n",
      "3/3 - 0s - loss: 0.0614 - val_loss: 0.2474 - 48ms/epoch - 16ms/step\n",
      "Epoch 19/50\n",
      "3/3 - 0s - loss: 0.0610 - val_loss: 0.2604 - 53ms/epoch - 18ms/step\n",
      "Epoch 20/50\n",
      "3/3 - 0s - loss: 0.0609 - val_loss: 0.2703 - 57ms/epoch - 19ms/step\n",
      "Epoch 21/50\n",
      "3/3 - 0s - loss: 0.0606 - val_loss: 0.2755 - 42ms/epoch - 14ms/step\n",
      "Epoch 22/50\n",
      "3/3 - 0s - loss: 0.0608 - val_loss: 0.2787 - 77ms/epoch - 26ms/step\n",
      "Epoch 23/50\n",
      "3/3 - 0s - loss: 0.0605 - val_loss: 0.2773 - 51ms/epoch - 17ms/step\n",
      "Epoch 24/50\n",
      "3/3 - 0s - loss: 0.0603 - val_loss: 0.2736 - 47ms/epoch - 16ms/step\n",
      "Epoch 25/50\n",
      "3/3 - 0s - loss: 0.0599 - val_loss: 0.2692 - 37ms/epoch - 12ms/step\n",
      "Epoch 26/50\n",
      "3/3 - 0s - loss: 0.0596 - val_loss: 0.2629 - 36ms/epoch - 12ms/step\n",
      "Epoch 27/50\n",
      "3/3 - 0s - loss: 0.0592 - val_loss: 0.2560 - 42ms/epoch - 14ms/step\n",
      "Epoch 28/50\n",
      "3/3 - 0s - loss: 0.0587 - val_loss: 0.2499 - 83ms/epoch - 28ms/step\n",
      "Epoch 29/50\n",
      "3/3 - 0s - loss: 0.0584 - val_loss: 0.2422 - 51ms/epoch - 17ms/step\n",
      "Epoch 30/50\n",
      "3/3 - 0s - loss: 0.0581 - val_loss: 0.2351 - 82ms/epoch - 27ms/step\n",
      "Epoch 31/50\n",
      "3/3 - 0s - loss: 0.0578 - val_loss: 0.2290 - 55ms/epoch - 18ms/step\n",
      "Epoch 32/50\n",
      "3/3 - 0s - loss: 0.0575 - val_loss: 0.2240 - 44ms/epoch - 15ms/step\n",
      "Epoch 33/50\n",
      "3/3 - 0s - loss: 0.0573 - val_loss: 0.2189 - 64ms/epoch - 21ms/step\n",
      "Epoch 34/50\n",
      "3/3 - 0s - loss: 0.0572 - val_loss: 0.2138 - 102ms/epoch - 34ms/step\n",
      "Epoch 35/50\n",
      "3/3 - 0s - loss: 0.0569 - val_loss: 0.2106 - 85ms/epoch - 28ms/step\n",
      "Epoch 36/50\n",
      "3/3 - 0s - loss: 0.0566 - val_loss: 0.2087 - 95ms/epoch - 32ms/step\n",
      "Epoch 37/50\n",
      "3/3 - 0s - loss: 0.0563 - val_loss: 0.2072 - 82ms/epoch - 27ms/step\n",
      "Epoch 38/50\n",
      "3/3 - 0s - loss: 0.0561 - val_loss: 0.2057 - 63ms/epoch - 21ms/step\n",
      "Epoch 39/50\n",
      "3/3 - 0s - loss: 0.0559 - val_loss: 0.2050 - 95ms/epoch - 32ms/step\n",
      "Epoch 40/50\n",
      "3/3 - 0s - loss: 0.0556 - val_loss: 0.2036 - 52ms/epoch - 17ms/step\n",
      "Epoch 41/50\n",
      "3/3 - 0s - loss: 0.0554 - val_loss: 0.2030 - 44ms/epoch - 15ms/step\n",
      "Epoch 42/50\n",
      "3/3 - 0s - loss: 0.0551 - val_loss: 0.2017 - 40ms/epoch - 13ms/step\n",
      "Epoch 43/50\n",
      "3/3 - 0s - loss: 0.0549 - val_loss: 0.2007 - 54ms/epoch - 18ms/step\n",
      "Epoch 44/50\n",
      "3/3 - 0s - loss: 0.0547 - val_loss: 0.1984 - 59ms/epoch - 20ms/step\n",
      "Epoch 45/50\n",
      "3/3 - 0s - loss: 0.0545 - val_loss: 0.1956 - 50ms/epoch - 17ms/step\n",
      "Epoch 46/50\n",
      "3/3 - 0s - loss: 0.0543 - val_loss: 0.1937 - 44ms/epoch - 15ms/step\n",
      "Epoch 47/50\n",
      "3/3 - 0s - loss: 0.0541 - val_loss: 0.1931 - 42ms/epoch - 14ms/step\n",
      "Epoch 48/50\n",
      "3/3 - 0s - loss: 0.0538 - val_loss: 0.1929 - 35ms/epoch - 12ms/step\n",
      "Epoch 49/50\n",
      "3/3 - 0s - loss: 0.0537 - val_loss: 0.1919 - 44ms/epoch - 15ms/step\n",
      "Epoch 50/50\n",
      "3/3 - 0s - loss: 0.0535 - val_loss: 0.1912 - 46ms/epoch - 15ms/step\n"
     ]
    },
    {
     "data": {
      "text/plain": [
       "<keras.src.callbacks.History at 0x1a3d50c3940>"
      ]
     },
     "execution_count": 4,
     "metadata": {},
     "output_type": "execute_result"
    }
   ],
   "source": [
    "model = Sequential()\n",
    "model.add(GRU(50, input_shape=(X_train.shape[1], X_train.shape[2])))\n",
    "model.add(Dense(1))\n",
    "model.compile(optimizer='adam', loss='mse')\n",
    "\n",
    "# Train the model\n",
    "model.fit(X_train, y_train, epochs=50, batch_size=32, validation_data=(X_test, y_test), verbose=2)\n"
   ]
  },
  {
   "cell_type": "code",
   "execution_count": 5,
   "id": "8b01fdc8",
   "metadata": {},
   "outputs": [
    {
     "name": "stdout",
     "output_type": "stream",
     "text": [
      "1/1 [==============================] - 1s 640ms/step\n",
      "Mean Squared Error (MSE): 7288762.789063975\n",
      "Mean Absolute Error (MAE): 2550.0770319893613\n",
      "Mean Absolute Percentage Error (MAPE): 24.66%\n"
     ]
    }
   ],
   "source": [
    "# Make predictions on the test set\n",
    "y_pred = model.predict(X_test)\n",
    "\n",
    "# Inverse transform the scaled predictions and actual values\n",
    "y_pred_inv = scaler.inverse_transform(np.column_stack((np.zeros_like(y_pred), y_pred)))[:, 1]\n",
    "y_test_inv = scaler.inverse_transform(np.column_stack((np.zeros_like(y_test), y_test)))[:, 1]\n",
    "\n",
    "# Calculate evaluation metrics\n",
    "mse = mean_squared_error(y_test_inv, y_pred_inv)\n",
    "mae = mean_absolute_error(y_test_inv, y_pred_inv)\n",
    "mape = np.mean(np.abs((y_test_inv - y_pred_inv) / y_test_inv)) * 100\n",
    "\n",
    "print(f'Mean Squared Error (MSE): {mse}')\n",
    "print(f'Mean Absolute Error (MAE): {mae}')\n",
    "print(f'Mean Absolute Percentage Error (MAPE): {mape:.2f}%')\n"
   ]
  },
  {
   "cell_type": "code",
   "execution_count": 6,
   "id": "203f9bc5",
   "metadata": {},
   "outputs": [
    {
     "name": "stdout",
     "output_type": "stream",
     "text": [
      "Model: \"sequential\"\n",
      "_________________________________________________________________\n",
      " Layer (type)                Output Shape              Param #   \n",
      "=================================================================\n",
      " gru (GRU)                   (None, 50)                7950      \n",
      "                                                                 \n",
      " dense (Dense)               (None, 1)                 51        \n",
      "                                                                 \n",
      "=================================================================\n",
      "Total params: 8001 (31.25 KB)\n",
      "Trainable params: 8001 (31.25 KB)\n",
      "Non-trainable params: 0 (0.00 Byte)\n",
      "_________________________________________________________________\n"
     ]
    }
   ],
   "source": [
    "model.summary()"
   ]
  },
  {
   "cell_type": "code",
   "execution_count": 7,
   "id": "80a7be86",
   "metadata": {},
   "outputs": [
    {
     "name": "stdout",
     "output_type": "stream",
     "text": [
      "1/1 [==============================] - 0s 30ms/step\n"
     ]
    }
   ],
   "source": [
    "# Forecast for the next 12 periods\n",
    "future_periods = 12\n",
    "X_future = np.linspace(X[-1], X[-1] + future_periods, future_periods + 1).reshape(-1, 1, 1)\n",
    "y_future_pred = model.predict(X_future)\n",
    "\n",
    "# Inverse transform the scaled predictions\n",
    "y_future_pred_inv = scaler.inverse_transform(np.column_stack((np.zeros_like(y_future_pred), y_future_pred)))[:, 1]\n",
    "\n",
    "# Create a date range for the future periods\n",
    "future_dates = pd.date_range(start=data.index[-1], periods=future_periods + 2, freq='M')[1:]\n"
   ]
  },
  {
   "cell_type": "markdown",
   "id": "777a4454",
   "metadata": {},
   "source": [
    "TEST SIZE 70:30"
   ]
  },
  {
   "cell_type": "code",
   "execution_count": 8,
   "id": "15c6fbb1",
   "metadata": {},
   "outputs": [],
   "source": [
    "# Split the data into training and testing sets\n",
    "X_train, X_test, y_train, y_test = train_test_split(X, y, test_size=0.3, shuffle=False)"
   ]
  },
  {
   "cell_type": "code",
   "execution_count": 9,
   "id": "b2776850",
   "metadata": {},
   "outputs": [],
   "source": [
    "# Reshape data for GRU input\n",
    "X_train = X_train.reshape((X_train.shape[0], 1, 1))\n",
    "X_test = X_test.reshape((X_test.shape[0], 1, 1))\n"
   ]
  },
  {
   "cell_type": "code",
   "execution_count": 10,
   "id": "e16d6e66",
   "metadata": {},
   "outputs": [
    {
     "name": "stdout",
     "output_type": "stream",
     "text": [
      "Epoch 1/50\n",
      "3/3 - 4s - loss: 0.3620 - val_loss: 0.0234 - 4s/epoch - 1s/step\n",
      "Epoch 2/50\n",
      "3/3 - 0s - loss: 0.3290 - val_loss: 0.0201 - 57ms/epoch - 19ms/step\n",
      "Epoch 3/50\n",
      "3/3 - 0s - loss: 0.2974 - val_loss: 0.0197 - 53ms/epoch - 18ms/step\n",
      "Epoch 4/50\n",
      "3/3 - 0s - loss: 0.2686 - val_loss: 0.0222 - 58ms/epoch - 19ms/step\n",
      "Epoch 5/50\n",
      "3/3 - 0s - loss: 0.2401 - val_loss: 0.0275 - 58ms/epoch - 19ms/step\n",
      "Epoch 6/50\n",
      "3/3 - 0s - loss: 0.2142 - val_loss: 0.0355 - 41ms/epoch - 14ms/step\n",
      "Epoch 7/50\n",
      "3/3 - 0s - loss: 0.1897 - val_loss: 0.0463 - 41ms/epoch - 14ms/step\n",
      "Epoch 8/50\n",
      "3/3 - 0s - loss: 0.1664 - val_loss: 0.0600 - 39ms/epoch - 13ms/step\n",
      "Epoch 9/50\n",
      "3/3 - 0s - loss: 0.1453 - val_loss: 0.0766 - 70ms/epoch - 23ms/step\n",
      "Epoch 10/50\n",
      "3/3 - 0s - loss: 0.1251 - val_loss: 0.0958 - 78ms/epoch - 26ms/step\n",
      "Epoch 11/50\n",
      "3/3 - 0s - loss: 0.1071 - val_loss: 0.1174 - 60ms/epoch - 20ms/step\n",
      "Epoch 12/50\n",
      "3/3 - 0s - loss: 0.0903 - val_loss: 0.1413 - 39ms/epoch - 13ms/step\n",
      "Epoch 13/50\n",
      "3/3 - 0s - loss: 0.0754 - val_loss: 0.1675 - 42ms/epoch - 14ms/step\n",
      "Epoch 14/50\n",
      "3/3 - 0s - loss: 0.0628 - val_loss: 0.1960 - 43ms/epoch - 14ms/step\n",
      "Epoch 15/50\n",
      "3/3 - 0s - loss: 0.0510 - val_loss: 0.2260 - 52ms/epoch - 17ms/step\n",
      "Epoch 16/50\n",
      "3/3 - 0s - loss: 0.0410 - val_loss: 0.2577 - 61ms/epoch - 20ms/step\n",
      "Epoch 17/50\n",
      "3/3 - 0s - loss: 0.0334 - val_loss: 0.2906 - 56ms/epoch - 19ms/step\n",
      "Epoch 18/50\n",
      "3/3 - 0s - loss: 0.0267 - val_loss: 0.3230 - 43ms/epoch - 14ms/step\n",
      "Epoch 19/50\n",
      "3/3 - 0s - loss: 0.0220 - val_loss: 0.3545 - 50ms/epoch - 17ms/step\n",
      "Epoch 20/50\n",
      "3/3 - 0s - loss: 0.0183 - val_loss: 0.3839 - 53ms/epoch - 18ms/step\n",
      "Epoch 21/50\n",
      "3/3 - 0s - loss: 0.0159 - val_loss: 0.4111 - 56ms/epoch - 19ms/step\n",
      "Epoch 22/50\n",
      "3/3 - 0s - loss: 0.0145 - val_loss: 0.4354 - 50ms/epoch - 17ms/step\n",
      "Epoch 23/50\n",
      "3/3 - 0s - loss: 0.0135 - val_loss: 0.4561 - 58ms/epoch - 19ms/step\n",
      "Epoch 24/50\n",
      "3/3 - 0s - loss: 0.0132 - val_loss: 0.4736 - 47ms/epoch - 16ms/step\n",
      "Epoch 25/50\n",
      "3/3 - 0s - loss: 0.0132 - val_loss: 0.4870 - 44ms/epoch - 15ms/step\n",
      "Epoch 26/50\n",
      "3/3 - 0s - loss: 0.0131 - val_loss: 0.4952 - 76ms/epoch - 25ms/step\n",
      "Epoch 27/50\n",
      "3/3 - 0s - loss: 0.0132 - val_loss: 0.5004 - 50ms/epoch - 17ms/step\n",
      "Epoch 28/50\n",
      "3/3 - 0s - loss: 0.0133 - val_loss: 0.5022 - 57ms/epoch - 19ms/step\n",
      "Epoch 29/50\n",
      "3/3 - 0s - loss: 0.0133 - val_loss: 0.5022 - 87ms/epoch - 29ms/step\n",
      "Epoch 30/50\n",
      "3/3 - 0s - loss: 0.0133 - val_loss: 0.4999 - 55ms/epoch - 18ms/step\n",
      "Epoch 31/50\n",
      "3/3 - 0s - loss: 0.0132 - val_loss: 0.4976 - 148ms/epoch - 49ms/step\n",
      "Epoch 32/50\n",
      "3/3 - 0s - loss: 0.0132 - val_loss: 0.4943 - 68ms/epoch - 23ms/step\n",
      "Epoch 33/50\n",
      "3/3 - 0s - loss: 0.0132 - val_loss: 0.4914 - 46ms/epoch - 15ms/step\n",
      "Epoch 34/50\n",
      "3/3 - 0s - loss: 0.0131 - val_loss: 0.4894 - 60ms/epoch - 20ms/step\n",
      "Epoch 35/50\n",
      "3/3 - 0s - loss: 0.0131 - val_loss: 0.4870 - 55ms/epoch - 18ms/step\n",
      "Epoch 36/50\n",
      "3/3 - 0s - loss: 0.0131 - val_loss: 0.4846 - 53ms/epoch - 18ms/step\n",
      "Epoch 37/50\n",
      "3/3 - 0s - loss: 0.0131 - val_loss: 0.4819 - 69ms/epoch - 23ms/step\n",
      "Epoch 38/50\n",
      "3/3 - 0s - loss: 0.0131 - val_loss: 0.4802 - 93ms/epoch - 31ms/step\n",
      "Epoch 39/50\n",
      "3/3 - 0s - loss: 0.0131 - val_loss: 0.4791 - 63ms/epoch - 21ms/step\n",
      "Epoch 40/50\n",
      "3/3 - 0s - loss: 0.0131 - val_loss: 0.4788 - 108ms/epoch - 36ms/step\n",
      "Epoch 41/50\n",
      "3/3 - 0s - loss: 0.0131 - val_loss: 0.4793 - 45ms/epoch - 15ms/step\n",
      "Epoch 42/50\n",
      "3/3 - 0s - loss: 0.0131 - val_loss: 0.4781 - 53ms/epoch - 18ms/step\n",
      "Epoch 43/50\n",
      "3/3 - 0s - loss: 0.0131 - val_loss: 0.4769 - 54ms/epoch - 18ms/step\n",
      "Epoch 44/50\n",
      "3/3 - 0s - loss: 0.0131 - val_loss: 0.4754 - 59ms/epoch - 20ms/step\n",
      "Epoch 45/50\n",
      "3/3 - 0s - loss: 0.0131 - val_loss: 0.4743 - 74ms/epoch - 25ms/step\n",
      "Epoch 46/50\n",
      "3/3 - 0s - loss: 0.0131 - val_loss: 0.4737 - 72ms/epoch - 24ms/step\n",
      "Epoch 47/50\n",
      "3/3 - 0s - loss: 0.0131 - val_loss: 0.4741 - 65ms/epoch - 22ms/step\n",
      "Epoch 48/50\n",
      "3/3 - 0s - loss: 0.0131 - val_loss: 0.4732 - 78ms/epoch - 26ms/step\n",
      "Epoch 49/50\n",
      "3/3 - 0s - loss: 0.0131 - val_loss: 0.4735 - 84ms/epoch - 28ms/step\n",
      "Epoch 50/50\n",
      "3/3 - 0s - loss: 0.0131 - val_loss: 0.4752 - 73ms/epoch - 24ms/step\n"
     ]
    },
    {
     "data": {
      "text/plain": [
       "<keras.src.callbacks.History at 0x1a3d9f8c310>"
      ]
     },
     "execution_count": 10,
     "metadata": {},
     "output_type": "execute_result"
    }
   ],
   "source": [
    "model = Sequential()\n",
    "model.add(GRU(50, input_shape=(X_train.shape[1], X_train.shape[2])))\n",
    "model.add(Dense(1))\n",
    "model.compile(optimizer='adam', loss='mse')\n",
    "\n",
    "# Train the model\n",
    "model.fit(X_train, y_train, epochs=50, batch_size=32, validation_data=(X_test, y_test), verbose=2)\n"
   ]
  },
  {
   "cell_type": "code",
   "execution_count": 11,
   "id": "49b9110b",
   "metadata": {},
   "outputs": [
    {
     "name": "stdout",
     "output_type": "stream",
     "text": [
      "2/2 [==============================] - 1s 4ms/step\n",
      "Mean Squared Error (MSE): 18115408.93522454\n",
      "Mean Absolute Error (MAE): 4189.497097889089\n",
      "Mean Absolute Percentage Error (MAPE): 40.63%\n"
     ]
    }
   ],
   "source": [
    "# Make predictions on the test set\n",
    "y_pred = model.predict(X_test)\n",
    "\n",
    "# Inverse transform the scaled predictions and actual values\n",
    "y_pred_inv = scaler.inverse_transform(np.column_stack((np.zeros_like(y_pred), y_pred)))[:, 1]\n",
    "y_test_inv = scaler.inverse_transform(np.column_stack((np.zeros_like(y_test), y_test)))[:, 1]\n",
    "\n",
    "# Calculate evaluation metrics\n",
    "mse = mean_squared_error(y_test_inv, y_pred_inv)\n",
    "mae = mean_absolute_error(y_test_inv, y_pred_inv)\n",
    "mape = np.mean(np.abs((y_test_inv - y_pred_inv) / y_test_inv)) * 100\n",
    "\n",
    "print(f'Mean Squared Error (MSE): {mse}')\n",
    "print(f'Mean Absolute Error (MAE): {mae}')\n",
    "print(f'Mean Absolute Percentage Error (MAPE): {mape:.2f}%')\n"
   ]
  },
  {
   "cell_type": "code",
   "execution_count": 12,
   "id": "ac26e298",
   "metadata": {},
   "outputs": [
    {
     "name": "stdout",
     "output_type": "stream",
     "text": [
      "Model: \"sequential_1\"\n",
      "_________________________________________________________________\n",
      " Layer (type)                Output Shape              Param #   \n",
      "=================================================================\n",
      " gru_1 (GRU)                 (None, 50)                7950      \n",
      "                                                                 \n",
      " dense_1 (Dense)             (None, 1)                 51        \n",
      "                                                                 \n",
      "=================================================================\n",
      "Total params: 8001 (31.25 KB)\n",
      "Trainable params: 8001 (31.25 KB)\n",
      "Non-trainable params: 0 (0.00 Byte)\n",
      "_________________________________________________________________\n"
     ]
    }
   ],
   "source": [
    "model.summary()"
   ]
  },
  {
   "cell_type": "code",
   "execution_count": 13,
   "id": "05f28193",
   "metadata": {},
   "outputs": [
    {
     "name": "stdout",
     "output_type": "stream",
     "text": [
      "1/1 [==============================] - 0s 37ms/step\n"
     ]
    }
   ],
   "source": [
    "# Forecast for the next 12 periods\n",
    "future_periods = 12\n",
    "X_future = np.linspace(X[-1], X[-1] + future_periods, future_periods + 1).reshape(-1, 1, 1)\n",
    "y_future_pred = model.predict(X_future)\n",
    "\n",
    "# Inverse transform the scaled predictions\n",
    "y_future_pred_inv_30 = scaler.inverse_transform(np.column_stack((np.zeros_like(y_future_pred), y_future_pred)))[:, 1]\n",
    "\n",
    "# Create a date range for the future periods\n",
    "future_dates_30 = pd.date_range(start=data.index[-1], periods=future_periods + 2, freq='M')[1:]\n",
    "\n"
   ]
  },
  {
   "cell_type": "markdown",
   "id": "de336f49",
   "metadata": {},
   "source": [
    "TEST SIZE 60:40"
   ]
  },
  {
   "cell_type": "code",
   "execution_count": 14,
   "id": "e71bccf7",
   "metadata": {},
   "outputs": [],
   "source": [
    "# Split the data into training and testing sets\n",
    "X_train, X_test, y_train, y_test = train_test_split(X, y, test_size=0.4, shuffle=False)"
   ]
  },
  {
   "cell_type": "code",
   "execution_count": 15,
   "id": "28fb4483",
   "metadata": {},
   "outputs": [],
   "source": [
    "# Reshape data for GRU input\n",
    "X_train = X_train.reshape((X_train.shape[0], 1, 1))\n",
    "X_test = X_test.reshape((X_test.shape[0], 1, 1))\n"
   ]
  },
  {
   "cell_type": "code",
   "execution_count": 16,
   "id": "a3fabf74",
   "metadata": {},
   "outputs": [
    {
     "name": "stdout",
     "output_type": "stream",
     "text": [
      "Epoch 1/50\n",
      "2/2 - 4s - loss: 0.3181 - val_loss: 0.1215 - 4s/epoch - 2s/step\n",
      "Epoch 2/50\n",
      "2/2 - 0s - loss: 0.2967 - val_loss: 0.1137 - 59ms/epoch - 30ms/step\n",
      "Epoch 3/50\n",
      "2/2 - 0s - loss: 0.2757 - val_loss: 0.1073 - 55ms/epoch - 27ms/step\n",
      "Epoch 4/50\n",
      "2/2 - 0s - loss: 0.2553 - val_loss: 0.1023 - 44ms/epoch - 22ms/step\n",
      "Epoch 5/50\n",
      "2/2 - 0s - loss: 0.2362 - val_loss: 0.0987 - 55ms/epoch - 27ms/step\n",
      "Epoch 6/50\n",
      "2/2 - 0s - loss: 0.2178 - val_loss: 0.0965 - 57ms/epoch - 28ms/step\n",
      "Epoch 7/50\n",
      "2/2 - 0s - loss: 0.2000 - val_loss: 0.0957 - 54ms/epoch - 27ms/step\n",
      "Epoch 8/50\n",
      "2/2 - 0s - loss: 0.1833 - val_loss: 0.0962 - 52ms/epoch - 26ms/step\n",
      "Epoch 9/50\n",
      "2/2 - 0s - loss: 0.1669 - val_loss: 0.0981 - 50ms/epoch - 25ms/step\n",
      "Epoch 10/50\n",
      "2/2 - 0s - loss: 0.1517 - val_loss: 0.1014 - 44ms/epoch - 22ms/step\n",
      "Epoch 11/50\n",
      "2/2 - 0s - loss: 0.1367 - val_loss: 0.1060 - 50ms/epoch - 25ms/step\n",
      "Epoch 12/50\n",
      "2/2 - 0s - loss: 0.1228 - val_loss: 0.1120 - 95ms/epoch - 47ms/step\n",
      "Epoch 13/50\n",
      "2/2 - 0s - loss: 0.1097 - val_loss: 0.1193 - 60ms/epoch - 30ms/step\n",
      "Epoch 14/50\n",
      "2/2 - 0s - loss: 0.0970 - val_loss: 0.1280 - 59ms/epoch - 30ms/step\n",
      "Epoch 15/50\n",
      "2/2 - 0s - loss: 0.0856 - val_loss: 0.1379 - 51ms/epoch - 25ms/step\n",
      "Epoch 16/50\n",
      "2/2 - 0s - loss: 0.0748 - val_loss: 0.1492 - 48ms/epoch - 24ms/step\n",
      "Epoch 17/50\n",
      "2/2 - 0s - loss: 0.0649 - val_loss: 0.1617 - 42ms/epoch - 21ms/step\n",
      "Epoch 18/50\n",
      "2/2 - 0s - loss: 0.0560 - val_loss: 0.1753 - 55ms/epoch - 27ms/step\n",
      "Epoch 19/50\n",
      "2/2 - 0s - loss: 0.0476 - val_loss: 0.1899 - 52ms/epoch - 26ms/step\n",
      "Epoch 20/50\n",
      "2/2 - 0s - loss: 0.0403 - val_loss: 0.2055 - 44ms/epoch - 22ms/step\n",
      "Epoch 21/50\n",
      "2/2 - 0s - loss: 0.0337 - val_loss: 0.2219 - 53ms/epoch - 26ms/step\n",
      "Epoch 22/50\n",
      "2/2 - 0s - loss: 0.0281 - val_loss: 0.2388 - 78ms/epoch - 39ms/step\n",
      "Epoch 23/50\n",
      "2/2 - 0s - loss: 0.0233 - val_loss: 0.2561 - 86ms/epoch - 43ms/step\n",
      "Epoch 24/50\n",
      "2/2 - 0s - loss: 0.0194 - val_loss: 0.2737 - 77ms/epoch - 38ms/step\n",
      "Epoch 25/50\n",
      "2/2 - 0s - loss: 0.0162 - val_loss: 0.2913 - 73ms/epoch - 37ms/step\n",
      "Epoch 26/50\n",
      "2/2 - 0s - loss: 0.0136 - val_loss: 0.3085 - 79ms/epoch - 39ms/step\n",
      "Epoch 27/50\n",
      "2/2 - 0s - loss: 0.0116 - val_loss: 0.3252 - 50ms/epoch - 25ms/step\n",
      "Epoch 28/50\n",
      "2/2 - 0s - loss: 0.0101 - val_loss: 0.3409 - 48ms/epoch - 24ms/step\n",
      "Epoch 29/50\n",
      "2/2 - 0s - loss: 0.0090 - val_loss: 0.3555 - 47ms/epoch - 24ms/step\n",
      "Epoch 30/50\n",
      "2/2 - 0s - loss: 0.0084 - val_loss: 0.3688 - 51ms/epoch - 26ms/step\n",
      "Epoch 31/50\n",
      "2/2 - 0s - loss: 0.0081 - val_loss: 0.3809 - 53ms/epoch - 26ms/step\n",
      "Epoch 32/50\n",
      "2/2 - 0s - loss: 0.0079 - val_loss: 0.3911 - 56ms/epoch - 28ms/step\n",
      "Epoch 33/50\n",
      "2/2 - 0s - loss: 0.0079 - val_loss: 0.3998 - 60ms/epoch - 30ms/step\n",
      "Epoch 34/50\n",
      "2/2 - 0s - loss: 0.0079 - val_loss: 0.4068 - 40ms/epoch - 20ms/step\n",
      "Epoch 35/50\n",
      "2/2 - 0s - loss: 0.0081 - val_loss: 0.4123 - 59ms/epoch - 29ms/step\n",
      "Epoch 36/50\n",
      "2/2 - 0s - loss: 0.0081 - val_loss: 0.4161 - 107ms/epoch - 53ms/step\n",
      "Epoch 37/50\n",
      "2/2 - 0s - loss: 0.0082 - val_loss: 0.4184 - 59ms/epoch - 30ms/step\n",
      "Epoch 38/50\n",
      "2/2 - 0s - loss: 0.0083 - val_loss: 0.4197 - 67ms/epoch - 34ms/step\n",
      "Epoch 39/50\n",
      "2/2 - 0s - loss: 0.0083 - val_loss: 0.4198 - 67ms/epoch - 33ms/step\n",
      "Epoch 40/50\n",
      "2/2 - 0s - loss: 0.0083 - val_loss: 0.4190 - 53ms/epoch - 26ms/step\n",
      "Epoch 41/50\n",
      "2/2 - 0s - loss: 0.0082 - val_loss: 0.4174 - 51ms/epoch - 25ms/step\n",
      "Epoch 42/50\n",
      "2/2 - 0s - loss: 0.0082 - val_loss: 0.4152 - 45ms/epoch - 22ms/step\n",
      "Epoch 43/50\n",
      "2/2 - 0s - loss: 0.0081 - val_loss: 0.4128 - 55ms/epoch - 28ms/step\n",
      "Epoch 44/50\n",
      "2/2 - 0s - loss: 0.0081 - val_loss: 0.4101 - 55ms/epoch - 27ms/step\n",
      "Epoch 45/50\n",
      "2/2 - 0s - loss: 0.0080 - val_loss: 0.4072 - 52ms/epoch - 26ms/step\n",
      "Epoch 46/50\n",
      "2/2 - 0s - loss: 0.0080 - val_loss: 0.4046 - 46ms/epoch - 23ms/step\n",
      "Epoch 47/50\n",
      "2/2 - 0s - loss: 0.0079 - val_loss: 0.4022 - 41ms/epoch - 21ms/step\n",
      "Epoch 48/50\n",
      "2/2 - 0s - loss: 0.0079 - val_loss: 0.3997 - 47ms/epoch - 24ms/step\n",
      "Epoch 49/50\n",
      "2/2 - 0s - loss: 0.0079 - val_loss: 0.3975 - 69ms/epoch - 35ms/step\n",
      "Epoch 50/50\n",
      "2/2 - 0s - loss: 0.0079 - val_loss: 0.3953 - 67ms/epoch - 34ms/step\n"
     ]
    },
    {
     "data": {
      "text/plain": [
       "<keras.src.callbacks.History at 0x1a3de4756d0>"
      ]
     },
     "execution_count": 16,
     "metadata": {},
     "output_type": "execute_result"
    }
   ],
   "source": [
    "model = Sequential()\n",
    "model.add(GRU(50, input_shape=(X_train.shape[1], X_train.shape[2])))\n",
    "model.add(Dense(1))\n",
    "model.compile(optimizer='adam', loss='mse')\n",
    "\n",
    "# Train the model\n",
    "model.fit(X_train, y_train, epochs=50, batch_size=32, validation_data=(X_test, y_test), verbose=2)\n"
   ]
  },
  {
   "cell_type": "code",
   "execution_count": 17,
   "id": "5acc9423",
   "metadata": {},
   "outputs": [
    {
     "name": "stdout",
     "output_type": "stream",
     "text": [
      "2/2 [==============================] - 1s 5ms/step\n",
      "Mean Squared Error (MSE): 15068126.63992294\n",
      "Mean Absolute Error (MAE): 3471.5756102641276\n",
      "Mean Absolute Percentage Error (MAPE): 33.27%\n"
     ]
    }
   ],
   "source": [
    "# Make predictions on the test set\n",
    "y_pred = model.predict(X_test)\n",
    "\n",
    "# Inverse transform the scaled predictions and actual values\n",
    "y_pred_inv = scaler.inverse_transform(np.column_stack((np.zeros_like(y_pred), y_pred)))[:, 1]\n",
    "y_test_inv = scaler.inverse_transform(np.column_stack((np.zeros_like(y_test), y_test)))[:, 1]\n",
    "\n",
    "# Calculate evaluation metrics\n",
    "mse = mean_squared_error(y_test_inv, y_pred_inv)\n",
    "mae = mean_absolute_error(y_test_inv, y_pred_inv)\n",
    "mape = np.mean(np.abs((y_test_inv - y_pred_inv) / y_test_inv)) * 100\n",
    "\n",
    "print(f'Mean Squared Error (MSE): {mse}')\n",
    "print(f'Mean Absolute Error (MAE): {mae}')\n",
    "print(f'Mean Absolute Percentage Error (MAPE): {mape:.2f}%')\n"
   ]
  },
  {
   "cell_type": "code",
   "execution_count": 18,
   "id": "f847a96f",
   "metadata": {},
   "outputs": [
    {
     "name": "stdout",
     "output_type": "stream",
     "text": [
      "Model: \"sequential_2\"\n",
      "_________________________________________________________________\n",
      " Layer (type)                Output Shape              Param #   \n",
      "=================================================================\n",
      " gru_2 (GRU)                 (None, 50)                7950      \n",
      "                                                                 \n",
      " dense_2 (Dense)             (None, 1)                 51        \n",
      "                                                                 \n",
      "=================================================================\n",
      "Total params: 8001 (31.25 KB)\n",
      "Trainable params: 8001 (31.25 KB)\n",
      "Non-trainable params: 0 (0.00 Byte)\n",
      "_________________________________________________________________\n"
     ]
    }
   ],
   "source": [
    "model.summary()"
   ]
  },
  {
   "cell_type": "code",
   "execution_count": 19,
   "id": "314d67ad",
   "metadata": {},
   "outputs": [
    {
     "name": "stdout",
     "output_type": "stream",
     "text": [
      "1/1 [==============================] - 0s 52ms/step\n"
     ]
    }
   ],
   "source": [
    "# Forecast for the next 12 periods\n",
    "future_periods = 12\n",
    "X_future = np.linspace(X[-1], X[-1] + future_periods, future_periods + 1).reshape(-1, 1, 1)\n",
    "y_future_pred = model.predict(X_future)\n",
    "\n",
    "# Inverse transform the scaled predictions\n",
    "y_future_pred_inv_40 = scaler.inverse_transform(np.column_stack((np.zeros_like(y_future_pred), y_future_pred)))[:, 1]\n",
    "\n",
    "# Create a date range for the future periods\n",
    "future_dates_40 = pd.date_range(start=data.index[-1], periods=future_periods + 2, freq='M')[1:]\n",
    "\n"
   ]
  },
  {
   "cell_type": "markdown",
   "id": "6c243912",
   "metadata": {},
   "source": [
    "VISUALIZATION"
   ]
  },
  {
   "cell_type": "code",
   "execution_count": 20,
   "id": "5f0fcee3",
   "metadata": {},
   "outputs": [
    {
     "data": {
      "image/png": "[encoded data removed]",
      "text/plain": [
       "<Figure size 640x480 with 1 Axes>"
      ]
     },
     "metadata": {},
     "output_type": "display_data"
    }
   ],
   "source": [
    "\n",
    "# Plot the results\n",
    "plt.plot(data.index, data['total_visitor'], label='Actual')\n",
    "plt.plot(future_dates, y_future_pred_inv, label='Forecast')\n",
    "plt.plot(future_dates_30, y_future_pred_inv_30, label='Forecast')\n",
    "plt.plot(future_dates_40, y_future_pred_inv_40, label='Forecast')\n",
    "plt.legend()\n",
    "plt.show()"
   ]
  }
 ],
 "metadata": {
  "kernelspec": {
   "display_name": "Python 3",
   "language": "python",
   "name": "python3"
  },
  "language_info": {
   "codemirror_mode": {
    "name": "ipython",
    "version": 3
   },
   "file_extension": ".py",
   "mimetype": "text/x-python",
   "name": "python",
   "nbconvert_exporter": "python",
   "pygments_lexer": "ipython3",
   "version": "3.9.12"
  }
 },
 "nbformat": 4,
 "nbformat_minor": 5
}
