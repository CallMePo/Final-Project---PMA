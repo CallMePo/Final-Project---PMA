{
 "cells": [
  {
   "cell_type": "code",
   "execution_count": 32,
   "metadata": {},
   "outputs": [],
   "source": [
    "import pandas as pd\n",
    "import numpy as np\n",
    "import matplotlib.pyplot as plt\n",
    "import tensorflow\n",
    "import sklearn.preprocessing\n",
    "from sklearn.metrics import r2_score\n",
    "from sklearn.preprocessing import MinMaxScaler\n",
    "from sklearn.model_selection import train_test_split\n",
    "from sklearn.metrics import mean_absolute_error, mean_squared_error, mean_absolute_percentage_error\n",
    "from tensorflow.keras.callbacks import EarlyStopping\n",
    "from keras.layers import Dense,Dropout,LSTM,GRU\n",
    "from keras.models import Sequential\n",
    "from tensorflow import keras\n",
    "from tensorflow.keras.callbacks import EarlyStopping\n",
    "from tabulate import tabulate\n",
    "import seaborn as sns"
   ]
  },
  {
   "cell_type": "code",
   "execution_count": 33,
   "metadata": {},
   "outputs": [
    {
     "data": {
      "text/html": [
       "<div>\n",
       "<style scoped>\n",
       "    .dataframe tbody tr th:only-of-type {\n",
       "        vertical-align: middle;\n",
       "    }\n",
       "\n",
       "    .dataframe tbody tr th {\n",
       "        vertical-align: top;\n",
       "    }\n",
       "\n",
       "    .dataframe thead th {\n",
       "        text-align: right;\n",
       "    }\n",
       "</style>\n",
       "<table border=\"1\" class=\"dataframe\">\n",
       "  <thead>\n",
       "    <tr style=\"text-align: right;\">\n",
       "      <th></th>\n",
       "      <th>datetime</th>\n",
       "      <th>total_visitor</th>\n",
       "      <th>total_accomodation</th>\n",
       "    </tr>\n",
       "  </thead>\n",
       "  <tbody>\n",
       "    <tr>\n",
       "      <th>0</th>\n",
       "      <td>1/1/2014</td>\n",
       "      <td>164430</td>\n",
       "      <td>10055</td>\n",
       "    </tr>\n",
       "    <tr>\n",
       "      <th>1</th>\n",
       "      <td>2/1/2014</td>\n",
       "      <td>137055</td>\n",
       "      <td>10079</td>\n",
       "    </tr>\n",
       "    <tr>\n",
       "      <th>2</th>\n",
       "      <td>3/1/2014</td>\n",
       "      <td>167030</td>\n",
       "      <td>10132</td>\n",
       "    </tr>\n",
       "    <tr>\n",
       "      <th>3</th>\n",
       "      <td>4/1/2014</td>\n",
       "      <td>151982</td>\n",
       "      <td>10190</td>\n",
       "    </tr>\n",
       "    <tr>\n",
       "      <th>4</th>\n",
       "      <td>5/1/2014</td>\n",
       "      <td>154299</td>\n",
       "      <td>10274</td>\n",
       "    </tr>\n",
       "    <tr>\n",
       "      <th>...</th>\n",
       "      <td>...</td>\n",
       "      <td>...</td>\n",
       "      <td>...</td>\n",
       "    </tr>\n",
       "    <tr>\n",
       "      <th>103</th>\n",
       "      <td>8/1/2022</td>\n",
       "      <td>79470</td>\n",
       "      <td>15449</td>\n",
       "    </tr>\n",
       "    <tr>\n",
       "      <th>104</th>\n",
       "      <td>9/1/2022</td>\n",
       "      <td>104652</td>\n",
       "      <td>15502</td>\n",
       "    </tr>\n",
       "    <tr>\n",
       "      <th>105</th>\n",
       "      <td>10/1/2022</td>\n",
       "      <td>106160</td>\n",
       "      <td>15525</td>\n",
       "    </tr>\n",
       "    <tr>\n",
       "      <th>106</th>\n",
       "      <td>11/1/2022</td>\n",
       "      <td>103940</td>\n",
       "      <td>15612</td>\n",
       "    </tr>\n",
       "    <tr>\n",
       "      <th>107</th>\n",
       "      <td>12/1/2022</td>\n",
       "      <td>188544</td>\n",
       "      <td>16229</td>\n",
       "    </tr>\n",
       "  </tbody>\n",
       "</table>\n",
       "<p>108 rows × 3 columns</p>\n",
       "</div>"
      ],
      "text/plain": [
       "      datetime  total_visitor  total_accomodation\n",
       "0     1/1/2014         164430               10055\n",
       "1     2/1/2014         137055               10079\n",
       "2     3/1/2014         167030               10132\n",
       "3     4/1/2014         151982               10190\n",
       "4     5/1/2014         154299               10274\n",
       "..         ...            ...                 ...\n",
       "103   8/1/2022          79470               15449\n",
       "104   9/1/2022         104652               15502\n",
       "105  10/1/2022         106160               15525\n",
       "106  11/1/2022         103940               15612\n",
       "107  12/1/2022         188544               16229\n",
       "\n",
       "[108 rows x 3 columns]"
      ]
     },
     "execution_count": 33,
     "metadata": {},
     "output_type": "execute_result"
    }
   ],
   "source": [
    "df=pd.read_csv('https://raw.githubusercontent.com/CallMePo/Final-Project-PMA/master/KepRiau%202015%20-%202022.csv ')\n",
    "df"
   ]
  },
  {
   "cell_type": "code",
   "execution_count": 34,
   "metadata": {},
   "outputs": [
    {
     "data": {
      "text/plain": [
       "datetime              0\n",
       "total_visitor         0\n",
       "total_accomodation    0\n",
       "dtype: int64"
      ]
     },
     "execution_count": 34,
     "metadata": {},
     "output_type": "execute_result"
    }
   ],
   "source": [
    "df.isna().sum()"
   ]
  },
  {
   "cell_type": "code",
   "execution_count": 35,
   "metadata": {},
   "outputs": [
    {
     "data": {
      "text/plain": [
       "0     2014-01-01\n",
       "1     2014-02-01\n",
       "2     2014-03-01\n",
       "3     2014-04-01\n",
       "4     2014-05-01\n",
       "         ...    \n",
       "103   2022-08-01\n",
       "104   2022-09-01\n",
       "105   2022-10-01\n",
       "106   2022-11-01\n",
       "107   2022-12-01\n",
       "Name: datetime, Length: 108, dtype: datetime64[ns]"
      ]
     },
     "execution_count": 35,
     "metadata": {},
     "output_type": "execute_result"
    }
   ],
   "source": [
    "train_datetime=pd.to_datetime(df['datetime'])\n",
    "train_datetime"
   ]
  },
  {
   "cell_type": "code",
   "execution_count": 36,
   "metadata": {},
   "outputs": [],
   "source": [
    "selected_columns = ['total_visitor','total_accomodation']\n",
    "data_train = df.loc[:, selected_columns].astype(float)"
   ]
  },
  {
   "cell_type": "code",
   "execution_count": 37,
   "metadata": {},
   "outputs": [],
   "source": [
    "scaler = MinMaxScaler()\n",
    "data_scaled = scaler.fit_transform(data_train)"
   ]
  },
  {
   "cell_type": "code",
   "execution_count": 38,
   "metadata": {},
   "outputs": [],
   "source": [
    "n_future=1\n",
    "n_step=12\n",
    "\n",
    "X_train=[]\n",
    "y_train=[]\n",
    "for i in range (n_step, len(data_scaled)-n_future+1):\n",
    "    past_data = data_scaled[i-n_step:i, 0:data_scaled.shape[1]]\n",
    "    future_data=data_scaled[i+n_future - 1:i +n_future,0]\n",
    "    \n",
    "    X_train.append(past_data)\n",
    "    y_train.append(future_data)\n",
    "\n",
    "X_train=np.array(X_train)\n",
    "y_train=np.array(y_train)"
   ]
  },
  {
   "cell_type": "markdown",
   "metadata": {},
   "source": [
    "TEST SIZE 80:20"
   ]
  },
  {
   "cell_type": "code",
   "execution_count": 39,
   "metadata": {},
   "outputs": [
    {
     "name": "stdout",
     "output_type": "stream",
     "text": [
      "(76, 12, 2)\n",
      "(76, 1)\n",
      "(20, 12, 2)\n",
      "(20, 1)\n"
     ]
    }
   ],
   "source": [
    "X_train, X_test, y_train, y_test=train_test_split(X_train,y_train, test_size=0.2, random_state=42)\n",
    "print(X_train.shape)\n",
    "print(y_train.shape)\n",
    "print(X_test.shape)\n",
    "print(y_test.shape)"
   ]
  },
  {
   "cell_type": "code",
   "execution_count": 40,
   "metadata": {},
   "outputs": [],
   "source": [
    "model=Sequential()\n",
    "model.add(LSTM(256, activation='tanh', input_shape=(X_train.shape[1], X_train.shape[2])))\n",
    "model.add(Dropout(0.2))\n",
    "model.add(Dense(y_train.shape[1]))"
   ]
  },
  {
   "cell_type": "code",
   "execution_count": 41,
   "metadata": {},
   "outputs": [
    {
     "name": "stdout",
     "output_type": "stream",
     "text": [
      "Model: \"sequential_5\"\n",
      "_________________________________________________________________\n",
      " Layer (type)                Output Shape              Param #   \n",
      "=================================================================\n",
      " lstm_8 (LSTM)               (None, 256)               265216    \n",
      "                                                                 \n",
      " dropout_5 (Dropout)         (None, 256)               0         \n",
      "                                                                 \n",
      " dense_2 (Dense)             (None, 1)                 257       \n",
      "                                                                 \n",
      "=================================================================\n",
      "Total params: 265473 (1.01 MB)\n",
      "Trainable params: 265473 (1.01 MB)\n",
      "Non-trainable params: 0 (0.00 Byte)\n",
      "_________________________________________________________________\n"
     ]
    }
   ],
   "source": [
    "model.summary()"
   ]
  },
  {
   "cell_type": "code",
   "execution_count": 42,
   "metadata": {},
   "outputs": [],
   "source": [
    "model.compile(optimizer='adam', loss='mean_squared_error')"
   ]
  },
  {
   "cell_type": "code",
   "execution_count": 43,
   "metadata": {},
   "outputs": [
    {
     "name": "stdout",
     "output_type": "stream",
     "text": [
      "Epoch 1/100\n"
     ]
    },
    {
     "name": "stdout",
     "output_type": "stream",
     "text": [
      "2/2 [==============================] - 2s 352ms/step - loss: 0.2337 - val_loss: 0.0804\n",
      "Epoch 2/100\n",
      "2/2 [==============================] - 0s 39ms/step - loss: 0.0835 - val_loss: 0.0464\n",
      "Epoch 3/100\n",
      "2/2 [==============================] - 0s 45ms/step - loss: 0.0761 - val_loss: 0.0358\n",
      "Epoch 4/100\n",
      "2/2 [==============================] - 0s 47ms/step - loss: 0.0589 - val_loss: 0.0119\n",
      "Epoch 5/100\n",
      "2/2 [==============================] - 0s 48ms/step - loss: 0.0402 - val_loss: 0.0166\n",
      "Epoch 6/100\n",
      "2/2 [==============================] - 0s 48ms/step - loss: 0.0433 - val_loss: 0.0234\n",
      "Epoch 7/100\n",
      "2/2 [==============================] - 0s 39ms/step - loss: 0.0464 - val_loss: 0.0175\n",
      "Epoch 8/100\n",
      "2/2 [==============================] - 0s 45ms/step - loss: 0.0403 - val_loss: 0.0091\n",
      "Epoch 9/100\n",
      "2/2 [==============================] - 0s 40ms/step - loss: 0.0339 - val_loss: 0.0071\n",
      "Epoch 10/100\n",
      "2/2 [==============================] - 0s 47ms/step - loss: 0.0354 - val_loss: 0.0065\n",
      "Epoch 11/100\n",
      "2/2 [==============================] - 0s 45ms/step - loss: 0.0344 - val_loss: 0.0057\n",
      "Epoch 12/100\n",
      "2/2 [==============================] - 0s 32ms/step - loss: 0.0314 - val_loss: 0.0073\n",
      "Epoch 13/100\n",
      "2/2 [==============================] - 0s 39ms/step - loss: 0.0330 - val_loss: 0.0096\n",
      "Epoch 14/100\n",
      "2/2 [==============================] - 0s 40ms/step - loss: 0.0322 - val_loss: 0.0105\n",
      "Epoch 15/100\n",
      "2/2 [==============================] - 0s 47ms/step - loss: 0.0301 - val_loss: 0.0088\n",
      "Epoch 16/100\n",
      "2/2 [==============================] - 0s 53ms/step - loss: 0.0292 - val_loss: 0.0072\n"
     ]
    }
   ],
   "source": [
    "early_stop=EarlyStopping(monitor='val_loss', patience=5, restore_best_weights=True)\n",
    "\n",
    "history=model.fit(X_train,y_train, epochs=100, batch_size=32,validation_split=0.2, callbacks=[early_stop])"
   ]
  },
  {
   "cell_type": "code",
   "execution_count": 44,
   "metadata": {},
   "outputs": [
    {
     "data": {
      "text/plain": [
       "[<matplotlib.lines.Line2D at 0x188a645bb80>]"
      ]
     },
     "execution_count": 44,
     "metadata": {},
     "output_type": "execute_result"
    },
    {
     "data": {
      "image/png": "[encoded data removed]",
      "text/plain": [
       "<Figure size 640x480 with 1 Axes>"
      ]
     },
     "metadata": {},
     "output_type": "display_data"
    }
   ],
   "source": [
    "plt.plot(history.history['loss'])"
   ]
  },
  {
   "cell_type": "code",
   "execution_count": 45,
   "metadata": {},
   "outputs": [
    {
     "name": "stdout",
     "output_type": "stream",
     "text": [
      "[Timestamp('2022-12-31 00:00:00'), Timestamp('2023-01-31 00:00:00'), Timestamp('2023-02-28 00:00:00'), Timestamp('2023-03-31 00:00:00'), Timestamp('2023-04-30 00:00:00'), Timestamp('2023-05-31 00:00:00'), Timestamp('2023-06-30 00:00:00'), Timestamp('2023-07-31 00:00:00'), Timestamp('2023-08-31 00:00:00'), Timestamp('2023-09-30 00:00:00'), Timestamp('2023-10-31 00:00:00'), Timestamp('2023-11-30 00:00:00')]\n"
     ]
    }
   ],
   "source": [
    "n_past=1\n",
    "n_pred=12\n",
    "last_date=list(train_datetime)[-n_past]\n",
    "\n",
    "predict_12=pd.date_range(last_date, periods=n_pred, freq='M').tolist()\n",
    "print(predict_12)"
   ]
  },
  {
   "cell_type": "code",
   "execution_count": 46,
   "metadata": {},
   "outputs": [
    {
     "name": "stdout",
     "output_type": "stream",
     "text": [
      "1/1 [==============================] - 0s 423ms/step\n",
      "mse: 0.027503634345740765\n",
      "rmse 0.16584219712045775\n",
      "MAPE: 16.31%\n",
      "mae 0.09982970817931414\n"
     ]
    }
   ],
   "source": [
    "from sklearn.metrics import mean_absolute_error\n",
    "\n",
    "prediction=model.predict(X_test[-n_pred:])\n",
    "\n",
    "mse=mean_squared_error(y_test[-n_pred:],prediction)\n",
    "rmse=np.sqrt(mse)\n",
    "mape=mean_absolute_percentage_error(y_test[-n_pred:],prediction)\n",
    "mae=mean_absolute_error(y_test[-n_pred:], prediction)\n",
    "\n",
    "print(\"mse:\",mse)\n",
    "print(\"rmse\",rmse)\n",
    "print(\"MAPE:\", f\"{mape:.2f}%\")\n",
    "print(\"mae\",mae)"
   ]
  },
  {
   "cell_type": "code",
   "execution_count": 47,
   "metadata": {},
   "outputs": [],
   "source": [
    "prediction_copy = np.repeat(prediction, data_train.shape[1], axis=-1)\n",
    "y_pred_future = scaler.inverse_transform(prediction_copy)[:, 0]"
   ]
  },
  {
   "cell_type": "code",
   "execution_count": 48,
   "metadata": {},
   "outputs": [
    {
     "name": "stderr",
     "output_type": "stream",
     "text": [
      "C:\\Users\\atrke\\AppData\\Local\\Temp\\ipykernel_10168\\1499544800.py:9: SettingWithCopyWarning: \n",
      "A value is trying to be set on a copy of a slice from a DataFrame.\n",
      "Try using .loc[row_indexer,col_indexer] = value instead\n",
      "\n",
      "See the caveats in the documentation: https://pandas.pydata.org/pandas-docs/stable/user_guide/indexing.html#returning-a-view-versus-a-copy\n",
      "  actual['datetime']=pd.to_datetime(actual['datetime'])\n",
      "c:\\Users\\atrke\\AppData\\Local\\Programs\\Python\\Python39\\lib\\site-packages\\seaborn\\_oldcore.py:1498: FutureWarning: is_categorical_dtype is deprecated and will be removed in a future version. Use isinstance(dtype, CategoricalDtype) instead\n",
      "  if pd.api.types.is_categorical_dtype(vector):\n",
      "c:\\Users\\atrke\\AppData\\Local\\Programs\\Python\\Python39\\lib\\site-packages\\seaborn\\_oldcore.py:1498: FutureWarning: is_categorical_dtype is deprecated and will be removed in a future version. Use isinstance(dtype, CategoricalDtype) instead\n",
      "  if pd.api.types.is_categorical_dtype(vector):\n",
      "c:\\Users\\atrke\\AppData\\Local\\Programs\\Python\\Python39\\lib\\site-packages\\seaborn\\_oldcore.py:1119: FutureWarning: use_inf_as_na option is deprecated and will be removed in a future version. Convert inf values to NaN before operating instead.\n",
      "  with pd.option_context('mode.use_inf_as_na', True):\n",
      "c:\\Users\\atrke\\AppData\\Local\\Programs\\Python\\Python39\\lib\\site-packages\\seaborn\\_oldcore.py:1119: FutureWarning: use_inf_as_na option is deprecated and will be removed in a future version. Convert inf values to NaN before operating instead.\n",
      "  with pd.option_context('mode.use_inf_as_na', True):\n",
      "c:\\Users\\atrke\\AppData\\Local\\Programs\\Python\\Python39\\lib\\site-packages\\seaborn\\_oldcore.py:1498: FutureWarning: is_categorical_dtype is deprecated and will be removed in a future version. Use isinstance(dtype, CategoricalDtype) instead\n",
      "  if pd.api.types.is_categorical_dtype(vector):\n",
      "c:\\Users\\atrke\\AppData\\Local\\Programs\\Python\\Python39\\lib\\site-packages\\seaborn\\_oldcore.py:1498: FutureWarning: is_categorical_dtype is deprecated and will be removed in a future version. Use isinstance(dtype, CategoricalDtype) instead\n",
      "  if pd.api.types.is_categorical_dtype(vector):\n",
      "c:\\Users\\atrke\\AppData\\Local\\Programs\\Python\\Python39\\lib\\site-packages\\seaborn\\_oldcore.py:1119: FutureWarning: use_inf_as_na option is deprecated and will be removed in a future version. Convert inf values to NaN before operating instead.\n",
      "  with pd.option_context('mode.use_inf_as_na', True):\n",
      "c:\\Users\\atrke\\AppData\\Local\\Programs\\Python\\Python39\\lib\\site-packages\\seaborn\\_oldcore.py:1119: FutureWarning: use_inf_as_na option is deprecated and will be removed in a future version. Convert inf values to NaN before operating instead.\n",
      "  with pd.option_context('mode.use_inf_as_na', True):\n"
     ]
    },
    {
     "data": {
      "image/png": "[encoded data removed]",
      "text/plain": [
       "<Figure size 640x480 with 1 Axes>"
      ]
     },
     "metadata": {},
     "output_type": "display_data"
    }
   ],
   "source": [
    "forecast_dates=[]\n",
    "for i in predict_12:\n",
    "    forecast_dates.append(i.date())\n",
    "    \n",
    "df_forecast=pd.DataFrame({'Date': forecast_dates,'total_visitor':y_pred_future})\n",
    "df_forecast['Date']=pd.to_datetime(df_forecast['Date'])\n",
    "\n",
    "actual=df[['datetime','total_visitor']]\n",
    "actual['datetime']=pd.to_datetime(actual['datetime'])\n",
    "actual=actual.loc[actual['datetime']>='2013-01-01']\n",
    "\n",
    "sns.lineplot(actual, x='datetime', y='total_visitor',label='actual')\n",
    "sns.lineplot(df_forecast,x='Date',y='total_visitor',label='forecast')\n",
    "\n",
    "plt.xlabel('Year')\n",
    "plt.ylabel('Total Visitor')\n",
    "plt.legend()\n",
    "plt.show()\n"
   ]
  },
  {
   "cell_type": "code",
   "execution_count": 49,
   "metadata": {},
   "outputs": [
    {
     "name": "stdout",
     "output_type": "stream",
     "text": [
      "╒═════════════════════╤══════════════╕\n",
      "│ Date                │   Prediction │\n",
      "╞═════════════════════╪══════════════╡\n",
      "│ 2023-01-01 00:00:00 │     170818   │\n",
      "├─────────────────────┼──────────────┤\n",
      "│ 2023-02-01 00:00:00 │     172451   │\n",
      "├─────────────────────┼──────────────┤\n",
      "│ 2023-03-01 00:00:00 │     169545   │\n",
      "├─────────────────────┼──────────────┤\n",
      "│ 2023-04-01 00:00:00 │     168231   │\n",
      "├─────────────────────┼──────────────┤\n",
      "│ 2023-05-01 00:00:00 │     169999   │\n",
      "├─────────────────────┼──────────────┤\n",
      "│ 2023-06-01 00:00:00 │     173111   │\n",
      "├─────────────────────┼──────────────┤\n",
      "│ 2023-07-01 00:00:00 │     169229   │\n",
      "├─────────────────────┼──────────────┤\n",
      "│ 2023-08-01 00:00:00 │     164512   │\n",
      "├─────────────────────┼──────────────┤\n",
      "│ 2023-09-01 00:00:00 │     172781   │\n",
      "├─────────────────────┼──────────────┤\n",
      "│ 2023-10-01 00:00:00 │     158968   │\n",
      "├─────────────────────┼──────────────┤\n",
      "│ 2023-11-01 00:00:00 │     223817   │\n",
      "├─────────────────────┼──────────────┤\n",
      "│ 2023-12-01 00:00:00 │      20851.4 │\n",
      "╘═════════════════════╧══════════════╛\n"
     ]
    }
   ],
   "source": [
    "forecast_dates_1=pd.date_range(start='2023-01-01', end='2023-12-01', freq='MS')\n",
    "\n",
    "data=list(zip(forecast_dates_1,y_pred_future))\n",
    "\n",
    "headers=['Date','Prediction']\n",
    "table=tabulate(data, headers=headers, tablefmt='fancy_grid')\n",
    "print(table)"
   ]
  },
  {
   "cell_type": "markdown",
   "metadata": {},
   "source": [
    "TRAIN TEST SIZE 70:30"
   ]
  },
  {
   "cell_type": "code",
   "execution_count": 50,
   "metadata": {},
   "outputs": [
    {
     "name": "stdout",
     "output_type": "stream",
     "text": [
      "(53, 12, 2)\n",
      "(53, 1)\n",
      "(23, 12, 2)\n",
      "(23, 1)\n"
     ]
    }
   ],
   "source": [
    "X_train, X_test, y_train, y_test=train_test_split(X_train,y_train, test_size=0.3, random_state=42)\n",
    "print(X_train.shape)\n",
    "print(y_train.shape)\n",
    "print(X_test.shape)\n",
    "print(y_test.shape)"
   ]
  },
  {
   "cell_type": "code",
   "execution_count": 51,
   "metadata": {},
   "outputs": [],
   "source": [
    "model=Sequential()\n",
    "model.add(LSTM(256, activation='tanh', input_shape=(X_train.shape[1], X_train.shape[2])))\n",
    "model.add(Dropout(0.2))\n",
    "model.add(Dense(y_train.shape[1]))"
   ]
  },
  {
   "cell_type": "code",
   "execution_count": 52,
   "metadata": {},
   "outputs": [
    {
     "name": "stdout",
     "output_type": "stream",
     "text": [
      "Model: \"sequential_6\"\n",
      "_________________________________________________________________\n",
      " Layer (type)                Output Shape              Param #   \n",
      "=================================================================\n",
      " lstm_9 (LSTM)               (None, 256)               265216    \n",
      "                                                                 \n",
      " dropout_6 (Dropout)         (None, 256)               0         \n",
      "                                                                 \n",
      " dense_3 (Dense)             (None, 1)                 257       \n",
      "                                                                 \n",
      "=================================================================\n",
      "Total params: 265473 (1.01 MB)\n",
      "Trainable params: 265473 (1.01 MB)\n",
      "Non-trainable params: 0 (0.00 Byte)\n",
      "_________________________________________________________________\n"
     ]
    }
   ],
   "source": [
    "model.summary()"
   ]
  },
  {
   "cell_type": "code",
   "execution_count": 53,
   "metadata": {},
   "outputs": [],
   "source": [
    "model.compile(optimizer='adam', loss='mean_squared_error')"
   ]
  },
  {
   "cell_type": "code",
   "execution_count": 54,
   "metadata": {},
   "outputs": [
    {
     "name": "stdout",
     "output_type": "stream",
     "text": [
      "Epoch 1/100\n",
      "2/2 [==============================] - 3s 625ms/step - loss: 0.2603 - val_loss: 0.0783\n",
      "Epoch 2/100\n",
      "2/2 [==============================] - 0s 68ms/step - loss: 0.0796 - val_loss: 0.0467\n",
      "Epoch 3/100\n",
      "2/2 [==============================] - 0s 42ms/step - loss: 0.0787 - val_loss: 0.0553\n",
      "Epoch 4/100\n",
      "2/2 [==============================] - 0s 54ms/step - loss: 0.0712 - val_loss: 0.0183\n",
      "Epoch 5/100\n",
      "2/2 [==============================] - 0s 41ms/step - loss: 0.0309 - val_loss: 0.0204\n",
      "Epoch 6/100\n",
      "2/2 [==============================] - 0s 51ms/step - loss: 0.0391 - val_loss: 0.0283\n",
      "Epoch 7/100\n",
      "2/2 [==============================] - 0s 44ms/step - loss: 0.0446 - val_loss: 0.0264\n",
      "Epoch 8/100\n",
      "2/2 [==============================] - 0s 29ms/step - loss: 0.0462 - val_loss: 0.0188\n",
      "Epoch 9/100\n",
      "2/2 [==============================] - 0s 73ms/step - loss: 0.0336 - val_loss: 0.0135\n",
      "Epoch 10/100\n",
      "2/2 [==============================] - 0s 44ms/step - loss: 0.0293 - val_loss: 0.0143\n",
      "Epoch 11/100\n",
      "2/2 [==============================] - 0s 51ms/step - loss: 0.0267 - val_loss: 0.0159\n",
      "Epoch 12/100\n",
      "2/2 [==============================] - 0s 33ms/step - loss: 0.0288 - val_loss: 0.0149\n",
      "Epoch 13/100\n",
      "2/2 [==============================] - 0s 34ms/step - loss: 0.0280 - val_loss: 0.0121\n",
      "Epoch 14/100\n",
      "2/2 [==============================] - 0s 35ms/step - loss: 0.0281 - val_loss: 0.0105\n",
      "Epoch 15/100\n",
      "2/2 [==============================] - 0s 50ms/step - loss: 0.0256 - val_loss: 0.0102\n",
      "Epoch 16/100\n",
      "2/2 [==============================] - 0s 42ms/step - loss: 0.0263 - val_loss: 0.0101\n",
      "Epoch 17/100\n",
      "2/2 [==============================] - 0s 40ms/step - loss: 0.0245 - val_loss: 0.0098\n",
      "Epoch 18/100\n",
      "2/2 [==============================] - 0s 41ms/step - loss: 0.0263 - val_loss: 0.0089\n",
      "Epoch 19/100\n",
      "2/2 [==============================] - 0s 82ms/step - loss: 0.0253 - val_loss: 0.0084\n",
      "Epoch 20/100\n",
      "2/2 [==============================] - 0s 37ms/step - loss: 0.0249 - val_loss: 0.0089\n",
      "Epoch 21/100\n",
      "2/2 [==============================] - 0s 41ms/step - loss: 0.0245 - val_loss: 0.0094\n",
      "Epoch 22/100\n",
      "2/2 [==============================] - 0s 50ms/step - loss: 0.0240 - val_loss: 0.0092\n",
      "Epoch 23/100\n",
      "2/2 [==============================] - 0s 32ms/step - loss: 0.0233 - val_loss: 0.0086\n",
      "Epoch 24/100\n",
      "2/2 [==============================] - 0s 48ms/step - loss: 0.0227 - val_loss: 0.0077\n",
      "Epoch 25/100\n",
      "2/2 [==============================] - 0s 37ms/step - loss: 0.0231 - val_loss: 0.0070\n",
      "Epoch 26/100\n",
      "2/2 [==============================] - 0s 33ms/step - loss: 0.0246 - val_loss: 0.0066\n",
      "Epoch 27/100\n",
      "2/2 [==============================] - 0s 63ms/step - loss: 0.0229 - val_loss: 0.0064\n",
      "Epoch 28/100\n",
      "2/2 [==============================] - 0s 35ms/step - loss: 0.0240 - val_loss: 0.0064\n",
      "Epoch 29/100\n",
      "2/2 [==============================] - 0s 32ms/step - loss: 0.0221 - val_loss: 0.0072\n",
      "Epoch 30/100\n",
      "2/2 [==============================] - 0s 29ms/step - loss: 0.0217 - val_loss: 0.0069\n",
      "Epoch 31/100\n",
      "2/2 [==============================] - 0s 32ms/step - loss: 0.0223 - val_loss: 0.0057\n",
      "Epoch 32/100\n",
      "2/2 [==============================] - 0s 93ms/step - loss: 0.0218 - val_loss: 0.0054\n",
      "Epoch 33/100\n",
      "2/2 [==============================] - 0s 36ms/step - loss: 0.0217 - val_loss: 0.0056\n",
      "Epoch 34/100\n",
      "2/2 [==============================] - 0s 38ms/step - loss: 0.0228 - val_loss: 0.0055\n",
      "Epoch 35/100\n",
      "2/2 [==============================] - 0s 39ms/step - loss: 0.0207 - val_loss: 0.0049\n",
      "Epoch 36/100\n",
      "2/2 [==============================] - 0s 41ms/step - loss: 0.0211 - val_loss: 0.0046\n",
      "Epoch 37/100\n",
      "2/2 [==============================] - 0s 38ms/step - loss: 0.0199 - val_loss: 0.0046\n",
      "Epoch 38/100\n",
      "2/2 [==============================] - 0s 36ms/step - loss: 0.0196 - val_loss: 0.0046\n",
      "Epoch 39/100\n",
      "2/2 [==============================] - 0s 42ms/step - loss: 0.0195 - val_loss: 0.0044\n",
      "Epoch 40/100\n",
      "2/2 [==============================] - 0s 41ms/step - loss: 0.0197 - val_loss: 0.0044\n",
      "Epoch 41/100\n",
      "2/2 [==============================] - 0s 42ms/step - loss: 0.0196 - val_loss: 0.0041\n",
      "Epoch 42/100\n",
      "2/2 [==============================] - 0s 39ms/step - loss: 0.0196 - val_loss: 0.0040\n",
      "Epoch 43/100\n",
      "2/2 [==============================] - 0s 56ms/step - loss: 0.0207 - val_loss: 0.0038\n",
      "Epoch 44/100\n",
      "2/2 [==============================] - 0s 33ms/step - loss: 0.0189 - val_loss: 0.0034\n",
      "Epoch 45/100\n",
      "2/2 [==============================] - 0s 37ms/step - loss: 0.0182 - val_loss: 0.0038\n",
      "Epoch 46/100\n",
      "2/2 [==============================] - 0s 36ms/step - loss: 0.0171 - val_loss: 0.0043\n",
      "Epoch 47/100\n",
      "2/2 [==============================] - 0s 27ms/step - loss: 0.0216 - val_loss: 0.0040\n",
      "Epoch 48/100\n",
      "2/2 [==============================] - 0s 39ms/step - loss: 0.0159 - val_loss: 0.0032\n",
      "Epoch 49/100\n",
      "2/2 [==============================] - 0s 50ms/step - loss: 0.0179 - val_loss: 0.0048\n",
      "Epoch 50/100\n",
      "2/2 [==============================] - 0s 35ms/step - loss: 0.0179 - val_loss: 0.0046\n",
      "Epoch 51/100\n",
      "2/2 [==============================] - 0s 70ms/step - loss: 0.0170 - val_loss: 0.0035\n",
      "Epoch 52/100\n",
      "2/2 [==============================] - 0s 47ms/step - loss: 0.0178 - val_loss: 0.0040\n",
      "Epoch 53/100\n",
      "2/2 [==============================] - 0s 51ms/step - loss: 0.0171 - val_loss: 0.0038\n"
     ]
    }
   ],
   "source": [
    "early_stop=EarlyStopping(monitor='val_loss', patience=5, restore_best_weights=True)\n",
    "\n",
    "history=model.fit(X_train,y_train, epochs=100, batch_size=32,validation_split=0.2, callbacks=[early_stop])"
   ]
  },
  {
   "cell_type": "code",
   "execution_count": 55,
   "metadata": {},
   "outputs": [
    {
     "data": {
      "text/plain": [
       "[<matplotlib.lines.Line2D at 0x188abe323a0>]"
      ]
     },
     "execution_count": 55,
     "metadata": {},
     "output_type": "execute_result"
    },
    {
     "data": {
      "image/png": "[encoded data removed]",
      "text/plain": [
       "<Figure size 640x480 with 1 Axes>"
      ]
     },
     "metadata": {},
     "output_type": "display_data"
    }
   ],
   "source": [
    "plt.plot(history.history['loss'])"
   ]
  },
  {
   "cell_type": "code",
   "execution_count": 56,
   "metadata": {},
   "outputs": [
    {
     "name": "stdout",
     "output_type": "stream",
     "text": [
      "[Timestamp('2022-12-31 00:00:00'), Timestamp('2023-01-31 00:00:00'), Timestamp('2023-02-28 00:00:00'), Timestamp('2023-03-31 00:00:00'), Timestamp('2023-04-30 00:00:00'), Timestamp('2023-05-31 00:00:00'), Timestamp('2023-06-30 00:00:00'), Timestamp('2023-07-31 00:00:00'), Timestamp('2023-08-31 00:00:00'), Timestamp('2023-09-30 00:00:00'), Timestamp('2023-10-31 00:00:00'), Timestamp('2023-11-30 00:00:00')]\n"
     ]
    }
   ],
   "source": [
    "n_past=1\n",
    "n_pred=12\n",
    "last_date=list(train_datetime)[-n_past]\n",
    "\n",
    "predict_12=pd.date_range(last_date, periods=n_pred, freq='M').tolist()\n",
    "print(predict_12)"
   ]
  },
  {
   "cell_type": "code",
   "execution_count": 57,
   "metadata": {},
   "outputs": [
    {
     "name": "stdout",
     "output_type": "stream",
     "text": [
      "1/1 [==============================] - 0s 344ms/step\n",
      "mse: 0.02195770156959739\n",
      "rmse 0.14818131315924216\n",
      "MAPE: 165.28%\n",
      "mae 0.09870422478661285\n"
     ]
    }
   ],
   "source": [
    "from sklearn.metrics import mean_absolute_error\n",
    "\n",
    "prediction=model.predict(X_test[-n_pred:])\n",
    "\n",
    "mse=mean_squared_error(y_test[-n_pred:],prediction)\n",
    "rmse=np.sqrt(mse)\n",
    "mape=mean_absolute_percentage_error(y_test[-n_pred:],prediction)\n",
    "mae=mean_absolute_error(y_test[-n_pred:], prediction)\n",
    "\n",
    "print(\"mse:\",mse)\n",
    "print(\"rmse\",rmse)\n",
    "print(\"MAPE:\", f\"{mape:.2f}%\")\n",
    "print(\"mae\",mae)"
   ]
  },
  {
   "cell_type": "code",
   "execution_count": 58,
   "metadata": {},
   "outputs": [],
   "source": [
    "prediction_copy = np.repeat(prediction, data_train.shape[1], axis=-1)\n",
    "y_pred_future = scaler.inverse_transform(prediction_copy)[:, 0]"
   ]
  },
  {
   "cell_type": "code",
   "execution_count": 59,
   "metadata": {},
   "outputs": [
    {
     "name": "stderr",
     "output_type": "stream",
     "text": [
      "C:\\Users\\atrke\\AppData\\Local\\Temp\\ipykernel_10168\\1499544800.py:9: SettingWithCopyWarning: \n",
      "A value is trying to be set on a copy of a slice from a DataFrame.\n",
      "Try using .loc[row_indexer,col_indexer] = value instead\n",
      "\n",
      "See the caveats in the documentation: https://pandas.pydata.org/pandas-docs/stable/user_guide/indexing.html#returning-a-view-versus-a-copy\n",
      "  actual['datetime']=pd.to_datetime(actual['datetime'])\n",
      "c:\\Users\\atrke\\AppData\\Local\\Programs\\Python\\Python39\\lib\\site-packages\\seaborn\\_oldcore.py:1498: FutureWarning: is_categorical_dtype is deprecated and will be removed in a future version. Use isinstance(dtype, CategoricalDtype) instead\n",
      "  if pd.api.types.is_categorical_dtype(vector):\n",
      "c:\\Users\\atrke\\AppData\\Local\\Programs\\Python\\Python39\\lib\\site-packages\\seaborn\\_oldcore.py:1498: FutureWarning: is_categorical_dtype is deprecated and will be removed in a future version. Use isinstance(dtype, CategoricalDtype) instead\n",
      "  if pd.api.types.is_categorical_dtype(vector):\n",
      "c:\\Users\\atrke\\AppData\\Local\\Programs\\Python\\Python39\\lib\\site-packages\\seaborn\\_oldcore.py:1119: FutureWarning: use_inf_as_na option is deprecated and will be removed in a future version. Convert inf values to NaN before operating instead.\n",
      "  with pd.option_context('mode.use_inf_as_na', True):\n",
      "c:\\Users\\atrke\\AppData\\Local\\Programs\\Python\\Python39\\lib\\site-packages\\seaborn\\_oldcore.py:1119: FutureWarning: use_inf_as_na option is deprecated and will be removed in a future version. Convert inf values to NaN before operating instead.\n",
      "  with pd.option_context('mode.use_inf_as_na', True):\n",
      "c:\\Users\\atrke\\AppData\\Local\\Programs\\Python\\Python39\\lib\\site-packages\\seaborn\\_oldcore.py:1498: FutureWarning: is_categorical_dtype is deprecated and will be removed in a future version. Use isinstance(dtype, CategoricalDtype) instead\n",
      "  if pd.api.types.is_categorical_dtype(vector):\n",
      "c:\\Users\\atrke\\AppData\\Local\\Programs\\Python\\Python39\\lib\\site-packages\\seaborn\\_oldcore.py:1498: FutureWarning: is_categorical_dtype is deprecated and will be removed in a future version. Use isinstance(dtype, CategoricalDtype) instead\n",
      "  if pd.api.types.is_categorical_dtype(vector):\n",
      "c:\\Users\\atrke\\AppData\\Local\\Programs\\Python\\Python39\\lib\\site-packages\\seaborn\\_oldcore.py:1119: FutureWarning: use_inf_as_na option is deprecated and will be removed in a future version. Convert inf values to NaN before operating instead.\n",
      "  with pd.option_context('mode.use_inf_as_na', True):\n",
      "c:\\Users\\atrke\\AppData\\Local\\Programs\\Python\\Python39\\lib\\site-packages\\seaborn\\_oldcore.py:1119: FutureWarning: use_inf_as_na option is deprecated and will be removed in a future version. Convert inf values to NaN before operating instead.\n",
      "  with pd.option_context('mode.use_inf_as_na', True):\n"
     ]
    },
    {
     "data": {
      "image/png": "[encoded data removed]",
      "text/plain": [
       "<Figure size 640x480 with 1 Axes>"
      ]
     },
     "metadata": {},
     "output_type": "display_data"
    }
   ],
   "source": [
    "forecast_dates=[]\n",
    "for i in predict_12:\n",
    "    forecast_dates.append(i.date())\n",
    "    \n",
    "df_forecast=pd.DataFrame({'Date': forecast_dates,'total_visitor':y_pred_future})\n",
    "df_forecast['Date']=pd.to_datetime(df_forecast['Date'])\n",
    "\n",
    "actual=df[['datetime','total_visitor']]\n",
    "actual['datetime']=pd.to_datetime(actual['datetime'])\n",
    "actual=actual.loc[actual['datetime']>='2013-01-01']\n",
    "\n",
    "sns.lineplot(actual, x='datetime', y='total_visitor',label='actual')\n",
    "sns.lineplot(df_forecast,x='Date',y='total_visitor',label='forecast')\n",
    "\n",
    "plt.xlabel('Year')\n",
    "plt.ylabel('Total Visitor')\n",
    "plt.legend()\n",
    "plt.show()\n"
   ]
  },
  {
   "cell_type": "code",
   "execution_count": 60,
   "metadata": {},
   "outputs": [
    {
     "name": "stdout",
     "output_type": "stream",
     "text": [
      "╒═════════════════════╤══════════════╕\n",
      "│ Date                │   Prediction │\n",
      "╞═════════════════════╪══════════════╡\n",
      "│ 2023-01-01 00:00:00 │    156907    │\n",
      "├─────────────────────┼──────────────┤\n",
      "│ 2023-02-01 00:00:00 │    201205    │\n",
      "├─────────────────────┼──────────────┤\n",
      "│ 2023-03-01 00:00:00 │     -2081.17 │\n",
      "├─────────────────────┼──────────────┤\n",
      "│ 2023-04-01 00:00:00 │     24428.4  │\n",
      "├─────────────────────┼──────────────┤\n",
      "│ 2023-05-01 00:00:00 │     25418.5  │\n",
      "├─────────────────────┼──────────────┤\n",
      "│ 2023-06-01 00:00:00 │    210948    │\n",
      "├─────────────────────┼──────────────┤\n",
      "│ 2023-07-01 00:00:00 │    172842    │\n",
      "├─────────────────────┼──────────────┤\n",
      "│ 2023-08-01 00:00:00 │    179097    │\n",
      "├─────────────────────┼──────────────┤\n",
      "│ 2023-09-01 00:00:00 │    166240    │\n",
      "├─────────────────────┼──────────────┤\n",
      "│ 2023-10-01 00:00:00 │    167913    │\n",
      "├─────────────────────┼──────────────┤\n",
      "│ 2023-11-01 00:00:00 │    213700    │\n",
      "├─────────────────────┼──────────────┤\n",
      "│ 2023-12-01 00:00:00 │    102596    │\n",
      "╘═════════════════════╧══════════════╛\n"
     ]
    }
   ],
   "source": [
    "forecast_dates_1=pd.date_range(start='2023-01-01', end='2023-12-01', freq='MS')\n",
    "\n",
    "data=list(zip(forecast_dates_1,y_pred_future))\n",
    "\n",
    "headers=['Date','Prediction']\n",
    "table=tabulate(data, headers=headers, tablefmt='fancy_grid')\n",
    "print(table)"
   ]
  },
  {
   "cell_type": "markdown",
   "metadata": {},
   "source": [
    "TRAIN TEST SIZE 60:40"
   ]
  },
  {
   "cell_type": "code",
   "execution_count": 61,
   "metadata": {},
   "outputs": [
    {
     "name": "stdout",
     "output_type": "stream",
     "text": [
      "(31, 12, 2)\n",
      "(31, 1)\n",
      "(22, 12, 2)\n",
      "(22, 1)\n"
     ]
    }
   ],
   "source": [
    "X_train, X_test, y_train, y_test=train_test_split(X_train,y_train, test_size=0.4, random_state=42)\n",
    "print(X_train.shape)\n",
    "print(y_train.shape)\n",
    "print(X_test.shape)\n",
    "print(y_test.shape)"
   ]
  },
  {
   "cell_type": "code",
   "execution_count": 62,
   "metadata": {},
   "outputs": [],
   "source": [
    "model=Sequential()\n",
    "model.add(LSTM(256, activation='tanh', input_shape=(X_train.shape[1], X_train.shape[2])))\n",
    "model.add(Dropout(0.2))\n",
    "model.add(Dense(y_train.shape[1]))"
   ]
  },
  {
   "cell_type": "code",
   "execution_count": 63,
   "metadata": {},
   "outputs": [
    {
     "name": "stdout",
     "output_type": "stream",
     "text": [
      "Model: \"sequential_7\"\n",
      "_________________________________________________________________\n",
      " Layer (type)                Output Shape              Param #   \n",
      "=================================================================\n",
      " lstm_10 (LSTM)              (None, 256)               265216    \n",
      "                                                                 \n",
      " dropout_7 (Dropout)         (None, 256)               0         \n",
      "                                                                 \n",
      " dense_4 (Dense)             (None, 1)                 257       \n",
      "                                                                 \n",
      "=================================================================\n",
      "Total params: 265473 (1.01 MB)\n",
      "Trainable params: 265473 (1.01 MB)\n",
      "Non-trainable params: 0 (0.00 Byte)\n",
      "_________________________________________________________________\n"
     ]
    }
   ],
   "source": [
    "model.summary()"
   ]
  },
  {
   "cell_type": "code",
   "execution_count": 64,
   "metadata": {},
   "outputs": [],
   "source": [
    "model.compile(optimizer='adam', loss='mean_squared_error')"
   ]
  },
  {
   "cell_type": "code",
   "execution_count": 65,
   "metadata": {},
   "outputs": [
    {
     "name": "stdout",
     "output_type": "stream",
     "text": [
      "Epoch 1/100\n",
      "1/1 [==============================] - 2s 2s/step - loss: 0.2732 - val_loss: 0.1598\n",
      "Epoch 2/100\n",
      "1/1 [==============================] - 0s 50ms/step - loss: 0.1575 - val_loss: 0.0833\n",
      "Epoch 3/100\n",
      "1/1 [==============================] - 0s 56ms/step - loss: 0.0842 - val_loss: 0.0343\n",
      "Epoch 4/100\n",
      "1/1 [==============================] - 0s 77ms/step - loss: 0.0497 - val_loss: 0.0178\n",
      "Epoch 5/100\n",
      "1/1 [==============================] - 0s 45ms/step - loss: 0.0568 - val_loss: 0.0195\n",
      "Epoch 6/100\n",
      "1/1 [==============================] - 0s 47ms/step - loss: 0.0731 - val_loss: 0.0155\n",
      "Epoch 7/100\n",
      "1/1 [==============================] - 0s 43ms/step - loss: 0.0609 - val_loss: 0.0097\n",
      "Epoch 8/100\n",
      "1/1 [==============================] - 0s 41ms/step - loss: 0.0480 - val_loss: 0.0078\n",
      "Epoch 9/100\n",
      "1/1 [==============================] - 0s 45ms/step - loss: 0.0346 - val_loss: 0.0102\n",
      "Epoch 10/100\n",
      "1/1 [==============================] - 0s 35ms/step - loss: 0.0317 - val_loss: 0.0143\n",
      "Epoch 11/100\n",
      "1/1 [==============================] - 0s 50ms/step - loss: 0.0360 - val_loss: 0.0179\n",
      "Epoch 12/100\n",
      "1/1 [==============================] - 0s 49ms/step - loss: 0.0361 - val_loss: 0.0196\n",
      "Epoch 13/100\n",
      "1/1 [==============================] - 0s 49ms/step - loss: 0.0427 - val_loss: 0.0188\n"
     ]
    }
   ],
   "source": [
    "early_stop=EarlyStopping(monitor='val_loss', patience=5, restore_best_weights=True)\n",
    "\n",
    "history=model.fit(X_train,y_train, epochs=100, batch_size=32,validation_split=0.2, callbacks=[early_stop])"
   ]
  },
  {
   "cell_type": "code",
   "execution_count": 66,
   "metadata": {},
   "outputs": [
    {
     "data": {
      "text/plain": [
       "[<matplotlib.lines.Line2D at 0x188a1159070>]"
      ]
     },
     "execution_count": 66,
     "metadata": {},
     "output_type": "execute_result"
    },
    {
     "data": {
      "image/png": "[encoded data removed]",
      "text/plain": [
       "<Figure size 640x480 with 1 Axes>"
      ]
     },
     "metadata": {},
     "output_type": "display_data"
    }
   ],
   "source": [
    "plt.plot(history.history['loss'])"
   ]
  },
  {
   "cell_type": "code",
   "execution_count": 67,
   "metadata": {},
   "outputs": [
    {
     "name": "stdout",
     "output_type": "stream",
     "text": [
      "[Timestamp('2022-12-31 00:00:00'), Timestamp('2023-01-31 00:00:00'), Timestamp('2023-02-28 00:00:00'), Timestamp('2023-03-31 00:00:00'), Timestamp('2023-04-30 00:00:00'), Timestamp('2023-05-31 00:00:00'), Timestamp('2023-06-30 00:00:00'), Timestamp('2023-07-31 00:00:00'), Timestamp('2023-08-31 00:00:00'), Timestamp('2023-09-30 00:00:00'), Timestamp('2023-10-31 00:00:00'), Timestamp('2023-11-30 00:00:00')]\n"
     ]
    }
   ],
   "source": [
    "n_past=1\n",
    "n_pred=12\n",
    "last_date=list(train_datetime)[-n_past]\n",
    "\n",
    "predict_12=pd.date_range(last_date, periods=n_pred, freq='M').tolist()\n",
    "print(predict_12)"
   ]
  },
  {
   "cell_type": "code",
   "execution_count": 68,
   "metadata": {},
   "outputs": [
    {
     "name": "stdout",
     "output_type": "stream",
     "text": [
      "1/1 [==============================] - 0s 349ms/step\n",
      "mse: 0.03517415784112333\n",
      "rmse 0.1875477481632966\n",
      "MAPE: 20.18%\n",
      "mae 0.14719318879682944\n"
     ]
    }
   ],
   "source": [
    "from sklearn.metrics import mean_absolute_error\n",
    "\n",
    "prediction=model.predict(X_test[-n_pred:])\n",
    "\n",
    "mse=mean_squared_error(y_test[-n_pred:],prediction)\n",
    "rmse=np.sqrt(mse)\n",
    "mape=mean_absolute_percentage_error(y_test[-n_pred:],prediction)\n",
    "mae=mean_absolute_error(y_test[-n_pred:], prediction)\n",
    "\n",
    "print(\"mse:\",mse)\n",
    "print(\"rmse\",rmse)\n",
    "print(\"MAPE:\", f\"{mape:.2f}%\")\n",
    "print(\"mae\",mae)"
   ]
  },
  {
   "cell_type": "code",
   "execution_count": 69,
   "metadata": {},
   "outputs": [],
   "source": [
    "prediction_copy = np.repeat(prediction, data_train.shape[1], axis=-1)\n",
    "y_pred_future = scaler.inverse_transform(prediction_copy)[:, 0]"
   ]
  },
  {
   "cell_type": "code",
   "execution_count": 70,
   "metadata": {},
   "outputs": [
    {
     "name": "stderr",
     "output_type": "stream",
     "text": [
      "C:\\Users\\atrke\\AppData\\Local\\Temp\\ipykernel_10168\\1499544800.py:9: SettingWithCopyWarning: \n",
      "A value is trying to be set on a copy of a slice from a DataFrame.\n",
      "Try using .loc[row_indexer,col_indexer] = value instead\n",
      "\n",
      "See the caveats in the documentation: https://pandas.pydata.org/pandas-docs/stable/user_guide/indexing.html#returning-a-view-versus-a-copy\n",
      "  actual['datetime']=pd.to_datetime(actual['datetime'])\n",
      "c:\\Users\\atrke\\AppData\\Local\\Programs\\Python\\Python39\\lib\\site-packages\\seaborn\\_oldcore.py:1498: FutureWarning: is_categorical_dtype is deprecated and will be removed in a future version. Use isinstance(dtype, CategoricalDtype) instead\n",
      "  if pd.api.types.is_categorical_dtype(vector):\n",
      "c:\\Users\\atrke\\AppData\\Local\\Programs\\Python\\Python39\\lib\\site-packages\\seaborn\\_oldcore.py:1498: FutureWarning: is_categorical_dtype is deprecated and will be removed in a future version. Use isinstance(dtype, CategoricalDtype) instead\n",
      "  if pd.api.types.is_categorical_dtype(vector):\n",
      "c:\\Users\\atrke\\AppData\\Local\\Programs\\Python\\Python39\\lib\\site-packages\\seaborn\\_oldcore.py:1119: FutureWarning: use_inf_as_na option is deprecated and will be removed in a future version. Convert inf values to NaN before operating instead.\n",
      "  with pd.option_context('mode.use_inf_as_na', True):\n",
      "c:\\Users\\atrke\\AppData\\Local\\Programs\\Python\\Python39\\lib\\site-packages\\seaborn\\_oldcore.py:1119: FutureWarning: use_inf_as_na option is deprecated and will be removed in a future version. Convert inf values to NaN before operating instead.\n",
      "  with pd.option_context('mode.use_inf_as_na', True):\n",
      "c:\\Users\\atrke\\AppData\\Local\\Programs\\Python\\Python39\\lib\\site-packages\\seaborn\\_oldcore.py:1498: FutureWarning: is_categorical_dtype is deprecated and will be removed in a future version. Use isinstance(dtype, CategoricalDtype) instead\n",
      "  if pd.api.types.is_categorical_dtype(vector):\n",
      "c:\\Users\\atrke\\AppData\\Local\\Programs\\Python\\Python39\\lib\\site-packages\\seaborn\\_oldcore.py:1498: FutureWarning: is_categorical_dtype is deprecated and will be removed in a future version. Use isinstance(dtype, CategoricalDtype) instead\n",
      "  if pd.api.types.is_categorical_dtype(vector):\n",
      "c:\\Users\\atrke\\AppData\\Local\\Programs\\Python\\Python39\\lib\\site-packages\\seaborn\\_oldcore.py:1119: FutureWarning: use_inf_as_na option is deprecated and will be removed in a future version. Convert inf values to NaN before operating instead.\n",
      "  with pd.option_context('mode.use_inf_as_na', True):\n",
      "c:\\Users\\atrke\\AppData\\Local\\Programs\\Python\\Python39\\lib\\site-packages\\seaborn\\_oldcore.py:1119: FutureWarning: use_inf_as_na option is deprecated and will be removed in a future version. Convert inf values to NaN before operating instead.\n",
      "  with pd.option_context('mode.use_inf_as_na', True):\n"
     ]
    },
    {
     "data": {
      "image/png": "[encoded data removed]",
      "text/plain": [
       "<Figure size 640x480 with 1 Axes>"
      ]
     },
     "metadata": {},
     "output_type": "display_data"
    }
   ],
   "source": [
    "forecast_dates=[]\n",
    "for i in predict_12:\n",
    "    forecast_dates.append(i.date())\n",
    "    \n",
    "df_forecast=pd.DataFrame({'Date': forecast_dates,'total_visitor':y_pred_future})\n",
    "df_forecast['Date']=pd.to_datetime(df_forecast['Date'])\n",
    "\n",
    "actual=df[['datetime','total_visitor']]\n",
    "actual['datetime']=pd.to_datetime(actual['datetime'])\n",
    "actual=actual.loc[actual['datetime']>='2013-01-01']\n",
    "\n",
    "sns.lineplot(actual, x='datetime', y='total_visitor',label='actual')\n",
    "sns.lineplot(df_forecast,x='Date',y='total_visitor',label='forecast')\n",
    "\n",
    "plt.xlabel('Year')\n",
    "plt.ylabel('Total Visitor')\n",
    "plt.legend()\n",
    "plt.show()\n"
   ]
  },
  {
   "cell_type": "code",
   "execution_count": 71,
   "metadata": {},
   "outputs": [
    {
     "name": "stdout",
     "output_type": "stream",
     "text": [
      "╒═════════════════════╤══════════════╕\n",
      "│ Date                │   Prediction │\n",
      "╞═════════════════════╪══════════════╡\n",
      "│ 2023-01-01 00:00:00 │     213279   │\n",
      "├─────────────────────┼──────────────┤\n",
      "│ 2023-02-01 00:00:00 │     185160   │\n",
      "├─────────────────────┼──────────────┤\n",
      "│ 2023-03-01 00:00:00 │      67297.4 │\n",
      "├─────────────────────┼──────────────┤\n",
      "│ 2023-04-01 00:00:00 │     200449   │\n",
      "├─────────────────────┼──────────────┤\n",
      "│ 2023-05-01 00:00:00 │      44868.8 │\n",
      "├─────────────────────┼──────────────┤\n",
      "│ 2023-06-01 00:00:00 │     154576   │\n",
      "├─────────────────────┼──────────────┤\n",
      "│ 2023-07-01 00:00:00 │     156302   │\n",
      "├─────────────────────┼──────────────┤\n",
      "│ 2023-08-01 00:00:00 │     223514   │\n",
      "├─────────────────────┼──────────────┤\n",
      "│ 2023-09-01 00:00:00 │      44120.1 │\n",
      "├─────────────────────┼──────────────┤\n",
      "│ 2023-10-01 00:00:00 │     159051   │\n",
      "├─────────────────────┼──────────────┤\n",
      "│ 2023-11-01 00:00:00 │     157735   │\n",
      "├─────────────────────┼──────────────┤\n",
      "│ 2023-12-01 00:00:00 │      52629.4 │\n",
      "╘═════════════════════╧══════════════╛\n"
     ]
    }
   ],
   "source": [
    "forecast_dates_1=pd.date_range(start='2023-01-01', end='2023-12-01', freq='MS')\n",
    "\n",
    "data=list(zip(forecast_dates_1,y_pred_future))\n",
    "\n",
    "headers=['Date','Prediction']\n",
    "table=tabulate(data, headers=headers, tablefmt='fancy_grid')\n",
    "print(table)"
   ]
  }
 ],
 "metadata": {
  "kernelspec": {
   "display_name": "Python 3",
   "language": "python",
   "name": "python3"
  },
  "language_info": {
   "codemirror_mode": {
    "name": "ipython",
    "version": 3
   },
   "file_extension": ".py",
   "mimetype": "text/x-python",
   "name": "python",
   "nbconvert_exporter": "python",
   "pygments_lexer": "ipython3",
   "version": "3.9.12"
  }
 },
 "nbformat": 4,
 "nbformat_minor": 2
}
