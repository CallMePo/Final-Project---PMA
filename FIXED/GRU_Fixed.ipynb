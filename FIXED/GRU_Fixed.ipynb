{
 "cells": [
  {
   "cell_type": "code",
   "execution_count": 94,
   "metadata": {},
   "outputs": [],
   "source": [
    "import pandas as pd\n",
    "import numpy as np\n",
    "import matplotlib.pyplot as plt\n",
    "import tensorflow\n",
    "from sklearn.preprocessing import StandardScaler\n",
    "from sklearn.model_selection import train_test_split\n",
    "from sklearn.svm import SVR\n",
    "import seaborn as sns\n",
    "from sklearn.metrics import r2_score, mean_squared_error,mean_squared_log_error,mean_absolute_error, mean_absolute_percentage_error\n",
    "from tensorflow.keras.models import Sequential\n",
    "from keras.models import Sequential\n",
    "from keras.layers import GRU, Dense\n",
    "from tabulate import tabulate\n",
    "from keras.models import Sequential\n",
    "from sklearn.preprocessing import MinMaxScaler"
   ]
  },
  {
   "cell_type": "code",
   "execution_count": 95,
   "metadata": {},
   "outputs": [
    {
     "data": {
      "text/html": [
       "<div>\n",
       "<style scoped>\n",
       "    .dataframe tbody tr th:only-of-type {\n",
       "        vertical-align: middle;\n",
       "    }\n",
       "\n",
       "    .dataframe tbody tr th {\n",
       "        vertical-align: top;\n",
       "    }\n",
       "\n",
       "    .dataframe thead th {\n",
       "        text-align: right;\n",
       "    }\n",
       "</style>\n",
       "<table border=\"1\" class=\"dataframe\">\n",
       "  <thead>\n",
       "    <tr style=\"text-align: right;\">\n",
       "      <th></th>\n",
       "      <th>datetime</th>\n",
       "      <th>total_visitor</th>\n",
       "      <th>total_accomodation</th>\n",
       "    </tr>\n",
       "  </thead>\n",
       "  <tbody>\n",
       "    <tr>\n",
       "      <th>0</th>\n",
       "      <td>1/1/2014</td>\n",
       "      <td>164430</td>\n",
       "      <td>10055</td>\n",
       "    </tr>\n",
       "    <tr>\n",
       "      <th>1</th>\n",
       "      <td>2/1/2014</td>\n",
       "      <td>137055</td>\n",
       "      <td>10079</td>\n",
       "    </tr>\n",
       "    <tr>\n",
       "      <th>2</th>\n",
       "      <td>3/1/2014</td>\n",
       "      <td>167030</td>\n",
       "      <td>10132</td>\n",
       "    </tr>\n",
       "    <tr>\n",
       "      <th>3</th>\n",
       "      <td>4/1/2014</td>\n",
       "      <td>151982</td>\n",
       "      <td>10190</td>\n",
       "    </tr>\n",
       "    <tr>\n",
       "      <th>4</th>\n",
       "      <td>5/1/2014</td>\n",
       "      <td>154299</td>\n",
       "      <td>10274</td>\n",
       "    </tr>\n",
       "    <tr>\n",
       "      <th>...</th>\n",
       "      <td>...</td>\n",
       "      <td>...</td>\n",
       "      <td>...</td>\n",
       "    </tr>\n",
       "    <tr>\n",
       "      <th>103</th>\n",
       "      <td>8/1/2022</td>\n",
       "      <td>79470</td>\n",
       "      <td>15449</td>\n",
       "    </tr>\n",
       "    <tr>\n",
       "      <th>104</th>\n",
       "      <td>9/1/2022</td>\n",
       "      <td>104652</td>\n",
       "      <td>15502</td>\n",
       "    </tr>\n",
       "    <tr>\n",
       "      <th>105</th>\n",
       "      <td>10/1/2022</td>\n",
       "      <td>106160</td>\n",
       "      <td>15525</td>\n",
       "    </tr>\n",
       "    <tr>\n",
       "      <th>106</th>\n",
       "      <td>11/1/2022</td>\n",
       "      <td>103940</td>\n",
       "      <td>15612</td>\n",
       "    </tr>\n",
       "    <tr>\n",
       "      <th>107</th>\n",
       "      <td>12/1/2022</td>\n",
       "      <td>188544</td>\n",
       "      <td>16229</td>\n",
       "    </tr>\n",
       "  </tbody>\n",
       "</table>\n",
       "<p>108 rows × 3 columns</p>\n",
       "</div>"
      ],
      "text/plain": [
       "      datetime  total_visitor  total_accomodation\n",
       "0     1/1/2014         164430               10055\n",
       "1     2/1/2014         137055               10079\n",
       "2     3/1/2014         167030               10132\n",
       "3     4/1/2014         151982               10190\n",
       "4     5/1/2014         154299               10274\n",
       "..         ...            ...                 ...\n",
       "103   8/1/2022          79470               15449\n",
       "104   9/1/2022         104652               15502\n",
       "105  10/1/2022         106160               15525\n",
       "106  11/1/2022         103940               15612\n",
       "107  12/1/2022         188544               16229\n",
       "\n",
       "[108 rows x 3 columns]"
      ]
     },
     "execution_count": 95,
     "metadata": {},
     "output_type": "execute_result"
    }
   ],
   "source": [
    "url = 'https://raw.githubusercontent.com/CallMePo/Final-Project-PMA/master/KepRiau%202015%20-%202022.csv'\n",
    "df = pd.read_csv(url)\n",
    "df"
   ]
  },
  {
   "cell_type": "code",
   "execution_count": 96,
   "metadata": {},
   "outputs": [
    {
     "data": {
      "text/html": [
       "<div>\n",
       "<style scoped>\n",
       "    .dataframe tbody tr th:only-of-type {\n",
       "        vertical-align: middle;\n",
       "    }\n",
       "\n",
       "    .dataframe tbody tr th {\n",
       "        vertical-align: top;\n",
       "    }\n",
       "\n",
       "    .dataframe thead th {\n",
       "        text-align: right;\n",
       "    }\n",
       "</style>\n",
       "<table border=\"1\" class=\"dataframe\">\n",
       "  <thead>\n",
       "    <tr style=\"text-align: right;\">\n",
       "      <th></th>\n",
       "      <th>datetime</th>\n",
       "      <th>total_visitor</th>\n",
       "      <th>total_accomodation</th>\n",
       "    </tr>\n",
       "  </thead>\n",
       "  <tbody>\n",
       "    <tr>\n",
       "      <th>0</th>\n",
       "      <td>2014-01-01</td>\n",
       "      <td>164430</td>\n",
       "      <td>10055</td>\n",
       "    </tr>\n",
       "    <tr>\n",
       "      <th>1</th>\n",
       "      <td>2014-02-01</td>\n",
       "      <td>137055</td>\n",
       "      <td>10079</td>\n",
       "    </tr>\n",
       "    <tr>\n",
       "      <th>2</th>\n",
       "      <td>2014-03-01</td>\n",
       "      <td>167030</td>\n",
       "      <td>10132</td>\n",
       "    </tr>\n",
       "    <tr>\n",
       "      <th>3</th>\n",
       "      <td>2014-04-01</td>\n",
       "      <td>151982</td>\n",
       "      <td>10190</td>\n",
       "    </tr>\n",
       "    <tr>\n",
       "      <th>4</th>\n",
       "      <td>2014-05-01</td>\n",
       "      <td>154299</td>\n",
       "      <td>10274</td>\n",
       "    </tr>\n",
       "    <tr>\n",
       "      <th>...</th>\n",
       "      <td>...</td>\n",
       "      <td>...</td>\n",
       "      <td>...</td>\n",
       "    </tr>\n",
       "    <tr>\n",
       "      <th>103</th>\n",
       "      <td>2022-08-01</td>\n",
       "      <td>79470</td>\n",
       "      <td>15449</td>\n",
       "    </tr>\n",
       "    <tr>\n",
       "      <th>104</th>\n",
       "      <td>2022-09-01</td>\n",
       "      <td>104652</td>\n",
       "      <td>15502</td>\n",
       "    </tr>\n",
       "    <tr>\n",
       "      <th>105</th>\n",
       "      <td>2022-10-01</td>\n",
       "      <td>106160</td>\n",
       "      <td>15525</td>\n",
       "    </tr>\n",
       "    <tr>\n",
       "      <th>106</th>\n",
       "      <td>2022-11-01</td>\n",
       "      <td>103940</td>\n",
       "      <td>15612</td>\n",
       "    </tr>\n",
       "    <tr>\n",
       "      <th>107</th>\n",
       "      <td>2022-12-01</td>\n",
       "      <td>188544</td>\n",
       "      <td>16229</td>\n",
       "    </tr>\n",
       "  </tbody>\n",
       "</table>\n",
       "<p>108 rows × 3 columns</p>\n",
       "</div>"
      ],
      "text/plain": [
       "      datetime  total_visitor  total_accomodation\n",
       "0   2014-01-01         164430               10055\n",
       "1   2014-02-01         137055               10079\n",
       "2   2014-03-01         167030               10132\n",
       "3   2014-04-01         151982               10190\n",
       "4   2014-05-01         154299               10274\n",
       "..         ...            ...                 ...\n",
       "103 2022-08-01          79470               15449\n",
       "104 2022-09-01         104652               15502\n",
       "105 2022-10-01         106160               15525\n",
       "106 2022-11-01         103940               15612\n",
       "107 2022-12-01         188544               16229\n",
       "\n",
       "[108 rows x 3 columns]"
      ]
     },
     "execution_count": 96,
     "metadata": {},
     "output_type": "execute_result"
    }
   ],
   "source": [
    "df['datetime'] = pd.to_datetime(df['datetime'])\n",
    "train_datetime = pd.to_datetime(df['datetime'])\n",
    "df"
   ]
  },
  {
   "cell_type": "code",
   "execution_count": 97,
   "metadata": {},
   "outputs": [],
   "source": [
    "selected_columns = ['total_visitor','total_accomodation']\n",
    "data_train = df.loc[:, selected_columns].astype(float)"
   ]
  },
  {
   "cell_type": "code",
   "execution_count": 98,
   "metadata": {},
   "outputs": [],
   "source": [
    "scaler = MinMaxScaler()\n",
    "data_scaled = scaler.fit_transform(data_train)"
   ]
  },
  {
   "cell_type": "markdown",
   "metadata": {},
   "source": [
    "TEST SIZE 80 : 20"
   ]
  },
  {
   "cell_type": "code",
   "execution_count": 99,
   "metadata": {},
   "outputs": [],
   "source": [
    "n_future=1\n",
    "n_step=12\n",
    "\n",
    "X_train=[]\n",
    "y_train=[]\n",
    "for i in range (n_step, len(data_scaled)-n_future+1):\n",
    "    past_data = data_scaled[i-n_step:i, 0:data_scaled.shape[1]]\n",
    "    future_data=data_scaled[i+n_future - 1:i +n_future,0]\n",
    "    \n",
    "    X_train.append(past_data)\n",
    "    y_train.append(future_data)\n",
    "\n",
    "X_train=np.array(X_train)\n",
    "y_train=np.array(y_train)\n",
    "\n",
    "X_train, X_test, y_train, y_test=train_test_split(X_train,y_train, test_size=0.2, random_state=42)"
   ]
  },
  {
   "cell_type": "code",
   "execution_count": 100,
   "metadata": {},
   "outputs": [
    {
     "name": "stdout",
     "output_type": "stream",
     "text": [
      "(76, 12, 2)\n",
      "(76, 1)\n",
      "(20, 12, 2)\n",
      "(20, 1)\n"
     ]
    }
   ],
   "source": [
    "print(X_train.shape)\n",
    "print(y_train.shape)\n",
    "print(X_test.shape)\n",
    "print(y_test.shape)"
   ]
  },
  {
   "cell_type": "code",
   "execution_count": 101,
   "metadata": {},
   "outputs": [],
   "source": [
    "model=Sequential()\n",
    "model.add(GRU(64, activation='tanh', input_shape=(X_train.shape[1], X_train.shape[2])))\n",
    "model.add(Dense(y_train.shape[1]))"
   ]
  },
  {
   "cell_type": "code",
   "execution_count": 102,
   "metadata": {},
   "outputs": [
    {
     "name": "stdout",
     "output_type": "stream",
     "text": [
      "Model: \"sequential_7\"\n",
      "_________________________________________________________________\n",
      " Layer (type)                Output Shape              Param #   \n",
      "=================================================================\n",
      " gru_7 (GRU)                 (None, 64)                13056     \n",
      "                                                                 \n",
      " dense_7 (Dense)             (None, 1)                 65        \n",
      "                                                                 \n",
      "=================================================================\n",
      "Total params: 13121 (51.25 KB)\n",
      "Trainable params: 13121 (51.25 KB)\n",
      "Non-trainable params: 0 (0.00 Byte)\n",
      "_________________________________________________________________\n"
     ]
    }
   ],
   "source": [
    "model.summary()"
   ]
  },
  {
   "cell_type": "code",
   "execution_count": 103,
   "metadata": {},
   "outputs": [],
   "source": [
    "model.compile(optimizer='adam', loss='mean_squared_error')"
   ]
  },
  {
   "cell_type": "code",
   "execution_count": 104,
   "metadata": {},
   "outputs": [
    {
     "name": "stdout",
     "output_type": "stream",
     "text": [
      "Epoch 1/100\n"
     ]
    },
    {
     "name": "stdout",
     "output_type": "stream",
     "text": [
      "3/3 [==============================] - 2s 6ms/step - loss: 0.3466\n",
      "Epoch 2/100\n",
      "3/3 [==============================] - 0s 6ms/step - loss: 0.2242\n",
      "Epoch 3/100\n",
      "3/3 [==============================] - 0s 7ms/step - loss: 0.1444\n",
      "Epoch 4/100\n",
      "3/3 [==============================] - 0s 6ms/step - loss: 0.0979\n",
      "Epoch 5/100\n",
      "3/3 [==============================] - 0s 6ms/step - loss: 0.0748\n",
      "Epoch 6/100\n",
      "3/3 [==============================] - 0s 6ms/step - loss: 0.0668\n",
      "Epoch 7/100\n",
      "3/3 [==============================] - 0s 6ms/step - loss: 0.0601\n",
      "Epoch 8/100\n",
      "3/3 [==============================] - 0s 6ms/step - loss: 0.0502\n",
      "Epoch 9/100\n",
      "3/3 [==============================] - 0s 6ms/step - loss: 0.0388\n",
      "Epoch 10/100\n",
      "3/3 [==============================] - 0s 6ms/step - loss: 0.0309\n",
      "Epoch 11/100\n",
      "3/3 [==============================] - 0s 6ms/step - loss: 0.0268\n",
      "Epoch 12/100\n",
      "3/3 [==============================] - 0s 6ms/step - loss: 0.0247\n",
      "Epoch 13/100\n",
      "3/3 [==============================] - 0s 7ms/step - loss: 0.0223\n",
      "Epoch 14/100\n",
      "3/3 [==============================] - 0s 6ms/step - loss: 0.0206\n",
      "Epoch 15/100\n",
      "3/3 [==============================] - 0s 6ms/step - loss: 0.0204\n",
      "Epoch 16/100\n",
      "3/3 [==============================] - 0s 7ms/step - loss: 0.0208\n",
      "Epoch 17/100\n",
      "3/3 [==============================] - 0s 6ms/step - loss: 0.0204\n",
      "Epoch 18/100\n",
      "3/3 [==============================] - 0s 6ms/step - loss: 0.0197\n",
      "Epoch 19/100\n",
      "3/3 [==============================] - 0s 6ms/step - loss: 0.0194\n",
      "Epoch 20/100\n",
      "3/3 [==============================] - 0s 6ms/step - loss: 0.0191\n",
      "Epoch 21/100\n",
      "3/3 [==============================] - 0s 6ms/step - loss: 0.0188\n",
      "Epoch 22/100\n",
      "3/3 [==============================] - 0s 6ms/step - loss: 0.0184\n",
      "Epoch 23/100\n",
      "3/3 [==============================] - 0s 7ms/step - loss: 0.0184\n",
      "Epoch 24/100\n",
      "3/3 [==============================] - 0s 6ms/step - loss: 0.0181\n",
      "Epoch 25/100\n",
      "3/3 [==============================] - 0s 6ms/step - loss: 0.0181\n",
      "Epoch 26/100\n",
      "3/3 [==============================] - 0s 6ms/step - loss: 0.0177\n",
      "Epoch 27/100\n",
      "3/3 [==============================] - 0s 7ms/step - loss: 0.0175\n",
      "Epoch 28/100\n",
      "3/3 [==============================] - 0s 7ms/step - loss: 0.0172\n",
      "Epoch 29/100\n",
      "3/3 [==============================] - 0s 6ms/step - loss: 0.0170\n",
      "Epoch 30/100\n",
      "3/3 [==============================] - 0s 7ms/step - loss: 0.0171\n",
      "Epoch 31/100\n",
      "3/3 [==============================] - 0s 7ms/step - loss: 0.0171\n",
      "Epoch 32/100\n",
      "3/3 [==============================] - 0s 7ms/step - loss: 0.0168\n",
      "Epoch 33/100\n",
      "3/3 [==============================] - 0s 7ms/step - loss: 0.0166\n",
      "Epoch 34/100\n",
      "3/3 [==============================] - 0s 8ms/step - loss: 0.0165\n",
      "Epoch 35/100\n",
      "3/3 [==============================] - 0s 7ms/step - loss: 0.0163\n",
      "Epoch 36/100\n",
      "3/3 [==============================] - 0s 6ms/step - loss: 0.0161\n",
      "Epoch 37/100\n",
      "3/3 [==============================] - 0s 6ms/step - loss: 0.0159\n",
      "Epoch 38/100\n",
      "3/3 [==============================] - 0s 6ms/step - loss: 0.0161\n",
      "Epoch 39/100\n",
      "3/3 [==============================] - 0s 6ms/step - loss: 0.0158\n",
      "Epoch 40/100\n",
      "3/3 [==============================] - 0s 6ms/step - loss: 0.0156\n",
      "Epoch 41/100\n",
      "3/3 [==============================] - 0s 6ms/step - loss: 0.0155\n",
      "Epoch 42/100\n",
      "3/3 [==============================] - 0s 6ms/step - loss: 0.0154\n",
      "Epoch 43/100\n",
      "3/3 [==============================] - 0s 6ms/step - loss: 0.0153\n",
      "Epoch 44/100\n",
      "3/3 [==============================] - 0s 7ms/step - loss: 0.0152\n",
      "Epoch 45/100\n",
      "3/3 [==============================] - 0s 8ms/step - loss: 0.0151\n",
      "Epoch 46/100\n",
      "3/3 [==============================] - 0s 7ms/step - loss: 0.0150\n",
      "Epoch 47/100\n",
      "3/3 [==============================] - 0s 7ms/step - loss: 0.0150\n",
      "Epoch 48/100\n",
      "3/3 [==============================] - 0s 8ms/step - loss: 0.0149\n",
      "Epoch 49/100\n",
      "3/3 [==============================] - 0s 7ms/step - loss: 0.0150\n",
      "Epoch 50/100\n",
      "3/3 [==============================] - 0s 8ms/step - loss: 0.0150\n",
      "Epoch 51/100\n",
      "3/3 [==============================] - 0s 6ms/step - loss: 0.0145\n",
      "Epoch 52/100\n",
      "3/3 [==============================] - 0s 6ms/step - loss: 0.0143\n",
      "Epoch 53/100\n",
      "3/3 [==============================] - 0s 9ms/step - loss: 0.0143\n",
      "Epoch 54/100\n",
      "3/3 [==============================] - 0s 8ms/step - loss: 0.0144\n",
      "Epoch 55/100\n",
      "3/3 [==============================] - 0s 9ms/step - loss: 0.0143\n",
      "Epoch 56/100\n",
      "3/3 [==============================] - 0s 7ms/step - loss: 0.0141\n",
      "Epoch 57/100\n",
      "3/3 [==============================] - 0s 8ms/step - loss: 0.0142\n",
      "Epoch 58/100\n",
      "3/3 [==============================] - 0s 7ms/step - loss: 0.0140\n",
      "Epoch 59/100\n",
      "3/3 [==============================] - 0s 7ms/step - loss: 0.0139\n",
      "Epoch 60/100\n",
      "3/3 [==============================] - 0s 7ms/step - loss: 0.0137\n",
      "Epoch 61/100\n",
      "3/3 [==============================] - 0s 9ms/step - loss: 0.0137\n",
      "Epoch 62/100\n",
      "3/3 [==============================] - 0s 7ms/step - loss: 0.0138\n",
      "Epoch 63/100\n",
      "3/3 [==============================] - 0s 8ms/step - loss: 0.0138\n",
      "Epoch 64/100\n",
      "3/3 [==============================] - 0s 8ms/step - loss: 0.0136\n",
      "Epoch 65/100\n",
      "3/3 [==============================] - 0s 7ms/step - loss: 0.0135\n",
      "Epoch 66/100\n",
      "3/3 [==============================] - 0s 8ms/step - loss: 0.0134\n",
      "Epoch 67/100\n",
      "3/3 [==============================] - 0s 6ms/step - loss: 0.0135\n",
      "Epoch 68/100\n",
      "3/3 [==============================] - 0s 7ms/step - loss: 0.0135\n",
      "Epoch 69/100\n",
      "3/3 [==============================] - 0s 6ms/step - loss: 0.0137\n",
      "Epoch 70/100\n",
      "3/3 [==============================] - 0s 7ms/step - loss: 0.0135\n",
      "Epoch 71/100\n",
      "3/3 [==============================] - 0s 6ms/step - loss: 0.0133\n",
      "Epoch 72/100\n",
      "3/3 [==============================] - 0s 6ms/step - loss: 0.0134\n",
      "Epoch 73/100\n",
      "3/3 [==============================] - 0s 6ms/step - loss: 0.0130\n",
      "Epoch 74/100\n",
      "3/3 [==============================] - 0s 9ms/step - loss: 0.0130\n",
      "Epoch 75/100\n",
      "3/3 [==============================] - 0s 7ms/step - loss: 0.0133\n",
      "Epoch 76/100\n",
      "3/3 [==============================] - 0s 7ms/step - loss: 0.0131\n",
      "Epoch 77/100\n",
      "3/3 [==============================] - 0s 9ms/step - loss: 0.0131\n",
      "Epoch 78/100\n",
      "3/3 [==============================] - 0s 9ms/step - loss: 0.0131\n",
      "Epoch 79/100\n",
      "3/3 [==============================] - 0s 9ms/step - loss: 0.0135\n",
      "Epoch 80/100\n",
      "3/3 [==============================] - 0s 9ms/step - loss: 0.0134\n",
      "Epoch 81/100\n",
      "3/3 [==============================] - 0s 7ms/step - loss: 0.0131\n",
      "Epoch 82/100\n",
      "3/3 [==============================] - 0s 7ms/step - loss: 0.0128\n",
      "Epoch 83/100\n",
      "3/3 [==============================] - 0s 7ms/step - loss: 0.0129\n",
      "Epoch 84/100\n",
      "3/3 [==============================] - 0s 7ms/step - loss: 0.0128\n",
      "Epoch 85/100\n",
      "3/3 [==============================] - 0s 6ms/step - loss: 0.0128\n",
      "Epoch 86/100\n",
      "3/3 [==============================] - 0s 6ms/step - loss: 0.0128\n",
      "Epoch 87/100\n",
      "3/3 [==============================] - 0s 6ms/step - loss: 0.0127\n",
      "Epoch 88/100\n",
      "3/3 [==============================] - 0s 6ms/step - loss: 0.0126\n",
      "Epoch 89/100\n",
      "3/3 [==============================] - 0s 7ms/step - loss: 0.0126\n",
      "Epoch 90/100\n",
      "3/3 [==============================] - 0s 8ms/step - loss: 0.0126\n",
      "Epoch 91/100\n",
      "3/3 [==============================] - 0s 7ms/step - loss: 0.0126\n",
      "Epoch 92/100\n",
      "3/3 [==============================] - 0s 8ms/step - loss: 0.0126\n",
      "Epoch 93/100\n",
      "3/3 [==============================] - 0s 7ms/step - loss: 0.0125\n",
      "Epoch 94/100\n",
      "3/3 [==============================] - 0s 10ms/step - loss: 0.0126\n",
      "Epoch 95/100\n",
      "3/3 [==============================] - 0s 8ms/step - loss: 0.0126\n",
      "Epoch 96/100\n",
      "3/3 [==============================] - 0s 7ms/step - loss: 0.0125\n",
      "Epoch 97/100\n",
      "3/3 [==============================] - 0s 7ms/step - loss: 0.0127\n",
      "Epoch 98/100\n",
      "3/3 [==============================] - 0s 6ms/step - loss: 0.0126\n",
      "Epoch 99/100\n",
      "3/3 [==============================] - 0s 6ms/step - loss: 0.0126\n",
      "Epoch 100/100\n",
      "3/3 [==============================] - 0s 6ms/step - loss: 0.0125\n"
     ]
    }
   ],
   "source": [
    "history=model.fit(X_train,y_train, epochs=100, batch_size=32, verbose=1)"
   ]
  },
  {
   "cell_type": "code",
   "execution_count": 105,
   "metadata": {},
   "outputs": [
    {
     "data": {
      "text/plain": [
       "[<matplotlib.lines.Line2D at 0x275ce851e90>]"
      ]
     },
     "execution_count": 105,
     "metadata": {},
     "output_type": "execute_result"
    },
    {
     "data": {
      "image/png": "[encoded data removed]",
      "text/plain": [
       "<Figure size 640x480 with 1 Axes>"
      ]
     },
     "metadata": {},
     "output_type": "display_data"
    }
   ],
   "source": [
    "plt.plot(history.history['loss'])"
   ]
  },
  {
   "cell_type": "code",
   "execution_count": 106,
   "metadata": {},
   "outputs": [
    {
     "name": "stdout",
     "output_type": "stream",
     "text": [
      "[Timestamp('2022-12-31 00:00:00'), Timestamp('2023-01-31 00:00:00'), Timestamp('2023-02-28 00:00:00'), Timestamp('2023-03-31 00:00:00'), Timestamp('2023-04-30 00:00:00'), Timestamp('2023-05-31 00:00:00'), Timestamp('2023-06-30 00:00:00'), Timestamp('2023-07-31 00:00:00'), Timestamp('2023-08-31 00:00:00'), Timestamp('2023-09-30 00:00:00'), Timestamp('2023-10-31 00:00:00'), Timestamp('2023-11-30 00:00:00')]\n"
     ]
    }
   ],
   "source": [
    "n_past=1\n",
    "n_pred=12\n",
    "last_date=list(train_datetime)[-n_past]\n",
    "\n",
    "predict_12=pd.date_range(last_date, periods=n_pred, freq='M').tolist()\n",
    "print(predict_12)"
   ]
  },
  {
   "cell_type": "code",
   "execution_count": 107,
   "metadata": {},
   "outputs": [
    {
     "name": "stdout",
     "output_type": "stream",
     "text": [
      "1/1 [==============================] - 0s 481ms/step\n",
      "mse: 0.006496278388047325\n",
      "rmse 0.08059949372078788\n",
      "MAPE: 6.10%\n",
      "mae 0.06281785122371655\n"
     ]
    }
   ],
   "source": [
    "from sklearn.metrics import mean_absolute_error\n",
    "\n",
    "prediction=model.predict(X_test[-n_pred:])\n",
    "\n",
    "mse=mean_squared_error(y_test[-n_pred:],prediction)\n",
    "rmse=np.sqrt(mse)\n",
    "mape=mean_absolute_percentage_error(y_test[-n_pred:],prediction)\n",
    "mae=mean_absolute_error(y_test[-n_pred:], prediction)\n",
    "\n",
    "print(\"mse:\",mse)\n",
    "print(\"rmse\",rmse)\n",
    "print(\"MAPE:\", f\"{mape:.2f}%\")\n",
    "print(\"mae\",mae)"
   ]
  },
  {
   "cell_type": "code",
   "execution_count": 108,
   "metadata": {},
   "outputs": [],
   "source": [
    "prediction_copy = np.repeat(prediction, data_train.shape[1], axis=-1)\n",
    "y_pred_future = scaler.inverse_transform(prediction_copy)[:, 0]"
   ]
  },
  {
   "cell_type": "code",
   "execution_count": 109,
   "metadata": {},
   "outputs": [
    {
     "name": "stderr",
     "output_type": "stream",
     "text": [
      "C:\\Users\\ilham\\AppData\\Local\\Temp\\ipykernel_2212\\1499544800.py:9: SettingWithCopyWarning: \n",
      "A value is trying to be set on a copy of a slice from a DataFrame.\n",
      "Try using .loc[row_indexer,col_indexer] = value instead\n",
      "\n",
      "See the caveats in the documentation: https://pandas.pydata.org/pandas-docs/stable/user_guide/indexing.html#returning-a-view-versus-a-copy\n",
      "  actual['datetime']=pd.to_datetime(actual['datetime'])\n"
     ]
    },
    {
     "data": {
      "image/png": "[encoded data removed]",
      "text/plain": [
       "<Figure size 640x480 with 1 Axes>"
      ]
     },
     "metadata": {},
     "output_type": "display_data"
    }
   ],
   "source": [
    "forecast_dates=[]\n",
    "for i in predict_12:\n",
    "    forecast_dates.append(i.date())\n",
    "    \n",
    "df_forecast=pd.DataFrame({'Date': forecast_dates,'total_visitor':y_pred_future})\n",
    "df_forecast['Date']=pd.to_datetime(df_forecast['Date'])\n",
    "\n",
    "actual=df[['datetime','total_visitor']]\n",
    "actual['datetime']=pd.to_datetime(actual['datetime'])\n",
    "actual=actual.loc[actual['datetime']>='2013-01-01']\n",
    "\n",
    "sns.lineplot(actual, x='datetime', y='total_visitor',label='actual')\n",
    "sns.lineplot(df_forecast,x='Date',y='total_visitor',label='forecast')\n",
    "\n",
    "plt.xlabel('Year')\n",
    "plt.ylabel('Total Visitor')\n",
    "plt.legend()\n",
    "plt.show()\n"
   ]
  },
  {
   "cell_type": "code",
   "execution_count": 110,
   "metadata": {},
   "outputs": [
    {
     "name": "stdout",
     "output_type": "stream",
     "text": [
      "╒═════════════════════╤══════════════╕\n",
      "│ Date                │   Prediction │\n",
      "╞═════════════════════╪══════════════╡\n",
      "│ 2023-01-01 00:00:00 │     189058   │\n",
      "├─────────────────────┼──────────────┤\n",
      "│ 2023-02-01 00:00:00 │     163869   │\n",
      "├─────────────────────┼──────────────┤\n",
      "│ 2023-03-01 00:00:00 │      22055.1 │\n",
      "├─────────────────────┼──────────────┤\n",
      "│ 2023-04-01 00:00:00 │     171621   │\n",
      "├─────────────────────┼──────────────┤\n",
      "│ 2023-05-01 00:00:00 │     168687   │\n",
      "├─────────────────────┼──────────────┤\n",
      "│ 2023-06-01 00:00:00 │     168620   │\n",
      "├─────────────────────┼──────────────┤\n",
      "│ 2023-07-01 00:00:00 │     172083   │\n",
      "├─────────────────────┼──────────────┤\n",
      "│ 2023-08-01 00:00:00 │     169628   │\n",
      "├─────────────────────┼──────────────┤\n",
      "│ 2023-09-01 00:00:00 │     184192   │\n",
      "├─────────────────────┼──────────────┤\n",
      "│ 2023-10-01 00:00:00 │     150701   │\n",
      "├─────────────────────┼──────────────┤\n",
      "│ 2023-11-01 00:00:00 │     216592   │\n",
      "├─────────────────────┼──────────────┤\n",
      "│ 2023-12-01 00:00:00 │      13499.5 │\n",
      "╘═════════════════════╧══════════════╛\n"
     ]
    }
   ],
   "source": [
    "forecast_dates_1=pd.date_range(start='2023-01-01', end='2023-12-01', freq='MS')\n",
    "\n",
    "data=list(zip(forecast_dates_1,y_pred_future))\n",
    "\n",
    "headers=['Date','Prediction']\n",
    "table=tabulate(data, headers=headers, tablefmt='fancy_grid')\n",
    "print(table)"
   ]
  },
  {
   "cell_type": "markdown",
   "metadata": {},
   "source": [
    "TEST SIZE 70 : 30"
   ]
  },
  {
   "cell_type": "code",
   "execution_count": 111,
   "metadata": {},
   "outputs": [],
   "source": [
    "n_future=1\n",
    "n_step=12\n",
    "\n",
    "X_train=[]\n",
    "y_train=[]\n",
    "for i in range (n_step, len(data_scaled)-n_future+1):\n",
    "    past_data = data_scaled[i-n_step:i, 0:data_scaled.shape[1]]\n",
    "    future_data=data_scaled[i+n_future - 1:i +n_future,0]\n",
    "    \n",
    "    X_train.append(past_data)\n",
    "    y_train.append(future_data)\n",
    "\n",
    "X_train=np.array(X_train)\n",
    "y_train=np.array(y_train)\n",
    "\n",
    "X_train, X_test, y_train, y_test=train_test_split(X_train,y_train, test_size=0.3, random_state=42)"
   ]
  },
  {
   "cell_type": "code",
   "execution_count": 112,
   "metadata": {},
   "outputs": [
    {
     "name": "stdout",
     "output_type": "stream",
     "text": [
      "(67, 12, 2)\n",
      "(67, 1)\n",
      "(29, 12, 2)\n",
      "(29, 1)\n"
     ]
    }
   ],
   "source": [
    "print(X_train.shape)\n",
    "print(y_train.shape)\n",
    "print(X_test.shape)\n",
    "print(y_test.shape)"
   ]
  },
  {
   "cell_type": "code",
   "execution_count": 113,
   "metadata": {},
   "outputs": [
    {
     "name": "stdout",
     "output_type": "stream",
     "text": [
      "Model: \"sequential_8\"\n",
      "_________________________________________________________________\n",
      " Layer (type)                Output Shape              Param #   \n",
      "=================================================================\n",
      " gru_8 (GRU)                 (None, 64)                13056     \n",
      "                                                                 \n",
      " dense_8 (Dense)             (None, 1)                 65        \n",
      "                                                                 \n",
      "=================================================================\n",
      "Total params: 13121 (51.25 KB)\n",
      "Trainable params: 13121 (51.25 KB)\n",
      "Non-trainable params: 0 (0.00 Byte)\n",
      "_________________________________________________________________\n"
     ]
    }
   ],
   "source": [
    "model=Sequential()\n",
    "model.add(GRU(64, activation='tanh', input_shape=(X_train.shape[1], X_train.shape[2])))\n",
    "model.add(Dense(y_train.shape[1]))\n",
    "model.summary()"
   ]
  },
  {
   "cell_type": "code",
   "execution_count": 114,
   "metadata": {},
   "outputs": [],
   "source": [
    "model.compile(optimizer='adam', loss='mean_squared_error')"
   ]
  },
  {
   "cell_type": "code",
   "execution_count": 115,
   "metadata": {},
   "outputs": [
    {
     "name": "stdout",
     "output_type": "stream",
     "text": [
      "Epoch 1/100\n",
      "3/3 [==============================] - 4s 7ms/step - loss: 0.2829\n",
      "Epoch 2/100\n",
      "3/3 [==============================] - 0s 6ms/step - loss: 0.1703\n",
      "Epoch 3/100\n",
      "3/3 [==============================] - 0s 6ms/step - loss: 0.1057\n",
      "Epoch 4/100\n",
      "3/3 [==============================] - 0s 7ms/step - loss: 0.0752\n",
      "Epoch 5/100\n",
      "3/3 [==============================] - 0s 6ms/step - loss: 0.0637\n",
      "Epoch 6/100\n",
      "3/3 [==============================] - 0s 5ms/step - loss: 0.0591\n",
      "Epoch 7/100\n",
      "3/3 [==============================] - 0s 6ms/step - loss: 0.0550\n",
      "Epoch 8/100\n",
      "3/3 [==============================] - 0s 6ms/step - loss: 0.0498\n",
      "Epoch 9/100\n",
      "3/3 [==============================] - 0s 6ms/step - loss: 0.0411\n",
      "Epoch 10/100\n",
      "3/3 [==============================] - 0s 7ms/step - loss: 0.0326\n",
      "Epoch 11/100\n",
      "3/3 [==============================] - 0s 8ms/step - loss: 0.0271\n",
      "Epoch 12/100\n",
      "3/3 [==============================] - 0s 7ms/step - loss: 0.0258\n",
      "Epoch 13/100\n",
      "3/3 [==============================] - 0s 7ms/step - loss: 0.0253\n",
      "Epoch 14/100\n",
      "3/3 [==============================] - 0s 8ms/step - loss: 0.0237\n",
      "Epoch 15/100\n",
      "3/3 [==============================] - 0s 8ms/step - loss: 0.0215\n",
      "Epoch 16/100\n",
      "3/3 [==============================] - 0s 8ms/step - loss: 0.0207\n",
      "Epoch 17/100\n",
      "3/3 [==============================] - 0s 6ms/step - loss: 0.0210\n",
      "Epoch 18/100\n",
      "3/3 [==============================] - 0s 6ms/step - loss: 0.0209\n",
      "Epoch 19/100\n",
      "3/3 [==============================] - 0s 6ms/step - loss: 0.0202\n",
      "Epoch 20/100\n",
      "3/3 [==============================] - 0s 9ms/step - loss: 0.0204\n",
      "Epoch 21/100\n",
      "3/3 [==============================] - 0s 7ms/step - loss: 0.0212\n",
      "Epoch 22/100\n",
      "3/3 [==============================] - 0s 7ms/step - loss: 0.0233\n",
      "Epoch 23/100\n",
      "3/3 [==============================] - 0s 7ms/step - loss: 0.0236\n",
      "Epoch 24/100\n",
      "3/3 [==============================] - 0s 6ms/step - loss: 0.0217\n",
      "Epoch 25/100\n",
      "3/3 [==============================] - 0s 6ms/step - loss: 0.0193\n",
      "Epoch 26/100\n",
      "3/3 [==============================] - 0s 7ms/step - loss: 0.0188\n",
      "Epoch 27/100\n",
      "3/3 [==============================] - 0s 6ms/step - loss: 0.0193\n",
      "Epoch 28/100\n",
      "3/3 [==============================] - 0s 7ms/step - loss: 0.0188\n",
      "Epoch 29/100\n",
      "3/3 [==============================] - 0s 6ms/step - loss: 0.0183\n",
      "Epoch 30/100\n",
      "3/3 [==============================] - 0s 6ms/step - loss: 0.0197\n",
      "Epoch 31/100\n",
      "3/3 [==============================] - 0s 6ms/step - loss: 0.0207\n",
      "Epoch 32/100\n",
      "3/3 [==============================] - 0s 7ms/step - loss: 0.0198\n",
      "Epoch 33/100\n",
      "3/3 [==============================] - 0s 7ms/step - loss: 0.0182\n",
      "Epoch 34/100\n",
      "3/3 [==============================] - 0s 7ms/step - loss: 0.0179\n",
      "Epoch 35/100\n",
      "3/3 [==============================] - 0s 7ms/step - loss: 0.0178\n",
      "Epoch 36/100\n",
      "3/3 [==============================] - 0s 6ms/step - loss: 0.0181\n",
      "Epoch 37/100\n",
      "3/3 [==============================] - 0s 5ms/step - loss: 0.0180\n",
      "Epoch 38/100\n",
      "3/3 [==============================] - 0s 6ms/step - loss: 0.0175\n",
      "Epoch 39/100\n",
      "3/3 [==============================] - 0s 6ms/step - loss: 0.0170\n",
      "Epoch 40/100\n",
      "3/3 [==============================] - 0s 7ms/step - loss: 0.0180\n",
      "Epoch 41/100\n",
      "3/3 [==============================] - 0s 5ms/step - loss: 0.0197\n",
      "Epoch 42/100\n",
      "3/3 [==============================] - 0s 6ms/step - loss: 0.0209\n",
      "Epoch 43/100\n",
      "3/3 [==============================] - 0s 7ms/step - loss: 0.0198\n",
      "Epoch 44/100\n",
      "3/3 [==============================] - 0s 6ms/step - loss: 0.0172\n",
      "Epoch 45/100\n",
      "3/3 [==============================] - 0s 6ms/step - loss: 0.0169\n",
      "Epoch 46/100\n",
      "3/3 [==============================] - 0s 6ms/step - loss: 0.0178\n",
      "Epoch 47/100\n",
      "3/3 [==============================] - 0s 6ms/step - loss: 0.0178\n",
      "Epoch 48/100\n",
      "3/3 [==============================] - 0s 6ms/step - loss: 0.0170\n",
      "Epoch 49/100\n",
      "3/3 [==============================] - 0s 5ms/step - loss: 0.0163\n",
      "Epoch 50/100\n",
      "3/3 [==============================] - 0s 7ms/step - loss: 0.0160\n",
      "Epoch 51/100\n",
      "3/3 [==============================] - 0s 6ms/step - loss: 0.0165\n",
      "Epoch 52/100\n",
      "3/3 [==============================] - 0s 6ms/step - loss: 0.0164\n",
      "Epoch 53/100\n",
      "3/3 [==============================] - 0s 6ms/step - loss: 0.0163\n",
      "Epoch 54/100\n",
      "3/3 [==============================] - 0s 6ms/step - loss: 0.0160\n",
      "Epoch 55/100\n",
      "3/3 [==============================] - 0s 5ms/step - loss: 0.0157\n",
      "Epoch 56/100\n",
      "3/3 [==============================] - 0s 6ms/step - loss: 0.0157\n",
      "Epoch 57/100\n",
      "3/3 [==============================] - 0s 6ms/step - loss: 0.0155\n",
      "Epoch 58/100\n",
      "3/3 [==============================] - 0s 6ms/step - loss: 0.0154\n",
      "Epoch 59/100\n",
      "3/3 [==============================] - 0s 6ms/step - loss: 0.0164\n",
      "Epoch 60/100\n",
      "3/3 [==============================] - 0s 7ms/step - loss: 0.0165\n",
      "Epoch 61/100\n",
      "3/3 [==============================] - 0s 7ms/step - loss: 0.0159\n",
      "Epoch 62/100\n",
      "3/3 [==============================] - 0s 7ms/step - loss: 0.0153\n",
      "Epoch 63/100\n",
      "3/3 [==============================] - 0s 8ms/step - loss: 0.0160\n",
      "Epoch 64/100\n",
      "3/3 [==============================] - 0s 8ms/step - loss: 0.0161\n",
      "Epoch 65/100\n",
      "3/3 [==============================] - 0s 7ms/step - loss: 0.0149\n",
      "Epoch 66/100\n",
      "3/3 [==============================] - 0s 7ms/step - loss: 0.0148\n",
      "Epoch 67/100\n",
      "3/3 [==============================] - 0s 6ms/step - loss: 0.0149\n",
      "Epoch 68/100\n",
      "3/3 [==============================] - 0s 6ms/step - loss: 0.0147\n",
      "Epoch 69/100\n",
      "3/3 [==============================] - 0s 7ms/step - loss: 0.0147\n",
      "Epoch 70/100\n",
      "3/3 [==============================] - 0s 7ms/step - loss: 0.0148\n",
      "Epoch 71/100\n",
      "3/3 [==============================] - 0s 7ms/step - loss: 0.0147\n",
      "Epoch 72/100\n",
      "3/3 [==============================] - 0s 7ms/step - loss: 0.0146\n",
      "Epoch 73/100\n",
      "3/3 [==============================] - 0s 7ms/step - loss: 0.0149\n",
      "Epoch 74/100\n",
      "3/3 [==============================] - 0s 7ms/step - loss: 0.0153\n",
      "Epoch 75/100\n",
      "3/3 [==============================] - 0s 7ms/step - loss: 0.0151\n",
      "Epoch 76/100\n",
      "3/3 [==============================] - 0s 6ms/step - loss: 0.0146\n",
      "Epoch 77/100\n",
      "3/3 [==============================] - 0s 6ms/step - loss: 0.0145\n",
      "Epoch 78/100\n",
      "3/3 [==============================] - 0s 6ms/step - loss: 0.0150\n",
      "Epoch 79/100\n",
      "3/3 [==============================] - 0s 6ms/step - loss: 0.0145\n",
      "Epoch 80/100\n",
      "3/3 [==============================] - 0s 6ms/step - loss: 0.0159\n",
      "Epoch 81/100\n",
      "3/3 [==============================] - 0s 6ms/step - loss: 0.0169\n",
      "Epoch 82/100\n",
      "3/3 [==============================] - 0s 6ms/step - loss: 0.0153\n",
      "Epoch 83/100\n",
      "3/3 [==============================] - 0s 6ms/step - loss: 0.0140\n",
      "Epoch 84/100\n",
      "3/3 [==============================] - 0s 7ms/step - loss: 0.0147\n",
      "Epoch 85/100\n",
      "3/3 [==============================] - 0s 6ms/step - loss: 0.0147\n",
      "Epoch 86/100\n",
      "3/3 [==============================] - 0s 5ms/step - loss: 0.0141\n",
      "Epoch 87/100\n",
      "3/3 [==============================] - 0s 6ms/step - loss: 0.0144\n",
      "Epoch 88/100\n",
      "3/3 [==============================] - 0s 6ms/step - loss: 0.0140\n",
      "Epoch 89/100\n",
      "3/3 [==============================] - 0s 6ms/step - loss: 0.0152\n",
      "Epoch 90/100\n",
      "3/3 [==============================] - 0s 6ms/step - loss: 0.0152\n",
      "Epoch 91/100\n",
      "3/3 [==============================] - 0s 7ms/step - loss: 0.0140\n",
      "Epoch 92/100\n",
      "3/3 [==============================] - 0s 5ms/step - loss: 0.0142\n",
      "Epoch 93/100\n",
      "3/3 [==============================] - 0s 6ms/step - loss: 0.0155\n",
      "Epoch 94/100\n",
      "3/3 [==============================] - 0s 6ms/step - loss: 0.0170\n",
      "Epoch 95/100\n",
      "3/3 [==============================] - 0s 6ms/step - loss: 0.0153\n",
      "Epoch 96/100\n",
      "3/3 [==============================] - 0s 9ms/step - loss: 0.0137\n",
      "Epoch 97/100\n",
      "3/3 [==============================] - 0s 6ms/step - loss: 0.0158\n",
      "Epoch 98/100\n",
      "3/3 [==============================] - 0s 7ms/step - loss: 0.0183\n",
      "Epoch 99/100\n",
      "3/3 [==============================] - 0s 7ms/step - loss: 0.0163\n",
      "Epoch 100/100\n",
      "3/3 [==============================] - 0s 6ms/step - loss: 0.0135\n"
     ]
    }
   ],
   "source": [
    "history=model.fit(X_train,y_train, epochs=100, batch_size=32, verbose=1)"
   ]
  },
  {
   "cell_type": "code",
   "execution_count": 116,
   "metadata": {},
   "outputs": [
    {
     "data": {
      "text/plain": [
       "[<matplotlib.lines.Line2D at 0x275cda61e90>]"
      ]
     },
     "execution_count": 116,
     "metadata": {},
     "output_type": "execute_result"
    },
    {
     "data": {
      "image/png": "[encoded data removed]",
      "text/plain": [
       "<Figure size 640x480 with 1 Axes>"
      ]
     },
     "metadata": {},
     "output_type": "display_data"
    }
   ],
   "source": [
    "plt.plot(history.history['loss'])"
   ]
  },
  {
   "cell_type": "code",
   "execution_count": 117,
   "metadata": {},
   "outputs": [
    {
     "name": "stdout",
     "output_type": "stream",
     "text": [
      "[Timestamp('2022-12-31 00:00:00'), Timestamp('2023-01-31 00:00:00'), Timestamp('2023-02-28 00:00:00'), Timestamp('2023-03-31 00:00:00'), Timestamp('2023-04-30 00:00:00'), Timestamp('2023-05-31 00:00:00'), Timestamp('2023-06-30 00:00:00'), Timestamp('2023-07-31 00:00:00'), Timestamp('2023-08-31 00:00:00'), Timestamp('2023-09-30 00:00:00'), Timestamp('2023-10-31 00:00:00'), Timestamp('2023-11-30 00:00:00')]\n"
     ]
    }
   ],
   "source": [
    "n_past=1\n",
    "n_pred=12\n",
    "last_date=list(train_datetime)[-n_past]\n",
    "\n",
    "predict_12=pd.date_range(last_date, periods=n_pred, freq='M').tolist()\n",
    "print(predict_12)"
   ]
  },
  {
   "cell_type": "code",
   "execution_count": 118,
   "metadata": {},
   "outputs": [
    {
     "name": "stdout",
     "output_type": "stream",
     "text": [
      "1/1 [==============================] - 1s 539ms/step\n",
      "mse: 0.005671620927482548\n",
      "rmse 0.07531016483505097\n",
      "MAPE: 8.01%\n",
      "mae 0.06147289490200868\n"
     ]
    }
   ],
   "source": [
    "from sklearn.metrics import mean_absolute_error\n",
    "\n",
    "prediction=model.predict(X_test[-n_pred:])\n",
    "\n",
    "mse=mean_squared_error(y_test[-n_pred:],prediction)\n",
    "rmse=np.sqrt(mse)\n",
    "mape=mean_absolute_percentage_error(y_test[-n_pred:],prediction)\n",
    "mae=mean_absolute_error(y_test[-n_pred:], prediction)\n",
    "\n",
    "print(\"mse:\",mse)\n",
    "print(\"rmse\",rmse)\n",
    "print(\"MAPE:\", f\"{mape:.2f}%\")\n",
    "print(\"mae\",mae)"
   ]
  },
  {
   "cell_type": "code",
   "execution_count": 119,
   "metadata": {},
   "outputs": [],
   "source": [
    "prediction_copy = np.repeat(prediction, data_train.shape[1], axis=-1)\n",
    "y_pred_future = scaler.inverse_transform(prediction_copy)[:, 0]"
   ]
  },
  {
   "cell_type": "code",
   "execution_count": 120,
   "metadata": {},
   "outputs": [
    {
     "name": "stderr",
     "output_type": "stream",
     "text": [
      "C:\\Users\\ilham\\AppData\\Local\\Temp\\ipykernel_2212\\1499544800.py:9: SettingWithCopyWarning: \n",
      "A value is trying to be set on a copy of a slice from a DataFrame.\n",
      "Try using .loc[row_indexer,col_indexer] = value instead\n",
      "\n",
      "See the caveats in the documentation: https://pandas.pydata.org/pandas-docs/stable/user_guide/indexing.html#returning-a-view-versus-a-copy\n",
      "  actual['datetime']=pd.to_datetime(actual['datetime'])\n"
     ]
    },
    {
     "data": {
      "image/png": "[encoded data removed]",
      "text/plain": [
       "<Figure size 640x480 with 1 Axes>"
      ]
     },
     "metadata": {},
     "output_type": "display_data"
    }
   ],
   "source": [
    "forecast_dates=[]\n",
    "for i in predict_12:\n",
    "    forecast_dates.append(i.date())\n",
    "    \n",
    "df_forecast=pd.DataFrame({'Date': forecast_dates,'total_visitor':y_pred_future})\n",
    "df_forecast['Date']=pd.to_datetime(df_forecast['Date'])\n",
    "\n",
    "actual=df[['datetime','total_visitor']]\n",
    "actual['datetime']=pd.to_datetime(actual['datetime'])\n",
    "actual=actual.loc[actual['datetime']>='2013-01-01']\n",
    "\n",
    "sns.lineplot(actual, x='datetime', y='total_visitor',label='actual')\n",
    "sns.lineplot(df_forecast,x='Date',y='total_visitor',label='forecast')\n",
    "\n",
    "plt.xlabel('Year')\n",
    "plt.ylabel('Total Visitor')\n",
    "plt.legend()\n",
    "plt.show()\n"
   ]
  },
  {
   "cell_type": "code",
   "execution_count": 121,
   "metadata": {},
   "outputs": [
    {
     "name": "stdout",
     "output_type": "stream",
     "text": [
      "╒═════════════════════╤══════════════╕\n",
      "│ Date                │   Prediction │\n",
      "╞═════════════════════╪══════════════╡\n",
      "│ 2023-01-01 00:00:00 │    159198    │\n",
      "├─────────────────────┼──────────────┤\n",
      "│ 2023-02-01 00:00:00 │    225153    │\n",
      "├─────────────────────┼──────────────┤\n",
      "│ 2023-03-01 00:00:00 │     19570.8  │\n",
      "├─────────────────────┼──────────────┤\n",
      "│ 2023-04-01 00:00:00 │    211209    │\n",
      "├─────────────────────┼──────────────┤\n",
      "│ 2023-05-01 00:00:00 │      5405.19 │\n",
      "├─────────────────────┼──────────────┤\n",
      "│ 2023-06-01 00:00:00 │    174943    │\n",
      "├─────────────────────┼──────────────┤\n",
      "│ 2023-07-01 00:00:00 │     11798.9  │\n",
      "├─────────────────────┼──────────────┤\n",
      "│ 2023-08-01 00:00:00 │     24523    │\n",
      "├─────────────────────┼──────────────┤\n",
      "│ 2023-09-01 00:00:00 │    176744    │\n",
      "├─────────────────────┼──────────────┤\n",
      "│ 2023-10-01 00:00:00 │    216660    │\n",
      "├─────────────────────┼──────────────┤\n",
      "│ 2023-11-01 00:00:00 │    169497    │\n",
      "├─────────────────────┼──────────────┤\n",
      "│ 2023-12-01 00:00:00 │    226875    │\n",
      "╘═════════════════════╧══════════════╛\n"
     ]
    }
   ],
   "source": [
    "forecast_dates_1=pd.date_range(start='2023-01-01', end='2023-12-01', freq='MS')\n",
    "\n",
    "data=list(zip(forecast_dates_1,y_pred_future))\n",
    "\n",
    "headers=['Date','Prediction']\n",
    "table=tabulate(data, headers=headers, tablefmt='fancy_grid')\n",
    "print(table)"
   ]
  },
  {
   "cell_type": "markdown",
   "metadata": {},
   "source": [
    "TEST SIZE 60 : 40"
   ]
  },
  {
   "cell_type": "code",
   "execution_count": 122,
   "metadata": {},
   "outputs": [],
   "source": [
    "n_future=1\n",
    "n_step=12\n",
    "\n",
    "X_train=[]\n",
    "y_train=[]\n",
    "for i in range (n_step, len(data_scaled)-n_future+1):\n",
    "    past_data = data_scaled[i-n_step:i, 0:data_scaled.shape[1]]\n",
    "    future_data=data_scaled[i+n_future - 1:i +n_future,0]\n",
    "    \n",
    "    X_train.append(past_data)\n",
    "    y_train.append(future_data)\n",
    "\n",
    "X_train=np.array(X_train)\n",
    "y_train=np.array(y_train)\n",
    "\n",
    "X_train, X_test, y_train, y_test=train_test_split(X_train,y_train, test_size=0.3, random_state=42)"
   ]
  },
  {
   "cell_type": "code",
   "execution_count": 123,
   "metadata": {},
   "outputs": [
    {
     "name": "stdout",
     "output_type": "stream",
     "text": [
      "(67, 12, 2)\n",
      "(67, 1)\n",
      "(29, 12, 2)\n",
      "(29, 1)\n"
     ]
    }
   ],
   "source": [
    "print(X_train.shape)\n",
    "print(y_train.shape)\n",
    "print(X_test.shape)\n",
    "print(y_test.shape)"
   ]
  },
  {
   "cell_type": "code",
   "execution_count": 124,
   "metadata": {},
   "outputs": [
    {
     "name": "stdout",
     "output_type": "stream",
     "text": [
      "Model: \"sequential_9\"\n",
      "_________________________________________________________________\n",
      " Layer (type)                Output Shape              Param #   \n",
      "=================================================================\n",
      " gru_9 (GRU)                 (None, 64)                13056     \n",
      "                                                                 \n",
      " dense_9 (Dense)             (None, 1)                 65        \n",
      "                                                                 \n",
      "=================================================================\n",
      "Total params: 13121 (51.25 KB)\n",
      "Trainable params: 13121 (51.25 KB)\n",
      "Non-trainable params: 0 (0.00 Byte)\n",
      "_________________________________________________________________\n"
     ]
    }
   ],
   "source": [
    "model=Sequential()\n",
    "model.add(GRU(64, activation='tanh', input_shape=(X_train.shape[1], X_train.shape[2])))\n",
    "model.add(Dense(y_train.shape[1]))\n",
    "model.summary()"
   ]
  },
  {
   "cell_type": "code",
   "execution_count": 125,
   "metadata": {},
   "outputs": [],
   "source": [
    "model.compile(optimizer='adam', loss='mean_squared_error')"
   ]
  },
  {
   "cell_type": "code",
   "execution_count": 126,
   "metadata": {},
   "outputs": [
    {
     "name": "stdout",
     "output_type": "stream",
     "text": [
      "Epoch 1/100\n",
      "3/3 [==============================] - 2s 6ms/step - loss: 0.5400\n",
      "Epoch 2/100\n",
      "3/3 [==============================] - 0s 7ms/step - loss: 0.3545\n",
      "Epoch 3/100\n",
      "3/3 [==============================] - 0s 6ms/step - loss: 0.2223\n",
      "Epoch 4/100\n",
      "3/3 [==============================] - 0s 6ms/step - loss: 0.1256\n",
      "Epoch 5/100\n",
      "3/3 [==============================] - 0s 6ms/step - loss: 0.0665\n",
      "Epoch 6/100\n",
      "3/3 [==============================] - 0s 7ms/step - loss: 0.0445\n",
      "Epoch 7/100\n",
      "3/3 [==============================] - 0s 6ms/step - loss: 0.0435\n",
      "Epoch 8/100\n",
      "3/3 [==============================] - 0s 6ms/step - loss: 0.0491\n",
      "Epoch 9/100\n",
      "3/3 [==============================] - 0s 6ms/step - loss: 0.0506\n",
      "Epoch 10/100\n",
      "3/3 [==============================] - 0s 6ms/step - loss: 0.0434\n",
      "Epoch 11/100\n",
      "3/3 [==============================] - 0s 7ms/step - loss: 0.0344\n",
      "Epoch 12/100\n",
      "3/3 [==============================] - 0s 6ms/step - loss: 0.0273\n",
      "Epoch 13/100\n",
      "3/3 [==============================] - 0s 7ms/step - loss: 0.0259\n",
      "Epoch 14/100\n",
      "3/3 [==============================] - 0s 6ms/step - loss: 0.0259\n",
      "Epoch 15/100\n",
      "3/3 [==============================] - 0s 7ms/step - loss: 0.0258\n",
      "Epoch 16/100\n",
      "3/3 [==============================] - 0s 6ms/step - loss: 0.0249\n",
      "Epoch 17/100\n",
      "3/3 [==============================] - 0s 7ms/step - loss: 0.0235\n",
      "Epoch 18/100\n",
      "3/3 [==============================] - 0s 7ms/step - loss: 0.0228\n",
      "Epoch 19/100\n",
      "3/3 [==============================] - 0s 8ms/step - loss: 0.0233\n",
      "Epoch 20/100\n",
      "3/3 [==============================] - 0s 17ms/step - loss: 0.0234\n",
      "Epoch 21/100\n",
      "3/3 [==============================] - 0s 9ms/step - loss: 0.0233\n",
      "Epoch 22/100\n",
      "3/3 [==============================] - 0s 9ms/step - loss: 0.0231\n",
      "Epoch 23/100\n",
      "3/3 [==============================] - 0s 9ms/step - loss: 0.0226\n",
      "Epoch 24/100\n",
      "3/3 [==============================] - 0s 9ms/step - loss: 0.0222\n",
      "Epoch 25/100\n",
      "3/3 [==============================] - 0s 8ms/step - loss: 0.0217\n",
      "Epoch 26/100\n",
      "3/3 [==============================] - 0s 7ms/step - loss: 0.0218\n",
      "Epoch 27/100\n",
      "3/3 [==============================] - 0s 7ms/step - loss: 0.0218\n",
      "Epoch 28/100\n",
      "3/3 [==============================] - 0s 6ms/step - loss: 0.0217\n",
      "Epoch 29/100\n",
      "3/3 [==============================] - 0s 7ms/step - loss: 0.0213\n",
      "Epoch 30/100\n",
      "3/3 [==============================] - 0s 10ms/step - loss: 0.0208\n",
      "Epoch 31/100\n",
      "3/3 [==============================] - 0s 8ms/step - loss: 0.0207\n",
      "Epoch 32/100\n",
      "3/3 [==============================] - 0s 8ms/step - loss: 0.0212\n",
      "Epoch 33/100\n",
      "3/3 [==============================] - 0s 10ms/step - loss: 0.0210\n",
      "Epoch 34/100\n",
      "3/3 [==============================] - 0s 9ms/step - loss: 0.0206\n",
      "Epoch 35/100\n",
      "3/3 [==============================] - 0s 7ms/step - loss: 0.0204\n",
      "Epoch 36/100\n",
      "3/3 [==============================] - 0s 6ms/step - loss: 0.0203\n",
      "Epoch 37/100\n",
      "3/3 [==============================] - 0s 8ms/step - loss: 0.0203\n",
      "Epoch 38/100\n",
      "3/3 [==============================] - 0s 7ms/step - loss: 0.0200\n",
      "Epoch 39/100\n",
      "3/3 [==============================] - 0s 6ms/step - loss: 0.0199\n",
      "Epoch 40/100\n",
      "3/3 [==============================] - 0s 6ms/step - loss: 0.0198\n",
      "Epoch 41/100\n",
      "3/3 [==============================] - 0s 6ms/step - loss: 0.0194\n",
      "Epoch 42/100\n",
      "3/3 [==============================] - 0s 7ms/step - loss: 0.0193\n",
      "Epoch 43/100\n",
      "3/3 [==============================] - 0s 8ms/step - loss: 0.0193\n",
      "Epoch 44/100\n",
      "3/3 [==============================] - 0s 8ms/step - loss: 0.0191\n",
      "Epoch 45/100\n",
      "3/3 [==============================] - 0s 8ms/step - loss: 0.0190\n",
      "Epoch 46/100\n",
      "3/3 [==============================] - 0s 7ms/step - loss: 0.0188\n",
      "Epoch 47/100\n",
      "3/3 [==============================] - 0s 8ms/step - loss: 0.0185\n",
      "Epoch 48/100\n",
      "3/3 [==============================] - 0s 7ms/step - loss: 0.0188\n",
      "Epoch 49/100\n",
      "3/3 [==============================] - 0s 6ms/step - loss: 0.0210\n",
      "Epoch 50/100\n",
      "3/3 [==============================] - 0s 7ms/step - loss: 0.0241\n",
      "Epoch 51/100\n",
      "3/3 [==============================] - 0s 6ms/step - loss: 0.0235\n",
      "Epoch 52/100\n",
      "3/3 [==============================] - 0s 6ms/step - loss: 0.0207\n",
      "Epoch 53/100\n",
      "3/3 [==============================] - 0s 6ms/step - loss: 0.0178\n",
      "Epoch 54/100\n",
      "3/3 [==============================] - 0s 6ms/step - loss: 0.0177\n",
      "Epoch 55/100\n",
      "3/3 [==============================] - 0s 7ms/step - loss: 0.0189\n",
      "Epoch 56/100\n",
      "3/3 [==============================] - 0s 6ms/step - loss: 0.0196\n",
      "Epoch 57/100\n",
      "3/3 [==============================] - 0s 6ms/step - loss: 0.0187\n",
      "Epoch 58/100\n",
      "3/3 [==============================] - 0s 7ms/step - loss: 0.0176\n",
      "Epoch 59/100\n",
      "3/3 [==============================] - 0s 7ms/step - loss: 0.0170\n",
      "Epoch 60/100\n",
      "3/3 [==============================] - 0s 6ms/step - loss: 0.0170\n",
      "Epoch 61/100\n",
      "3/3 [==============================] - 0s 6ms/step - loss: 0.0172\n",
      "Epoch 62/100\n",
      "3/3 [==============================] - 0s 6ms/step - loss: 0.0173\n",
      "Epoch 63/100\n",
      "3/3 [==============================] - 0s 6ms/step - loss: 0.0170\n",
      "Epoch 64/100\n",
      "3/3 [==============================] - 0s 7ms/step - loss: 0.0167\n",
      "Epoch 65/100\n",
      "3/3 [==============================] - 0s 8ms/step - loss: 0.0167\n",
      "Epoch 66/100\n",
      "3/3 [==============================] - 0s 9ms/step - loss: 0.0168\n",
      "Epoch 67/100\n",
      "3/3 [==============================] - 0s 7ms/step - loss: 0.0166\n",
      "Epoch 68/100\n",
      "3/3 [==============================] - 0s 8ms/step - loss: 0.0165\n",
      "Epoch 69/100\n",
      "3/3 [==============================] - 0s 8ms/step - loss: 0.0161\n",
      "Epoch 70/100\n",
      "3/3 [==============================] - 0s 7ms/step - loss: 0.0161\n",
      "Epoch 71/100\n",
      "3/3 [==============================] - 0s 6ms/step - loss: 0.0161\n",
      "Epoch 72/100\n",
      "3/3 [==============================] - 0s 6ms/step - loss: 0.0161\n",
      "Epoch 73/100\n",
      "3/3 [==============================] - 0s 6ms/step - loss: 0.0160\n",
      "Epoch 74/100\n",
      "3/3 [==============================] - 0s 7ms/step - loss: 0.0158\n",
      "Epoch 75/100\n",
      "3/3 [==============================] - 0s 6ms/step - loss: 0.0159\n",
      "Epoch 76/100\n",
      "3/3 [==============================] - 0s 6ms/step - loss: 0.0168\n",
      "Epoch 77/100\n",
      "3/3 [==============================] - 0s 6ms/step - loss: 0.0165\n",
      "Epoch 78/100\n",
      "3/3 [==============================] - 0s 6ms/step - loss: 0.0159\n",
      "Epoch 79/100\n",
      "3/3 [==============================] - 0s 6ms/step - loss: 0.0158\n",
      "Epoch 80/100\n",
      "3/3 [==============================] - 0s 6ms/step - loss: 0.0164\n",
      "Epoch 81/100\n",
      "3/3 [==============================] - 0s 6ms/step - loss: 0.0161\n",
      "Epoch 82/100\n",
      "3/3 [==============================] - 0s 6ms/step - loss: 0.0153\n",
      "Epoch 83/100\n",
      "3/3 [==============================] - 0s 5ms/step - loss: 0.0156\n",
      "Epoch 84/100\n",
      "3/3 [==============================] - 0s 6ms/step - loss: 0.0160\n",
      "Epoch 85/100\n",
      "3/3 [==============================] - 0s 6ms/step - loss: 0.0156\n",
      "Epoch 86/100\n",
      "3/3 [==============================] - 0s 6ms/step - loss: 0.0152\n",
      "Epoch 87/100\n",
      "3/3 [==============================] - 0s 6ms/step - loss: 0.0154\n",
      "Epoch 88/100\n",
      "3/3 [==============================] - 0s 5ms/step - loss: 0.0151\n",
      "Epoch 89/100\n",
      "3/3 [==============================] - 0s 6ms/step - loss: 0.0148\n",
      "Epoch 90/100\n",
      "3/3 [==============================] - 0s 7ms/step - loss: 0.0147\n",
      "Epoch 91/100\n",
      "3/3 [==============================] - 0s 7ms/step - loss: 0.0145\n",
      "Epoch 92/100\n",
      "3/3 [==============================] - 0s 8ms/step - loss: 0.0149\n",
      "Epoch 93/100\n",
      "3/3 [==============================] - 0s 7ms/step - loss: 0.0165\n",
      "Epoch 94/100\n",
      "3/3 [==============================] - 0s 7ms/step - loss: 0.0175\n",
      "Epoch 95/100\n",
      "3/3 [==============================] - 0s 8ms/step - loss: 0.0155\n",
      "Epoch 96/100\n",
      "3/3 [==============================] - 0s 7ms/step - loss: 0.0146\n",
      "Epoch 97/100\n",
      "3/3 [==============================] - 0s 6ms/step - loss: 0.0154\n",
      "Epoch 98/100\n",
      "3/3 [==============================] - 0s 6ms/step - loss: 0.0157\n",
      "Epoch 99/100\n",
      "3/3 [==============================] - 0s 7ms/step - loss: 0.0149\n",
      "Epoch 100/100\n",
      "3/3 [==============================] - 0s 6ms/step - loss: 0.0141\n"
     ]
    }
   ],
   "source": [
    "history=model.fit(X_train,y_train, epochs=100, batch_size=32, verbose=1)"
   ]
  },
  {
   "cell_type": "code",
   "execution_count": 127,
   "metadata": {},
   "outputs": [
    {
     "data": {
      "text/plain": [
       "[<matplotlib.lines.Line2D at 0x275d25c9e90>]"
      ]
     },
     "execution_count": 127,
     "metadata": {},
     "output_type": "execute_result"
    },
    {
     "data": {
      "image/png": "[encoded data removed]",
      "text/plain": [
       "<Figure size 640x480 with 1 Axes>"
      ]
     },
     "metadata": {},
     "output_type": "display_data"
    }
   ],
   "source": [
    "plt.plot(history.history['loss'])"
   ]
  },
  {
   "cell_type": "code",
   "execution_count": 128,
   "metadata": {},
   "outputs": [
    {
     "name": "stdout",
     "output_type": "stream",
     "text": [
      "[Timestamp('2022-12-31 00:00:00'), Timestamp('2023-01-31 00:00:00'), Timestamp('2023-02-28 00:00:00'), Timestamp('2023-03-31 00:00:00'), Timestamp('2023-04-30 00:00:00'), Timestamp('2023-05-31 00:00:00'), Timestamp('2023-06-30 00:00:00'), Timestamp('2023-07-31 00:00:00'), Timestamp('2023-08-31 00:00:00'), Timestamp('2023-09-30 00:00:00'), Timestamp('2023-10-31 00:00:00'), Timestamp('2023-11-30 00:00:00')]\n"
     ]
    }
   ],
   "source": [
    "n_past=1\n",
    "n_pred=12\n",
    "last_date=list(train_datetime)[-n_past]\n",
    "\n",
    "predict_12=pd.date_range(last_date, periods=n_pred, freq='M').tolist()\n",
    "print(predict_12)"
   ]
  },
  {
   "cell_type": "code",
   "execution_count": 129,
   "metadata": {},
   "outputs": [
    {
     "name": "stdout",
     "output_type": "stream",
     "text": [
      "1/1 [==============================] - 0s 459ms/step\n",
      "mse: 0.005359560598819735\n",
      "rmse 0.0732090199280098\n",
      "MAPE: 6.55%\n",
      "mae 0.057155314178366896\n"
     ]
    }
   ],
   "source": [
    "from sklearn.metrics import mean_absolute_error\n",
    "\n",
    "prediction=model.predict(X_test[-n_pred:])\n",
    "\n",
    "mse=mean_squared_error(y_test[-n_pred:],prediction)\n",
    "rmse=np.sqrt(mse)\n",
    "mape=mean_absolute_percentage_error(y_test[-n_pred:],prediction)\n",
    "mae=mean_absolute_error(y_test[-n_pred:], prediction)\n",
    "\n",
    "print(\"mse:\",mse)\n",
    "print(\"rmse\",rmse)\n",
    "print(\"MAPE:\", f\"{mape:.2f}%\")\n",
    "print(\"mae\",mae)"
   ]
  },
  {
   "cell_type": "code",
   "execution_count": 130,
   "metadata": {},
   "outputs": [],
   "source": [
    "prediction_copy = np.repeat(prediction, data_train.shape[1], axis=-1)\n",
    "y_pred_future = scaler.inverse_transform(prediction_copy)[:, 0]"
   ]
  },
  {
   "cell_type": "code",
   "execution_count": 131,
   "metadata": {},
   "outputs": [
    {
     "name": "stderr",
     "output_type": "stream",
     "text": [
      "C:\\Users\\ilham\\AppData\\Local\\Temp\\ipykernel_2212\\1499544800.py:9: SettingWithCopyWarning: \n",
      "A value is trying to be set on a copy of a slice from a DataFrame.\n",
      "Try using .loc[row_indexer,col_indexer] = value instead\n",
      "\n",
      "See the caveats in the documentation: https://pandas.pydata.org/pandas-docs/stable/user_guide/indexing.html#returning-a-view-versus-a-copy\n",
      "  actual['datetime']=pd.to_datetime(actual['datetime'])\n"
     ]
    },
    {
     "data": {
      "image/png": "[encoded data removed]",
      "text/plain": [
       "<Figure size 640x480 with 1 Axes>"
      ]
     },
     "metadata": {},
     "output_type": "display_data"
    }
   ],
   "source": [
    "forecast_dates=[]\n",
    "for i in predict_12:\n",
    "    forecast_dates.append(i.date())\n",
    "    \n",
    "df_forecast=pd.DataFrame({'Date': forecast_dates,'total_visitor':y_pred_future})\n",
    "df_forecast['Date']=pd.to_datetime(df_forecast['Date'])\n",
    "\n",
    "actual=df[['datetime','total_visitor']]\n",
    "actual['datetime']=pd.to_datetime(actual['datetime'])\n",
    "actual=actual.loc[actual['datetime']>='2013-01-01']\n",
    "\n",
    "sns.lineplot(actual, x='datetime', y='total_visitor',label='actual')\n",
    "sns.lineplot(df_forecast,x='Date',y='total_visitor',label='forecast')\n",
    "\n",
    "plt.xlabel('Year')\n",
    "plt.ylabel('Total Visitor')\n",
    "plt.legend()\n",
    "plt.show()\n"
   ]
  },
  {
   "cell_type": "code",
   "execution_count": 132,
   "metadata": {},
   "outputs": [
    {
     "name": "stdout",
     "output_type": "stream",
     "text": [
      "╒═════════════════════╤══════════════╕\n",
      "│ Date                │   Prediction │\n",
      "╞═════════════════════╪══════════════╡\n",
      "│ 2023-01-01 00:00:00 │    157522    │\n",
      "├─────────────────────┼──────────────┤\n",
      "│ 2023-02-01 00:00:00 │    223154    │\n",
      "├─────────────────────┼──────────────┤\n",
      "│ 2023-03-01 00:00:00 │     16660.9  │\n",
      "├─────────────────────┼──────────────┤\n",
      "│ 2023-04-01 00:00:00 │    209105    │\n",
      "├─────────────────────┼──────────────┤\n",
      "│ 2023-05-01 00:00:00 │      1139.49 │\n",
      "├─────────────────────┼──────────────┤\n",
      "│ 2023-06-01 00:00:00 │    174946    │\n",
      "├─────────────────────┼──────────────┤\n",
      "│ 2023-07-01 00:00:00 │      7717.31 │\n",
      "├─────────────────────┼──────────────┤\n",
      "│ 2023-08-01 00:00:00 │     20436.9  │\n",
      "├─────────────────────┼──────────────┤\n",
      "│ 2023-09-01 00:00:00 │    176491    │\n",
      "├─────────────────────┼──────────────┤\n",
      "│ 2023-10-01 00:00:00 │    212252    │\n",
      "├─────────────────────┼──────────────┤\n",
      "│ 2023-11-01 00:00:00 │    168894    │\n",
      "├─────────────────────┼──────────────┤\n",
      "│ 2023-12-01 00:00:00 │    223671    │\n",
      "╘═════════════════════╧══════════════╛\n"
     ]
    }
   ],
   "source": [
    "forecast_dates_1=pd.date_range(start='2023-01-01', end='2023-12-01', freq='MS')\n",
    "\n",
    "data=list(zip(forecast_dates_1,y_pred_future))\n",
    "\n",
    "headers=['Date','Prediction']\n",
    "table=tabulate(data, headers=headers, tablefmt='fancy_grid')\n",
    "print(table)"
   ]
  }
 ],
 "metadata": {
  "kernelspec": {
   "display_name": "Python 3",
   "language": "python",
   "name": "python3"
  },
  "language_info": {
   "codemirror_mode": {
    "name": "ipython",
    "version": 3
   },
   "file_extension": ".py",
   "mimetype": "text/x-python",
   "name": "python",
   "nbconvert_exporter": "python",
   "pygments_lexer": "ipython3",
   "version": "3.11.7"
  }
 },
 "nbformat": 4,
 "nbformat_minor": 2
}
