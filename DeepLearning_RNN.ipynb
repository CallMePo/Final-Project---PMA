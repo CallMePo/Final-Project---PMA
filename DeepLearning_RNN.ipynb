{
 "cells": [
  {
   "cell_type": "code",
   "execution_count": 1,
   "id": "initial_id",
   "metadata": {
    "ExecuteTime": {
     "end_time": "2023-12-11T08:07:14.600495500Z",
     "start_time": "2023-12-11T08:07:05.987298Z"
    },
    "collapsed": true
   },
   "outputs": [
    {
     "name": "stdout",
     "output_type": "stream",
     "text": [
      "WARNING:tensorflow:From C:\\Users\\ilham\\AppData\\Local\\Packages\\PythonSoftwareFoundation.Python.3.11_qbz5n2kfra8p0\\LocalCache\\local-packages\\Python311\\site-packages\\keras\\src\\losses.py:2976: The name tf.losses.sparse_softmax_cross_entropy is deprecated. Please use tf.compat.v1.losses.sparse_softmax_cross_entropy instead.\n",
      "\n"
     ]
    }
   ],
   "source": [
    "import tensorflow as tf\n",
    "import seaborn as sns\n",
    "import numpy as np\n",
    "import pandas as pd\n",
    "import matplotlib.pyplot as plt\n",
    "import sklearn.preprocessing\n",
    "from sklearn.metrics import r2_score\n",
    "from sklearn.preprocessing import MinMaxScaler\n",
    "from sklearn.model_selection import train_test_split\n",
    "from sklearn.metrics import mean_absolute_error, mean_squared_error\n",
    "from tensorflow.keras.callbacks import EarlyStopping\n",
    "from keras.layers import Dense,Dropout,SimpleRNN,LSTM,GRU\n",
    "from keras.models import Sequential\n",
    "from tensorflow import keras"
   ]
  },
  {
   "cell_type": "code",
   "execution_count": 2,
   "id": "7249d597",
   "metadata": {},
   "outputs": [],
   "source": [
    "# Load your dataset\n",
    "# Assuming your dataset has columns 'datetime', 'total_visitor', 'total_accomodation'\n",
    "# Adjust the file path accordingly\n",
    "\n",
    "data = pd.read_csv('KepRiau 2015 - 2022.csv')\n",
    "\n",
    "# Convert 'datetime' column to datetime type\n",
    "data['datetime'] = pd.to_datetime(data['datetime'])\n",
    "\n",
    "# Set 'datetime' column as index\n",
    "data.set_index('datetime', inplace=True)\n",
    "\n",
    "# Normalize the data\n",
    "scaler = MinMaxScaler()\n",
    "data_scaled = scaler.fit_transform(data)\n",
    "\n",
    "# Define your input and output variables\n",
    "X = data_scaled[:, 1]  # 'total_accomodation' as input\n",
    "y = data_scaled[:, 0]  # 'total_visitor' as output\n",
    "\n"
   ]
  },
  {
   "cell_type": "markdown",
   "id": "ae9fb3fa",
   "metadata": {},
   "source": [
    "TEST SIZE 80: 20"
   ]
  },
  {
   "cell_type": "code",
   "execution_count": 3,
   "id": "07e09fa8",
   "metadata": {},
   "outputs": [],
   "source": [
    "# Split the data into training and testing sets\n",
    "X_train, X_test, y_train, y_test = train_test_split(X, y, test_size=0.2, shuffle=False)"
   ]
  },
  {
   "cell_type": "code",
   "execution_count": 4,
   "id": "7102085d",
   "metadata": {},
   "outputs": [],
   "source": [
    "# Reshape data \n",
    "X_train = X_train.reshape((X_train.shape[0], 1, 1))\n",
    "X_test = X_test.reshape((X_test.shape[0], 1, 1))"
   ]
  },
  {
   "cell_type": "code",
   "execution_count": 5,
   "id": "711a6f4d",
   "metadata": {},
   "outputs": [
    {
     "name": "stdout",
     "output_type": "stream",
     "text": [
      "WARNING:tensorflow:From C:\\Users\\ilham\\AppData\\Local\\Packages\\PythonSoftwareFoundation.Python.3.11_qbz5n2kfra8p0\\LocalCache\\local-packages\\Python311\\site-packages\\keras\\src\\backend.py:873: The name tf.get_default_graph is deprecated. Please use tf.compat.v1.get_default_graph instead.\n",
      "\n",
      "WARNING:tensorflow:From C:\\Users\\ilham\\AppData\\Local\\Packages\\PythonSoftwareFoundation.Python.3.11_qbz5n2kfra8p0\\LocalCache\\local-packages\\Python311\\site-packages\\keras\\src\\optimizers\\__init__.py:309: The name tf.train.Optimizer is deprecated. Please use tf.compat.v1.train.Optimizer instead.\n",
      "\n",
      "Epoch 1/50\n",
      "WARNING:tensorflow:From C:\\Users\\ilham\\AppData\\Local\\Packages\\PythonSoftwareFoundation.Python.3.11_qbz5n2kfra8p0\\LocalCache\\local-packages\\Python311\\site-packages\\keras\\src\\utils\\tf_utils.py:492: The name tf.ragged.RaggedTensorValue is deprecated. Please use tf.compat.v1.ragged.RaggedTensorValue instead.\n",
      "\n",
      "3/3 - 2s - loss: 0.1790 - val_loss: 0.1420 - 2s/epoch - 642ms/step\n",
      "Epoch 2/50\n",
      "3/3 - 0s - loss: 0.1550 - val_loss: 0.1916 - 51ms/epoch - 17ms/step\n",
      "Epoch 3/50\n",
      "3/3 - 0s - loss: 0.1351 - val_loss: 0.2439 - 50ms/epoch - 17ms/step\n",
      "Epoch 4/50\n",
      "3/3 - 0s - loss: 0.1237 - val_loss: 0.3024 - 48ms/epoch - 16ms/step\n",
      "Epoch 5/50\n",
      "3/3 - 0s - loss: 0.1121 - val_loss: 0.3582 - 43ms/epoch - 14ms/step\n",
      "Epoch 6/50\n",
      "3/3 - 0s - loss: 0.1058 - val_loss: 0.4109 - 43ms/epoch - 14ms/step\n",
      "Epoch 7/50\n",
      "3/3 - 0s - loss: 0.1028 - val_loss: 0.4568 - 41ms/epoch - 14ms/step\n",
      "Epoch 8/50\n",
      "3/3 - 0s - loss: 0.0991 - val_loss: 0.4840 - 76ms/epoch - 25ms/step\n",
      "Epoch 9/50\n",
      "3/3 - 0s - loss: 0.0977 - val_loss: 0.5007 - 57ms/epoch - 19ms/step\n",
      "Epoch 10/50\n",
      "3/3 - 0s - loss: 0.0961 - val_loss: 0.5036 - 52ms/epoch - 17ms/step\n",
      "Epoch 11/50\n",
      "3/3 - 0s - loss: 0.0943 - val_loss: 0.4955 - 50ms/epoch - 17ms/step\n",
      "Epoch 12/50\n",
      "3/3 - 0s - loss: 0.0923 - val_loss: 0.4841 - 49ms/epoch - 16ms/step\n",
      "Epoch 13/50\n",
      "3/3 - 0s - loss: 0.0901 - val_loss: 0.4583 - 45ms/epoch - 15ms/step\n",
      "Epoch 14/50\n",
      "3/3 - 0s - loss: 0.0876 - val_loss: 0.4329 - 43ms/epoch - 14ms/step\n",
      "Epoch 15/50\n",
      "3/3 - 0s - loss: 0.0855 - val_loss: 0.4082 - 42ms/epoch - 14ms/step\n",
      "Epoch 16/50\n",
      "3/3 - 0s - loss: 0.0839 - val_loss: 0.3847 - 46ms/epoch - 15ms/step\n",
      "Epoch 17/50\n",
      "3/3 - 0s - loss: 0.0813 - val_loss: 0.3724 - 43ms/epoch - 14ms/step\n",
      "Epoch 18/50\n",
      "3/3 - 0s - loss: 0.0796 - val_loss: 0.3597 - 49ms/epoch - 16ms/step\n",
      "Epoch 19/50\n",
      "3/3 - 0s - loss: 0.0779 - val_loss: 0.3491 - 56ms/epoch - 19ms/step\n",
      "Epoch 20/50\n",
      "3/3 - 0s - loss: 0.0763 - val_loss: 0.3369 - 63ms/epoch - 21ms/step\n",
      "Epoch 21/50\n",
      "3/3 - 0s - loss: 0.0747 - val_loss: 0.3261 - 52ms/epoch - 17ms/step\n",
      "Epoch 22/50\n",
      "3/3 - 0s - loss: 0.0732 - val_loss: 0.3136 - 51ms/epoch - 17ms/step\n",
      "Epoch 23/50\n",
      "3/3 - 0s - loss: 0.0717 - val_loss: 0.3027 - 49ms/epoch - 16ms/step\n",
      "Epoch 24/50\n",
      "3/3 - 0s - loss: 0.0703 - val_loss: 0.2945 - 48ms/epoch - 16ms/step\n",
      "Epoch 25/50\n",
      "3/3 - 0s - loss: 0.0692 - val_loss: 0.2827 - 48ms/epoch - 16ms/step\n",
      "Epoch 26/50\n",
      "3/3 - 0s - loss: 0.0676 - val_loss: 0.2785 - 66ms/epoch - 22ms/step\n",
      "Epoch 27/50\n",
      "3/3 - 0s - loss: 0.0664 - val_loss: 0.2749 - 65ms/epoch - 22ms/step\n",
      "Epoch 28/50\n",
      "3/3 - 0s - loss: 0.0651 - val_loss: 0.2692 - 66ms/epoch - 22ms/step\n",
      "Epoch 29/50\n",
      "3/3 - 0s - loss: 0.0640 - val_loss: 0.2630 - 65ms/epoch - 22ms/step\n",
      "Epoch 30/50\n",
      "3/3 - 0s - loss: 0.0629 - val_loss: 0.2571 - 43ms/epoch - 14ms/step\n",
      "Epoch 31/50\n",
      "3/3 - 0s - loss: 0.0619 - val_loss: 0.2507 - 44ms/epoch - 15ms/step\n",
      "Epoch 32/50\n",
      "3/3 - 0s - loss: 0.0609 - val_loss: 0.2457 - 49ms/epoch - 16ms/step\n",
      "Epoch 33/50\n",
      "3/3 - 0s - loss: 0.0600 - val_loss: 0.2412 - 51ms/epoch - 17ms/step\n",
      "Epoch 34/50\n",
      "3/3 - 0s - loss: 0.0591 - val_loss: 0.2348 - 51ms/epoch - 17ms/step\n",
      "Epoch 35/50\n",
      "3/3 - 0s - loss: 0.0583 - val_loss: 0.2273 - 45ms/epoch - 15ms/step\n",
      "Epoch 36/50\n",
      "3/3 - 0s - loss: 0.0576 - val_loss: 0.2179 - 44ms/epoch - 15ms/step\n",
      "Epoch 37/50\n",
      "3/3 - 0s - loss: 0.0568 - val_loss: 0.2096 - 40ms/epoch - 13ms/step\n",
      "Epoch 38/50\n",
      "3/3 - 0s - loss: 0.0561 - val_loss: 0.2018 - 45ms/epoch - 15ms/step\n",
      "Epoch 39/50\n",
      "3/3 - 0s - loss: 0.0555 - val_loss: 0.1941 - 121ms/epoch - 40ms/step\n",
      "Epoch 40/50\n",
      "3/3 - 0s - loss: 0.0550 - val_loss: 0.1869 - 70ms/epoch - 23ms/step\n",
      "Epoch 41/50\n",
      "3/3 - 0s - loss: 0.0543 - val_loss: 0.1828 - 61ms/epoch - 20ms/step\n",
      "Epoch 42/50\n",
      "3/3 - 0s - loss: 0.0539 - val_loss: 0.1783 - 50ms/epoch - 17ms/step\n",
      "Epoch 43/50\n",
      "3/3 - 0s - loss: 0.0534 - val_loss: 0.1750 - 51ms/epoch - 17ms/step\n",
      "Epoch 44/50\n",
      "3/3 - 0s - loss: 0.0530 - val_loss: 0.1735 - 48ms/epoch - 16ms/step\n",
      "Epoch 45/50\n",
      "3/3 - 0s - loss: 0.0526 - val_loss: 0.1718 - 44ms/epoch - 15ms/step\n",
      "Epoch 46/50\n",
      "3/3 - 0s - loss: 0.0522 - val_loss: 0.1682 - 50ms/epoch - 17ms/step\n",
      "Epoch 47/50\n",
      "3/3 - 0s - loss: 0.0519 - val_loss: 0.1646 - 52ms/epoch - 17ms/step\n",
      "Epoch 48/50\n",
      "3/3 - 0s - loss: 0.0516 - val_loss: 0.1608 - 49ms/epoch - 16ms/step\n",
      "Epoch 49/50\n",
      "3/3 - 0s - loss: 0.0514 - val_loss: 0.1605 - 45ms/epoch - 15ms/step\n",
      "Epoch 50/50\n",
      "3/3 - 0s - loss: 0.0511 - val_loss: 0.1556 - 51ms/epoch - 17ms/step\n"
     ]
    },
    {
     "data": {
      "text/plain": [
       "<keras.src.callbacks.History at 0x1f7e7262c50>"
      ]
     },
     "execution_count": 5,
     "metadata": {},
     "output_type": "execute_result"
    }
   ],
   "source": [
    "# Build and Train the RNN Model\n",
    "model = Sequential()\n",
    "model.add(SimpleRNN(50, input_shape=(X_train.shape[1], X_train.shape[2])))\n",
    "model.add(Dense(1))\n",
    "model.compile(optimizer='adam', loss='mse')\n",
    "\n",
    "# Train the model\n",
    "model.fit(X_train, y_train, epochs=50, batch_size=32, validation_data=(X_test, y_test), verbose=2)"
   ]
  },
  {
   "cell_type": "code",
   "execution_count": 7,
   "id": "af61c511",
   "metadata": {},
   "outputs": [
    {
     "name": "stdout",
     "output_type": "stream",
     "text": [
      "1/1 [==============================] - 0s 46ms/step\n",
      "Mean Squared Error (MSE): 5929993.869004882\n",
      "Mean Absolute Error (MAE): 2285.7175682109523\n",
      "Mean Absolute Percentage Error (MAPE): 22.13%\n"
     ]
    }
   ],
   "source": [
    "# Evaluate the Model\n",
    "# Make predictions on the test set\n",
    "y_pred = model.predict(X_test)\n",
    "\n",
    "# Inverse transform the scaled predictions and actual values\n",
    "y_pred_inv = scaler.inverse_transform(np.column_stack((np.zeros_like(y_pred), y_pred)))[:, 1]\n",
    "y_test_inv = scaler.inverse_transform(np.column_stack((np.zeros_like(y_test), y_test)))[:, 1]\n",
    "\n",
    "# Calculate evaluation metrics\n",
    "mse = mean_squared_error(y_test_inv, y_pred_inv)\n",
    "mae = mean_absolute_error(y_test_inv, y_pred_inv)\n",
    "mape = np.mean(np.abs((y_test_inv - y_pred_inv) / y_test_inv)) * 100\n",
    "\n",
    "print(f'Mean Squared Error (MSE): {mse}')\n",
    "print(f'Mean Absolute Error (MAE): {mae}')\n",
    "print(f'Mean Absolute Percentage Error (MAPE): {mape:.2f}%')"
   ]
  },
  {
   "cell_type": "code",
   "execution_count": 8,
   "id": "cd18de6f",
   "metadata": {},
   "outputs": [
    {
     "name": "stdout",
     "output_type": "stream",
     "text": [
      "1/1 [==============================] - 0s 35ms/step\n"
     ]
    }
   ],
   "source": [
    "# Forecasting\n",
    "# Forecast for the next 12 periods\n",
    "future_periods = 12\n",
    "X_future = np.linspace(X[-1], X[-1] + future_periods, future_periods).reshape(-1, 1, 1)\n",
    "y_future_pred = model.predict(X_future)\n",
    "\n",
    "# Inverse transform the scaled predictions\n",
    "y_future_pred_inv = scaler.inverse_transform(np.column_stack((np.zeros_like(y_future_pred), y_future_pred)))[:, 1]\n",
    "\n",
    "# Create a date range for the future periods\n",
    "future_dates = pd.date_range(start=data.index[-1], periods=future_periods + 1, freq='M')[1:]"
   ]
  },
  {
   "cell_type": "code",
   "execution_count": 9,
   "id": "58186c04",
   "metadata": {},
   "outputs": [
    {
     "data": {
      "image/png": "[encoded data removed]",
      "text/plain": [
       "<Figure size 640x480 with 1 Axes>"
      ]
     },
     "metadata": {},
     "output_type": "display_data"
    }
   ],
   "source": [
    "# Plot the results\n",
    "plt.plot(data.index, data['total_visitor'], label='Actual')\n",
    "plt.plot(future_dates, y_future_pred_inv, label='Forecast')\n",
    "plt.legend()\n",
    "plt.show()"
   ]
  },
  {
   "cell_type": "markdown",
   "id": "777a4454",
   "metadata": {},
   "source": [
    "TEST SIZE 70:30"
   ]
  },
  {
   "cell_type": "markdown",
   "id": "de336f49",
   "metadata": {},
   "source": [
    "TEST SIZE 60:40"
   ]
  }
 ],
 "metadata": {
  "kernelspec": {
   "display_name": "Python 3",
   "language": "python",
   "name": "python3"
  },
  "language_info": {
   "codemirror_mode": {
    "name": "ipython",
    "version": 3
   },
   "file_extension": ".py",
   "mimetype": "text/x-python",
   "name": "python",
   "nbconvert_exporter": "python",
   "pygments_lexer": "ipython3",
   "version": "3.11.7"
  }
 },
 "nbformat": 4,
 "nbformat_minor": 5
}
