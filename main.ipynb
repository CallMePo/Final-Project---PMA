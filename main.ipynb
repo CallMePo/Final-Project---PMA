{
 "cells": [
  {
   "cell_type": "code",
   "execution_count": 2,
   "id": "initial_id",
   "metadata": {
    "collapsed": true,
    "ExecuteTime": {
     "end_time": "2023-12-11T08:07:14.600495500Z",
     "start_time": "2023-12-11T08:07:05.987298Z"
    }
   },
   "outputs": [
    {
     "name": "stdout",
     "output_type": "stream",
     "text": [
      "WARNING:tensorflow:From C:\\Users\\atrke\\AppData\\Local\\Programs\\Python\\Python39\\lib\\site-packages\\keras\\src\\losses.py:2976: The name tf.losses.sparse_softmax_cross_entropy is deprecated. Please use tf.compat.v1.losses.sparse_softmax_cross_entropy instead.\n"
     ]
    }
   ],
   "source": [
    "import tensorflow as tf\n",
    "import seaborn as sns\n",
    "import numpy as np\n",
    "import pandas as pd\n",
    "import matplotlib.pyplot as plt\n",
    "import sklearn.preprocessing\n",
    "from sklearn.metrics import r2_score\n",
    "from sklearn.preprocessing import MinMaxScaler\n",
    "from sklearn.model_selection import train_test_split\n",
    "from sklearn.metrics import mean_absolute_error, mean_squared_error\n",
    "from tensorflow.keras.callbacks import EarlyStopping\n",
    "from keras.layers import Dense,Dropout,SimpleRNN,LSTM,GRU\n",
    "from keras.models import Sequential\n",
    "from tensorflow import keras"
   ]
  },
  {
   "cell_type": "code",
   "execution_count": 3,
   "outputs": [
    {
     "data": {
      "text/plain": "      datetime  total_visitor  total_accomodation\n0     1/1/2014         164430               10055\n1     2/1/2014         137055               10079\n2     3/1/2014         167030               10132\n3     4/1/2014         151982               10190\n4     5/1/2014         154299               10274\n..         ...            ...                 ...\n103   8/1/2022          79470               15449\n104   9/1/2022         104652               15502\n105  10/1/2022         106160               15525\n106  11/1/2022         103940               15612\n107  12/1/2022         188544               16229\n\n[108 rows x 3 columns]",
      "text/html": "<div>\n<style scoped>\n    .dataframe tbody tr th:only-of-type {\n        vertical-align: middle;\n    }\n\n    .dataframe tbody tr th {\n        vertical-align: top;\n    }\n\n    .dataframe thead th {\n        text-align: right;\n    }\n</style>\n<table border=\"1\" class=\"dataframe\">\n  <thead>\n    <tr style=\"text-align: right;\">\n      <th></th>\n      <th>datetime</th>\n      <th>total_visitor</th>\n      <th>total_accomodation</th>\n    </tr>\n  </thead>\n  <tbody>\n    <tr>\n      <th>0</th>\n      <td>1/1/2014</td>\n      <td>164430</td>\n      <td>10055</td>\n    </tr>\n    <tr>\n      <th>1</th>\n      <td>2/1/2014</td>\n      <td>137055</td>\n      <td>10079</td>\n    </tr>\n    <tr>\n      <th>2</th>\n      <td>3/1/2014</td>\n      <td>167030</td>\n      <td>10132</td>\n    </tr>\n    <tr>\n      <th>3</th>\n      <td>4/1/2014</td>\n      <td>151982</td>\n      <td>10190</td>\n    </tr>\n    <tr>\n      <th>4</th>\n      <td>5/1/2014</td>\n      <td>154299</td>\n      <td>10274</td>\n    </tr>\n    <tr>\n      <th>...</th>\n      <td>...</td>\n      <td>...</td>\n      <td>...</td>\n    </tr>\n    <tr>\n      <th>103</th>\n      <td>8/1/2022</td>\n      <td>79470</td>\n      <td>15449</td>\n    </tr>\n    <tr>\n      <th>104</th>\n      <td>9/1/2022</td>\n      <td>104652</td>\n      <td>15502</td>\n    </tr>\n    <tr>\n      <th>105</th>\n      <td>10/1/2022</td>\n      <td>106160</td>\n      <td>15525</td>\n    </tr>\n    <tr>\n      <th>106</th>\n      <td>11/1/2022</td>\n      <td>103940</td>\n      <td>15612</td>\n    </tr>\n    <tr>\n      <th>107</th>\n      <td>12/1/2022</td>\n      <td>188544</td>\n      <td>16229</td>\n    </tr>\n  </tbody>\n</table>\n<p>108 rows × 3 columns</p>\n</div>"
     },
     "execution_count": 3,
     "metadata": {},
     "output_type": "execute_result"
    }
   ],
   "source": [
    "df=pd.read_csv('KepRiau 2015 - 2022.csv')\n",
    "df"
   ],
   "metadata": {
    "collapsed": false,
    "ExecuteTime": {
     "end_time": "2023-12-11T08:07:16.641871Z",
     "start_time": "2023-12-11T08:07:16.578749900Z"
    }
   },
   "id": "ebe5587b0867903b"
  },
  {
   "cell_type": "code",
   "execution_count": null,
   "outputs": [],
   "source": [],
   "metadata": {
    "collapsed": false
   },
   "id": "fb4686b8d77f00a6"
  }
 ],
 "metadata": {
  "kernelspec": {
   "display_name": "Python 3",
   "language": "python",
   "name": "python3"
  },
  "language_info": {
   "codemirror_mode": {
    "name": "ipython",
    "version": 2
   },
   "file_extension": ".py",
   "mimetype": "text/x-python",
   "name": "python",
   "nbconvert_exporter": "python",
   "pygments_lexer": "ipython2",
   "version": "2.7.6"
  }
 },
 "nbformat": 4,
 "nbformat_minor": 5
}
